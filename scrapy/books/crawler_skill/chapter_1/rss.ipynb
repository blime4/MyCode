{
 "cells": [
  {
   "cell_type": "code",
   "execution_count": 1,
   "metadata": {},
   "outputs": [],
   "source": [
    "from urllib.request import urlopen\n",
    "from bs4 import BeautifulSoup\n",
    "import json"
   ]
  },
  {
   "cell_type": "code",
   "execution_count": 10,
   "metadata": {},
   "outputs": [
    {
     "data": {
      "text/plain": [
       "<?xml version=\"1.0\" encoding=\"utf-8\"?>\n",
       "<?xml-stylesheet type=\"text/css\" href=\"rsstyle.css\"?>\n",
       "<rss version=\"2.0\">\n",
       "<channel>\n",
       "<title>中新网即时新闻</title>\n",
       "<image/>\n",
       "<title>中新网即时新闻</title>\n",
       "<link/>http://www.chinanews.com/scroll-news/news1.html\n",
       "  <url>http://www.chinanews.com/images/images1/logo2.gif</url>\n",
       "<description></description>\n",
       "<link/>http://www.chinanews.com/scroll-news/news1.html\n",
       "<language>zh-cn</language>\n",
       "<item><title>快递小哥救火后不留名 工厂老板查监控寻觅恩人</title><link/>http://www.chinanews.com/sh/2019/10-17/8981695.shtml<description>\n",
       "　　快递小哥救火后不留名</description><pubdate>2019-10-17 16:01:40</pubdate></item><item><title>惠州仲恺税务“党建直通车” 助推税企共谋发展</title><link/>http://www.chinanews.com/kong/2019/10-17/8981721.shtml<description>\n",
       "　　近日，在《旗帜》杂志社、深圳市直机关工委联合举办的第二届党建创新成果展示活动评选中，国家税务总局惠州仲恺高新技术产业开发区税务局(以下简称“仲恺税务”)凭借《“党建直通车”开进“飞地”企业，“4342”工作法助税企共谋发展》案例获得十佳案例。</description><pubdate>2019-10-17 16:00:38</pubdate></item><item><title>法官教你避开装修纠纷 包工包料到底该包什么？</title><link/>http://www.chinanews.com/cj/2019/10-17/8981720.shtml<description>\n",
       "　　“金九银十”，如今正是家装旺季。今天上午，西城法院到新街口西里三区召开家装合同纠纷通报会。会上通报，西城法院近5年来审理的家装案件呈逐年上升趋势。法官以案说法，对家装纠纷热点问题进行了详细解读，教居民们如何通过增强防范意识、妥善签订合同避免纠纷、减少损失。</description><pubdate>2019-10-17 15:59:51</pubdate></item><item><title>重庆警方破获一起侵犯公民个人信息案</title><link/>http://www.chinanews.com/sh/2019/10-17/8981719.shtml<description>\n",
       "　　新华社重庆10月17日电(记者谷训)近日，重庆警方成功侦破一起侵犯公民个人信息案，抓获非法出售公民个人信息嫌疑人两名，查获公民个人信息300余万条。</description><pubdate>2019-10-17 15:59:35</pubdate></item><item><title>加纳官员：中国扶贫成就为加纳提供宝贵经验</title><link/>http://www.chinanews.com/gj/2019/10-17/8981718.shtml<description>\n",
       "　　新华社阿克拉10月16日电(记者许正)加纳北部开发局联络部官员乔治·夸贝纳近日接受新华社采访时表示，中国在过去数十年中的扶贫成就为加纳提供了宝贵经验。</description><pubdate>2019-10-17 15:59:01</pubdate></item><item><title>欧盟峰会开幕在即 默克尔：尚未与英国达成脱欧协议</title><link/>http://www.chinanews.com/gj/2019/10-17/8981716.shtml<description>\n",
       "　　中新网10月17日电 据外媒报道，英国脱欧的最后期限迫近，与欧盟的谈判也进入冲刺阶段。德国总理默克尔17日表示，与伦敦的谈判正朝着积极的方向发展，但她强调，双方尚未达成协议。</description><pubdate>2019-10-17 15:58:21</pubdate></item><item><title>银行争抢ETC客源 别“疯得没边”</title><link/>http://www.chinanews.com/sh/2019/10-17/8981660.shtml<description>\n",
       "　　银行争抢ETC客源 别“疯得没边”</description><pubdate>2019-10-17 15:57:48</pubdate></item><item><title>湖南省取缔辖内全部网贷机构P2P业务</title><link/>http://www.chinanews.com/sh/2019/10-17/8981717.shtml<description>\n",
       "　　新华社长沙10月17日电(记者阳建)湖南省地方金融监督管理局官网日前发布公告称，取缔湖南省辖内全部网贷机构的P2P业务。这意味着湖南打出了整治P2P网贷的重拳。</description><pubdate>2019-10-17 15:57:36</pubdate></item><item><title>共享数据库：“信用长三角”取得新进展</title><link/>http://www.chinanews.com/sh/2019/10-17/8981713.shtml<description>\n",
       "　　新华社上海10月17日电(记者周琳)记者17日从上海市青浦区获悉，上海市青浦区、江苏省苏州市吴江区以及浙江省嘉兴市嘉善县三地，近日正式签订长三角生态绿色一体化发展示范区信用合作备忘录，三地将统一信用数据、共享数据库，震泽镇“信用小镇”创建工作也同步启动。</description><pubdate>2019-10-17 15:56:40</pubdate></item><item><title>让“母亲河”成为“幸福河” 习近平明晰黄河保护发展路径</title><link/>http://www.chinanews.com/gn/2019/10-17/8981698.shtml<description>\n",
       "　　(近观中国)让“母亲河”成为“幸福河” 习近平明晰黄河保护发展路径</description><pubdate>2019-10-17 15:54:51</pubdate></item><item><title>新中国峥嵘岁月 | 百万大裁军</title><link/>http://www.chinanews.com/gn/2019/10-17/8981711.shtml<description>\n",
       "　　新华社北京10月17日电  题：百万大裁军</description><pubdate>2019-10-17 15:54:43</pubdate></item><item><title>中华民族治理黄河史也是一部治国史</title><link/>http://www.chinanews.com/gn/2019/10-17/8981707.shtml<description>\n",
       "　　黄河是中华民族的母亲河、生命河，也是一条桀骜难驯的忧患之河。自古以来，黄河治理就是困扰中华民族的大难题。黄河安澜、海晏河清，是中华民族的千年梦想。</description><pubdate>2019-10-17 15:53:49</pubdate></item><item><title>日本拟加入美月球探索计划：2024年前送宇航员登月</title><link/>http://www.chinanews.com/gj/2019/10-17/8981652.shtml<description>\n",
       "　　中新网10月17日电 据日本共同社报道，日本内阁府宇宙政策委员会17日决定，参与美国月球探索计划，希望在2024年之前，把宇航员送上月球。</description><pubdate>2019-10-17 15:53:21</pubdate></item><item><title>43%的受访者报名国考先考虑岗位</title><link/>http://www.chinanews.com/business/2019/10-17/8981709.shtml<description>\n",
       "　　中国青年报客户端北京10月17日电( 中国青年报·中国青年网记者 王聪聪 黄毅 实习生 孔媛媛)2020年度国家公务员考试报名进行中，年轻人对国考怎么看？截至10月17日上午10点，中国青年报官方微博进行的调查显示(6943人参与)，41.2%的受访者认为是一种职业选择——“就业难，试一试”，26.6%的受访者有志于从事公务员职业——“喜欢、很适合”，17.1%的受访者选择“跟风、求安稳”，15.0%的受访者选择“不会报考”。</description><pubdate>2019-10-17 15:53:15</pubdate></item><item><title>安倍晋三向靖国神社供奉祭品 外交部：已提出严正交涉</title><link/>http://www.chinanews.com/gn/2019/10-17/8981708.shtml<description>\n",
       "　　10月17日，外交部发言人耿爽主持例行记者会。</description><pubdate>2019-10-17 15:52:23</pubdate></item><item><title>大马霹雳州怡保南安会馆将设文教中心宣传中华文化</title><link/>http://www.chinanews.com/hr/2019/10-17/8981661.shtml<description>\n",
       "　　中国侨网10月17日电 据马来西亚《星洲日报》报道，日前，马来西亚霹雳州怡保南安会馆会所装修即将结束，该会馆会长魏炳贵表示，装修全面完成后，该会馆将设立文教中心及图书馆，发扬中华传统文化。</description><pubdate>2019-10-17 15:51:02</pubdate></item><item><title>航拍南京农业大学菊花基地 姹紫嫣红呈现斑斓世界</title><link/>http://www.chinanews.com/tp/2019/10-17/8981696.shtml<description>\n",
       "\n",
       "各色菊花组成了彩色线条。　泱波　摄\n",
       "\n",
       "菊花迷宫。　泱波　摄\n",
       "\n",
       "该基地的菊花几乎囊括了所有颜色，除了常见的赤橙黄青白粉紫外，还有罕见的绿色；形状上，除了荷花形、乒乓形、风车形，还有松针形。有的单朵菊花上就汇集了好几种颜色。　泱波　摄\n",
       "\n",
       "菊花除了观赏，还可以喝、可以吃。　泱波　摄\n",
       "\n",
       "　　10月17日，航拍位于南京江宁湖熟的南京农业大学菊花基地，姹紫嫣红呈现斑斓世界。据了解，该基地占地120多亩，保存了5000多份菊花资源、3000多个品种，是菊花种质资源保存中心和菊花基因库。</description><pubdate>2019-10-17 15:50:36</pubdate></item><item><title>为应对台风灾情 日本推迟天皇登基后的游行庆祝活动</title><link/>http://www.chinanews.com/gj/2019/10-17/8981701.shtml<description>\n",
       "　　为尽全力处理台风灾情 日本政府推迟天皇登基后的游行庆祝活动</description><pubdate>2019-10-17 15:50:18</pubdate></item><item><title>朝阳区建成162家养老驿站</title><link/>http://www.chinanews.com/sh/2019/10-17/8981705.shtml<description>\n",
       "\n",
       "　　今天，向融养老驿站内，护工在与老年人一同制作手工。本报记者 武亦彬 摄\n",
       "\n",
       "　　本报讯(记者朱松梅 通讯员康艺)记者今天从朝阳区获悉，该区今年建成养老驿站23家。目前，全区养老驿站总数达到了162家，居民可在家门口安享老年生活。</description><pubdate>2019-10-17 15:49:46</pubdate></item><item><title>美国高速旁塑料袋内发现女婴 距安全箱不足1英里</title><link/>http://www.chinanews.com/gj/2019/10-17/8981658.shtml<description>\n",
       "　　中新网10月17日电 据外媒报道，当地时间15日，美国印第安那州警方接到报案，有人在高速旁的塑料袋中，发现一名仅出生几个小时就被遗弃的女婴，而这个地方距离可供父母遗弃婴儿用的“安全箱”，不足一英里。目前，婴儿健康状况良好，但警方仍在寻找她的父母。</description><pubdate>2019-10-17 15:49:44</pubdate></item><item><title>这三国卷入油轮遇袭案？伊朗称将向联合国提交证据</title><link/>http://www.chinanews.com/gj/2019/10-17/8981706.shtml<description>\n",
       "　　中新网10月17日电 据俄罗斯卫星网17日报道，伊朗一名资深议员指责美国、以色列和沙特阿拉伯近日在红海袭击了一艘伊朗油轮，并承诺将此事提交给联合国处理。</description><pubdate>2019-10-17 15:49:38</pubdate></item><item><title>今年降温快 铁路秋季大修提前启动</title><link/>http://www.chinanews.com/sh/2019/10-17/8981703.shtml<description>\n",
       "\n",
       "　　“京张铁路71公里第29号轨道右股在探伤时发现有裂伤，今天申请‘天窗点’进行更换。”昨天上午，中国铁路北京局集团有限公司北京工务段康庄线路车间青龙桥养路工区工长闫全忠拾掇着手边一片铁家伙，准备上线换轨。吊轨车、翻轨器、内燃机扳手、撬棍……每样铁疙瘩都得有几十斤重，但52岁的老闫已经跟它们打了几十年交道，家伙什儿早就盘得锃亮。今年降温快，北京工务段从10月1日起，就提前启动了秋季大修。</description><pubdate>2019-10-17 15:47:51</pubdate></item><item><title>韩将调查122名高收入逃税嫌疑人 包括艺人、网红等</title><link/>http://www.chinanews.com/gj/2019/10-17/8981702.shtml<description>\n",
       "　　中新网10月17日电 据韩媒报道，韩国税务厅开始着手对隐瞒收入、逃避纳税、享有奢华生活的艺人、人气网络视频博主等高收入人群，展开大规模的税务调查。</description><pubdate>2019-10-17 15:47:49</pubdate></item><item><title>11处京籍文物列入第八批全国重点文物保护名单 </title><link/>http://www.chinanews.com/cul/2019/10-17/8981704.shtml<description>\n",
       "　　本报讯(记者刘冕)昨天，国务院核定并公布《第八批全国重点文物保护单位名单》，上宅遗址、双清别墅、北京站车站大楼等11处京籍文物榜上有名。其中，9处为新跻身国保行列的，还有通州燃灯塔、圣米厄尔教堂两处与现有国保单位合并。值得关注的是，9处新国保中，原子能“一堆一器”旧址、北京站车站大楼和宋庆龄儿童科学技术馆3处是直接从“白丁”身份一跃成为国保单位。</description><pubdate>2019-10-17 15:47:19</pubdate></item><item><title>VR之光照亮新经济未来——江西提质加速构建VR产业生态圈</title><link/>http://www.chinanews.com/yl/2019/10-17/8981700.shtml<description>\n",
       "　　新华社南昌10月17日电 题：VR之光照亮新经济未来——江西提质加速构建VR产业生态圈</description><pubdate>2019-10-17 15:46:49</pubdate></item><item><title>世界500强企业亮成果 中关村论坛展览国际范儿十足</title><link/>http://www.chinanews.com/gn/2019/10-17/8981697.shtml<description>\n",
       "\n",
       "　　在中关村国际前沿科技成果展上，观众驻足观看智能休息舱系统。 本报记者 饶强摄</description><pubdate>2019-10-17 15:46:15</pubdate></item><item><title>山东荣成天鹅湖迎来今冬首批大天鹅“移民”</title><link/>http://www.chinanews.com/sh/2019/10-17/8981694.shtml<description>\n",
       "　　新华社济南10月17日电(记者王阳)在山东荣成市大天鹅国家级自然保护区，工作人员近日在天鹅湖巡护发现11只大天鹅，这是今冬以来荣成越冬的首批大天鹅。</description><pubdate>2019-10-17 15:45:55</pubdate></item><item><title>珠海第四条对澳门供水管道通水 形成双向供水格局</title><link/>http://www.chinanews.com/ga/2019/10-17/8981674.shtml<description>\n",
       "　　中新社珠海10月17日电 (邓媛雯 罗步刚)“纪念对澳供水60周年暨第四条对澳供水管道工程通水仪式”17日在珠海洪湾泵站举行。</description><pubdate>2019-10-17 15:45:41</pubdate></item><item><title>河北“举报红人”李志敏改判无罪 获67万国家赔偿不满</title><link/>http://www.chinanews.com/sh/2019/10-17/8981693.shtml<description>\n",
       "　　新京报讯(记者 李一凡)河北“举报红人”李志敏被控敲诈勒索、重婚罪一案，重审改判无罪。李志敏以“被羁押四年三个月”为由提起国家赔偿申请。今日(10月17日)，新京报记者从河北滦州法院及李志敏国家赔偿代理律师朱孝顶处获知，李志敏一案，滦州法院已做出国家赔偿决定，赔偿李志敏被侵犯人身自由、精神损害抚慰金、扣押物品贬值损失等共计76.4万余元。李志敏对此表示不满意，将考虑申诉。</description><pubdate>2019-10-17 15:45:25</pubdate></item><item><title>甘肃：助盲就业脱贫不松劲</title><link/>http://www.chinanews.com/sh/2019/10-17/8981692.shtml<description>\n",
       "　　新华社兰州10月17日电(记者张智敏、王铭禹)你搭着我的肩，我拉着你的手……刚刚结束初级盲人保健按摩培训的100名视力残障学员，在工作人员的引导下，秩序井然地同盲人按摩机构进行就业洽谈。这是记者日前在甘肃省人力资源市场的一场就业推介会上看到的一幕。</description><pubdate>2019-10-17 15:45:03</pubdate></item>\n",
       "</channel>\n",
       "</rss>"
      ]
     },
     "execution_count": 10,
     "metadata": {},
     "output_type": "execute_result"
    }
   ],
   "source": [
    "\n",
    "r = urlopen('http://www.chinanews.com/rss/scroll-news.xml')\n",
    "rss = BeautifulSoup(r.read(), 'html.parser')\n",
    "rss"
   ]
  },
  {
   "cell_type": "code",
   "execution_count": 14,
   "metadata": {},
   "outputs": [],
   "source": [
    "items = rss.find_all('item')"
   ]
  },
  {
   "cell_type": "code",
   "execution_count": 18,
   "metadata": {},
   "outputs": [
    {
     "name": "stdout",
     "output_type": "stream",
     "text": [
      "<title>快递小哥救火后不留名 工厂老板查监控寻觅恩人</title>\n",
      "<title>惠州仲恺税务“党建直通车” 助推税企共谋发展</title>\n",
      "<title>法官教你避开装修纠纷 包工包料到底该包什么？</title>\n",
      "<title>重庆警方破获一起侵犯公民个人信息案</title>\n",
      "<title>加纳官员：中国扶贫成就为加纳提供宝贵经验</title>\n",
      "<title>欧盟峰会开幕在即 默克尔：尚未与英国达成脱欧协议</title>\n",
      "<title>银行争抢ETC客源 别“疯得没边”</title>\n",
      "<title>湖南省取缔辖内全部网贷机构P2P业务</title>\n",
      "<title>共享数据库：“信用长三角”取得新进展</title>\n",
      "<title>让“母亲河”成为“幸福河” 习近平明晰黄河保护发展路径</title>\n",
      "<title>新中国峥嵘岁月 | 百万大裁军</title>\n",
      "<title>中华民族治理黄河史也是一部治国史</title>\n",
      "<title>日本拟加入美月球探索计划：2024年前送宇航员登月</title>\n",
      "<title>43%的受访者报名国考先考虑岗位</title>\n",
      "<title>安倍晋三向靖国神社供奉祭品 外交部：已提出严正交涉</title>\n",
      "<title>大马霹雳州怡保南安会馆将设文教中心宣传中华文化</title>\n",
      "<title>航拍南京农业大学菊花基地 姹紫嫣红呈现斑斓世界</title>\n",
      "<title>为应对台风灾情 日本推迟天皇登基后的游行庆祝活动</title>\n",
      "<title>朝阳区建成162家养老驿站</title>\n",
      "<title>美国高速旁塑料袋内发现女婴 距安全箱不足1英里</title>\n",
      "<title>这三国卷入油轮遇袭案？伊朗称将向联合国提交证据</title>\n",
      "<title>今年降温快 铁路秋季大修提前启动</title>\n",
      "<title>韩将调查122名高收入逃税嫌疑人 包括艺人、网红等</title>\n",
      "<title>11处京籍文物列入第八批全国重点文物保护名单 </title>\n",
      "<title>VR之光照亮新经济未来——江西提质加速构建VR产业生态圈</title>\n",
      "<title>世界500强企业亮成果 中关村论坛展览国际范儿十足</title>\n",
      "<title>山东荣成天鹅湖迎来今冬首批大天鹅“移民”</title>\n",
      "<title>珠海第四条对澳门供水管道通水 形成双向供水格局</title>\n",
      "<title>河北“举报红人”李志敏改判无罪 获67万国家赔偿不满</title>\n",
      "<title>甘肃：助盲就业脱贫不松劲</title>\n"
     ]
    }
   ],
   "source": [
    "for item in items:\n",
    "    print(item.title)"
   ]
  },
  {
   "cell_type": "code",
   "execution_count": null,
   "metadata": {},
   "outputs": [],
   "source": []
  }
 ],
 "metadata": {
  "kernelspec": {
   "display_name": "Python 3",
   "language": "python",
   "name": "python3"
  },
  "language_info": {
   "codemirror_mode": {
    "name": "ipython",
    "version": 3
   },
   "file_extension": ".py",
   "mimetype": "text/x-python",
   "name": "python",
   "nbconvert_exporter": "python",
   "pygments_lexer": "ipython3",
   "version": "3.7.3"
  }
 },
 "nbformat": 4,
 "nbformat_minor": 2
}
