{
 "cells": [
  {
   "cell_type": "code",
   "execution_count": 132,
   "metadata": {},
   "outputs": [],
   "source": [
    "from collections import defaultdict\n",
    "import prettytable as pt\n",
    "import numpy as np\n",
    "import pandas as pd"
   ]
  },
  {
   "cell_type": "code",
   "execution_count": 133,
   "metadata": {
    "tags": []
   },
   "outputs": [
    {
     "output_type": "stream",
     "name": "stdout",
     "text": "产生式:\n\n[\"E->TE'\", \"E'->+TE'\", \"E'->ε\", \"T->FT'\", \"T'->*FT'\", \"T'->ε\", 'F->(E)', 'F->i']\n终结符:\n\n['+', 'ε', '*', ')', '(', 'i', '#']\n非终结符:\n\n['E', 'T', \"E'\", 'F', \"T'\"]\n"
    }
   ],
   "source": [
    "production = [] \n",
    "Vt = []\n",
    "Vn = []\n",
    "start = ''\n",
    "tag = True\n",
    "with open(\"./test.txt\",\"r\",encoding='utf-8') as gramma:\n",
    "    for i in gramma:\n",
    "        pro0 = i.split('-')[0]\n",
    "        pro1 = i.split('>')[1]\n",
    "        if tag:\n",
    "            start = pro0\n",
    "            tag = False\n",
    "        if pro0 not in Vn:\n",
    "            Vn.append(pro0)\n",
    "        # print (pro1)\n",
    "        a = pro1.split('|')\n",
    "        for b in a:\n",
    "            pro2 = b.split('\\n')[0]\n",
    "            pro3 = pro2[::-1]\n",
    "            # print(pro3)\n",
    "            for c in range(len(pro2)):\n",
    "                if pro3[c]==\"'\":\n",
    "                    Vtemp = pro3[c+1]+pro3[c]\n",
    "                    # print(Vtemp)\n",
    "                    c += 1\n",
    "                    continue\n",
    "                if pro3[c].isupper():\n",
    "                    if pro3[c] not in Vn:\n",
    "                        Vn.append(pro3[c])\n",
    "                else :\n",
    "                    if pro3[c] not in Vt:\n",
    "                        Vt.append(pro3[c])\n",
    "            production.append(pro0+\"->\"+pro2)\n",
    "    Vt.append('#')\n",
    "    print(\"产生式:\\n\")\n",
    "    print(production)\n",
    "    print(\"终结符:\\n\")\n",
    "    print(Vt)    \n",
    "    print(\"非终结符:\\n\")\n",
    "    print(Vn)"
   ]
  },
  {
   "cell_type": "code",
   "execution_count": 134,
   "metadata": {},
   "outputs": [],
   "source": [
    "def getFirst(curVn):\n",
    "    if first[curVn]!=set():\n",
    "        return first[curVn]\n",
    "    l = len(curVn)\n",
    "    for p in production:\n",
    "        if l==1 and p[1]=='\\'':\n",
    "            continue\n",
    "        if p[:l] == curVn:\n",
    "            # print(p)\n",
    "            # print(p[l+2:l+3])\n",
    "            if p[l+2:l+3] in Vt:\n",
    "                first[curVn].add(p[l+2:l+3])\n",
    "            else:\n",
    "                a = p[l+2:l+3]\n",
    "                if p[l+3:l+4] == '\\'':\n",
    "                    a = str(p[l+2:l+4])\n",
    "                if first[a]==set():\n",
    "                    first[curVn]=set(getFirst(a))\n",
    "                else:\n",
    "                    first[curVn]=set(first[curVn])\n",
    "    return first[curVn]\n"
   ]
  },
  {
   "cell_type": "code",
   "execution_count": 135,
   "metadata": {},
   "outputs": [],
   "source": [
    "def getFollow(curVn):\n",
    "    if curVn == start:\n",
    "        follow[curVn].add('#')\n",
    "    if curVn != start and follow[curVn]!=set():\n",
    "        return follow[curVn]\n",
    "    l = len(curVn)\n",
    "    for p in production:\n",
    "        l1 = len(p)\n",
    "        for i in range(3,l1):\n",
    "            if p[i]==\">\":\n",
    "                continue\n",
    "            if p[i:i+l]!=curVn:\n",
    "                continue\n",
    "            if i == l1-l:\n",
    "                if p[1]==\"'\":\n",
    "                    follow[curVn]=set(getFollow(p[:2]))\n",
    "                else:\n",
    "                    follow[curVn]=set(getFollow(p[0]))\n",
    "                continue\n",
    "            p1 = p[i+l]\n",
    "            if p1 in Vt:\n",
    "                follow[curVn].add(p1)\n",
    "            elif p1 in Vn:\n",
    "                follow[curVn]=follow[curVn] | first[p1]\n",
    "                if p[1]==\"'\":\n",
    "                    follow[curVn]=follow[curVn] | set(getFollow(p[:2]))\n",
    "                else:\n",
    "                    follow[curVn]=follow[curVn] | set(getFollow(p[0]))\n",
    "                if 'ε' in follow[curVn]:\n",
    "                    follow[curVn].discard('ε')\n",
    "    return follow[curVn]"
   ]
  },
  {
   "cell_type": "code",
   "execution_count": 136,
   "metadata": {
    "tags": []
   },
   "outputs": [],
   "source": [
    "first=defaultdict(set)\n",
    "follow=defaultdict(set)\n"
   ]
  },
  {
   "cell_type": "code",
   "execution_count": 137,
   "metadata": {
    "tags": []
   },
   "outputs": [
    {
     "output_type": "stream",
     "name": "stdout",
     "text": "defaultdict(<class 'set'>, {'E': {'(', 'i'}, 'T': {'(', 'i'}, 'F': {'(', 'i'}, \"E'\": {'+', 'ε'}, \"T'\": {'*', 'ε'}})\ndefaultdict(<class 'set'>, {'E': {')', '#'}, 'T': {'(', 'i', ')', '#'}, \"E'\": {')', '#'}, 'F': {'(', ')', '#', 'i'}, \"T'\": {'(', 'i', ')', '#'}})\n"
    }
   ],
   "source": [
    "for curVn in Vn:\n",
    "    getFirst(curVn)\n",
    "    getFollow(curVn)\n",
    "print(first)\n",
    "print(follow)"
   ]
  },
  {
   "cell_type": "code",
   "execution_count": 147,
   "metadata": {
    "tags": []
   },
   "outputs": [
    {
     "output_type": "stream",
     "name": "stdout",
     "text": "['(', 'i']\n['+']\n['ε']\n['(', 'i']\n['*']\n['ε']\n['(']\n['i']\n"
    }
   ],
   "source": [
    "for curPro in production:\n",
    "    res = []\n",
    "    for i in range(3,len(curPro)):\n",
    "        if curPro[i]==\">\":\n",
    "            continue\n",
    "        if curPro[i] in Vt:\n",
    "            res.append(curPro[i])\n",
    "            break\n",
    "        else:\n",
    "            if curPro[i+1] ==\"'\":\n",
    "                l = 2\n",
    "            else:\n",
    "                l = 1\n",
    "            if curPro[i:i+l] in Vn:\n",
    "                if \"ε\" in first[curPro[i:i+l]]:\n",
    "                    res.extend(first[curPro])\n",
    "                else:\n",
    "                    res.extend(first[curPro[i:i+l]])\n",
    "                    break\n",
    "    res = list(set(res))\n",
    "    print(res)"
   ]
  },
  {
   "cell_type": "code",
   "execution_count": 139,
   "metadata": {},
   "outputs": [],
   "source": [
    "def getStringFirst(curPro):\n",
    "    res = []\n",
    "    for i in range(3,len(curPro)):\n",
    "        if curPro[i]==\">\":\n",
    "            continue\n",
    "        if curPro[i] in Vt:\n",
    "            res.append(curPro[i])\n",
    "            break\n",
    "        else:\n",
    "            if curPro[i+1] ==\"'\":\n",
    "                l = 2\n",
    "            else:\n",
    "                l = 1\n",
    "            if curPro[i:i+l] in Vn:\n",
    "                if \"ε\" in first[curPro[i:i+l]]:\n",
    "                    res.extend(first[curPro])\n",
    "                else:\n",
    "                    res.extend(first[curPro[i:i+l]])\n",
    "                    break\n",
    "    res = list(set(res))\n",
    "    return res"
   ]
  },
  {
   "cell_type": "code",
   "execution_count": 140,
   "metadata": {},
   "outputs": [
    {
     "output_type": "execute_result",
     "data": {
      "text/plain": "     +   ε   *   )   (   i   #\nE   []  []  []  []  []  []  []\nT   []  []  []  []  []  []  []\nE'  []  []  []  []  []  []  []\nF   []  []  []  []  []  []  []\nT'  []  []  []  []  []  []  []",
      "text/html": "<div>\n<style scoped>\n    .dataframe tbody tr th:only-of-type {\n        vertical-align: middle;\n    }\n\n    .dataframe tbody tr th {\n        vertical-align: top;\n    }\n\n    .dataframe thead th {\n        text-align: right;\n    }\n</style>\n<table border=\"1\" class=\"dataframe\">\n  <thead>\n    <tr style=\"text-align: right;\">\n      <th></th>\n      <th>+</th>\n      <th>ε</th>\n      <th>*</th>\n      <th>)</th>\n      <th>(</th>\n      <th>i</th>\n      <th>#</th>\n    </tr>\n  </thead>\n  <tbody>\n    <tr>\n      <th>E</th>\n      <td>[]</td>\n      <td>[]</td>\n      <td>[]</td>\n      <td>[]</td>\n      <td>[]</td>\n      <td>[]</td>\n      <td>[]</td>\n    </tr>\n    <tr>\n      <th>T</th>\n      <td>[]</td>\n      <td>[]</td>\n      <td>[]</td>\n      <td>[]</td>\n      <td>[]</td>\n      <td>[]</td>\n      <td>[]</td>\n    </tr>\n    <tr>\n      <th>E'</th>\n      <td>[]</td>\n      <td>[]</td>\n      <td>[]</td>\n      <td>[]</td>\n      <td>[]</td>\n      <td>[]</td>\n      <td>[]</td>\n    </tr>\n    <tr>\n      <th>F</th>\n      <td>[]</td>\n      <td>[]</td>\n      <td>[]</td>\n      <td>[]</td>\n      <td>[]</td>\n      <td>[]</td>\n      <td>[]</td>\n    </tr>\n    <tr>\n      <th>T'</th>\n      <td>[]</td>\n      <td>[]</td>\n      <td>[]</td>\n      <td>[]</td>\n      <td>[]</td>\n      <td>[]</td>\n      <td>[]</td>\n    </tr>\n  </tbody>\n</table>\n</div>"
     },
     "metadata": {},
     "execution_count": 140
    }
   ],
   "source": [
    "data = [[[] for i in range(len(Vt))] for i in range(len(Vn))]\n",
    "M = pd.DataFrame(data=data,index=Vn,columns=Vt)\n",
    "M"
   ]
  },
  {
   "cell_type": "code",
   "execution_count": 141,
   "metadata": {
    "tags": []
   },
   "outputs": [
    {
     "output_type": "execute_result",
     "data": {
      "text/plain": "             +   ε           *        )         (         i        #\nE           []  []          []       []  [E->TE']  [E->TE']       []\nT           []  []          []       []  [T->FT']  [T->FT']       []\nE'  [E'->+TE']  []          []  [E'->ε]        []        []  [E'->ε]\nF           []  []          []       []  [F->(E)]    [F->i]       []\nT'          []  []  [T'->*FT']  [T'->ε]   [T'->ε]   [T'->ε]  [T'->ε]",
      "text/html": "<div>\n<style scoped>\n    .dataframe tbody tr th:only-of-type {\n        vertical-align: middle;\n    }\n\n    .dataframe tbody tr th {\n        vertical-align: top;\n    }\n\n    .dataframe thead th {\n        text-align: right;\n    }\n</style>\n<table border=\"1\" class=\"dataframe\">\n  <thead>\n    <tr style=\"text-align: right;\">\n      <th></th>\n      <th>+</th>\n      <th>ε</th>\n      <th>*</th>\n      <th>)</th>\n      <th>(</th>\n      <th>i</th>\n      <th>#</th>\n    </tr>\n  </thead>\n  <tbody>\n    <tr>\n      <th>E</th>\n      <td>[]</td>\n      <td>[]</td>\n      <td>[]</td>\n      <td>[]</td>\n      <td>[E-&gt;TE']</td>\n      <td>[E-&gt;TE']</td>\n      <td>[]</td>\n    </tr>\n    <tr>\n      <th>T</th>\n      <td>[]</td>\n      <td>[]</td>\n      <td>[]</td>\n      <td>[]</td>\n      <td>[T-&gt;FT']</td>\n      <td>[T-&gt;FT']</td>\n      <td>[]</td>\n    </tr>\n    <tr>\n      <th>E'</th>\n      <td>[E'-&gt;+TE']</td>\n      <td>[]</td>\n      <td>[]</td>\n      <td>[E'-&gt;ε]</td>\n      <td>[]</td>\n      <td>[]</td>\n      <td>[E'-&gt;ε]</td>\n    </tr>\n    <tr>\n      <th>F</th>\n      <td>[]</td>\n      <td>[]</td>\n      <td>[]</td>\n      <td>[]</td>\n      <td>[F-&gt;(E)]</td>\n      <td>[F-&gt;i]</td>\n      <td>[]</td>\n    </tr>\n    <tr>\n      <th>T'</th>\n      <td>[]</td>\n      <td>[]</td>\n      <td>[T'-&gt;*FT']</td>\n      <td>[T'-&gt;ε]</td>\n      <td>[T'-&gt;ε]</td>\n      <td>[T'-&gt;ε]</td>\n      <td>[T'-&gt;ε]</td>\n    </tr>\n  </tbody>\n</table>\n</div>"
     },
     "metadata": {},
     "execution_count": 141
    }
   ],
   "source": [
    "stringFirst=defaultdict(set)\n",
    "for curPro in production:\n",
    "    A = curPro.split('-')[0]\n",
    "    stringFirst=getStringFirst(curPro)\n",
    "    for a in stringFirst:\n",
    "        if a == \"ε\":\n",
    "            continue\n",
    "        M.loc[A][a].append(curPro)\n",
    "\n",
    "for curPro in production:\n",
    "    A = curPro.split('-')[0]\n",
    "    stringFirst=getStringFirst(curPro)\n",
    "    if 'ε' in stringFirst:\n",
    "        for b in follow[A]:\n",
    "            M.loc[A][b].append(curPro)\n",
    "\n",
    "\n",
    "M\n"
   ]
  },
  {
   "cell_type": "code",
   "execution_count": 142,
   "metadata": {},
   "outputs": [],
   "source": [
    "def getM():\n",
    "    for curPro in production:\n",
    "        A = curPro.split('-')[0]\n",
    "        stringFirst=getStringFirst(curPro)\n",
    "        for a in stringFirst:\n",
    "            if a == \"ε\":\n",
    "                continue\n",
    "            M.loc[A][a].append(curPro)\n",
    "\n",
    "    for curPro in production:\n",
    "        A = curPro.split('-')[0]\n",
    "        stringFirst=getStringFirst(curPro)\n",
    "        if 'ε' in stringFirst:\n",
    "            for b in follow[A]:\n",
    "                M.loc[A][b].append(curPro)"
   ]
  },
  {
   "cell_type": "code",
   "execution_count": 143,
   "metadata": {},
   "outputs": [],
   "source": [
    "class Stack(object):\n",
    "    def __init__(self):\n",
    "        self.__list = []\n",
    "    def push(self,item):\n",
    "        self.__list.append(item)\n",
    "    def pop(self):\n",
    "        return self.__list.pop()\n",
    "    def top(self):\n",
    "        if self.__list:\n",
    "            return self.__list[-1]\n",
    "        return None\n",
    "    def is_empty(self):\n",
    "        return self.__list == []\n",
    "    def size(self):\n",
    "        return len(self.__list)\n",
    "    def show(self):\n",
    "        return \"\".join(self.__list)\n",
    "        "
   ]
  },
  {
   "cell_type": "code",
   "execution_count": 144,
   "metadata": {},
   "outputs": [
    {
     "output_type": "execute_result",
     "data": {
      "text/plain": "<prettytable.PrettyTable at 0x7fe1cdad83c8>"
     },
     "metadata": {},
     "execution_count": 144
    }
   ],
   "source": [
    "tb = pt.PrettyTable([\"符号栈\",\"当前输入符号\",\"输入串\",\"说明\"])\n",
    "tb"
   ]
  },
  {
   "cell_type": "code",
   "execution_count": 145,
   "metadata": {
    "tags": []
   },
   "outputs": [
    {
     "output_type": "stream",
     "name": "stdout",
     "text": "TE'\n#E\ni+i*i#\nE'\n"
    },
    {
     "output_type": "error",
     "ename": "IndexError",
     "evalue": "list index out of range",
     "traceback": [
      "\u001b[0;31m---------------------------------------------------------------------------\u001b[0m",
      "\u001b[0;31mIndexError\u001b[0m                                Traceback (most recent call last)",
      "\u001b[0;32m<ipython-input-145-bb597b3fa4b2>\u001b[0m in \u001b[0;36m<module>\u001b[0;34m\u001b[0m\n\u001b[1;32m     29\u001b[0m         \u001b[0minStack\u001b[0m\u001b[0;34m.\u001b[0m\u001b[0mpop\u001b[0m\u001b[0;34m(\u001b[0m\u001b[0;34m)\u001b[0m\u001b[0;34m\u001b[0m\u001b[0;34m\u001b[0m\u001b[0m\n\u001b[1;32m     30\u001b[0m         \u001b[0mcur\u001b[0m \u001b[0;34m=\u001b[0m \u001b[0minStack\u001b[0m\u001b[0;34m.\u001b[0m\u001b[0mtop\u001b[0m\u001b[0;34m(\u001b[0m\u001b[0;34m)\u001b[0m\u001b[0;34m\u001b[0m\u001b[0;34m\u001b[0m\u001b[0m\n\u001b[0;32m---> 31\u001b[0;31m     \u001b[0;32melif\u001b[0m \u001b[0mM\u001b[0m\u001b[0;34m[\u001b[0m\u001b[0minTop\u001b[0m\u001b[0;34m]\u001b[0m\u001b[0;34m[\u001b[0m\u001b[0msigTop\u001b[0m\u001b[0;34m]\u001b[0m\u001b[0;34m[\u001b[0m\u001b[0;36m0\u001b[0m\u001b[0;34m]\u001b[0m \u001b[0;32min\u001b[0m \u001b[0mproduction\u001b[0m\u001b[0;34m:\u001b[0m\u001b[0;34m\u001b[0m\u001b[0;34m\u001b[0m\u001b[0m\n\u001b[0m\u001b[1;32m     32\u001b[0m         \u001b[0mprod\u001b[0m \u001b[0;34m=\u001b[0m \u001b[0mM\u001b[0m\u001b[0;34m[\u001b[0m\u001b[0minTop\u001b[0m\u001b[0;34m]\u001b[0m\u001b[0;34m[\u001b[0m\u001b[0msigTop\u001b[0m\u001b[0;34m]\u001b[0m\u001b[0;34m[\u001b[0m\u001b[0;36m0\u001b[0m\u001b[0;34m]\u001b[0m\u001b[0;34m.\u001b[0m\u001b[0msplit\u001b[0m\u001b[0;34m(\u001b[0m\u001b[0;34m'>'\u001b[0m\u001b[0;34m)\u001b[0m\u001b[0;34m[\u001b[0m\u001b[0;36m1\u001b[0m\u001b[0;34m]\u001b[0m\u001b[0;34m\u001b[0m\u001b[0;34m\u001b[0m\u001b[0m\n\u001b[1;32m     33\u001b[0m         \u001b[0mprint\u001b[0m\u001b[0;34m(\u001b[0m\u001b[0mprod\u001b[0m\u001b[0;34m)\u001b[0m\u001b[0;34m\u001b[0m\u001b[0;34m\u001b[0m\u001b[0m\n",
      "\u001b[0;31mIndexError\u001b[0m: list index out of range"
     ]
    }
   ],
   "source": [
    "inputString=\"i+i*i\"\n",
    "\n",
    "S = inputString[::-1]\n",
    "inStack = Stack()\n",
    "inStack.push('#')\n",
    "l = len(S)\n",
    "for i in range(0,l):\n",
    "    inStack.push(S[i])\n",
    "\n",
    "sigStack = Stack()\n",
    "sigStack.push('#')\n",
    "sigStack.push(start)\n",
    "\n",
    "inTop = inStack.top()\n",
    "sigTop = sigStack.top()\n",
    "tb = pt.PrettyTable([\"序号\",\"符号栈\",\"当前输入符号\",\"输入串\",\"说明\"])\n",
    "i = 0\n",
    "cur = inTop\n",
    "while sigTop != '#':\n",
    "    i += 1\n",
    "    inTop = inStack.top()\n",
    "    sigTop = sigStack.top()\n",
    "    if sigTop == cur:\n",
    "        sigShow = sigStack.show()\n",
    "        sigStack.pop()\n",
    "        inShow = inStack.show()[::-1]\n",
    "        explain = '匹配,弹出栈顶元素'+cur+'读入下一个输入符号'\n",
    "        tb.add_row([i,sigShow,cur,inShow,explain])\n",
    "        inStack.pop()\n",
    "        cur = inStack.top()\n",
    "    elif M[inTop][sigTop][0] in production:\n",
    "        prod = M[inTop][sigTop][0].split('>')[1]\n",
    "        sigShow=sigStack.show()\n",
    "        inShow=inStack.show()[::-1]\n",
    "        sigTop=sigStack.top()\n",
    "        l1 = len(prod)\n",
    "        sigShow=sigStack.show()\n",
    "        sigStack.pop()\n",
    "        explain=''\n",
    "        tagg = False\n",
    "        for ii in range(l1-1):\n",
    "            if tagg:\n",
    "                tagg = False\n",
    "                continue\n",
    "            if prod[l1-ii-1] != \"ε\":\n",
    "                if prod[l1-ii-1]==\"'\":\n",
    "                    pp = prod[l1-ii-2:l1-ii]\n",
    "                    tagg = True\n",
    "                else:\n",
    "                    pp = prod[l1-ii-1]\n",
    "                print(pp)\n",
    "                sigStack.push(pp)\n",
    "                explain = '弹出栈顶符号'+sigTop+',将M['+sigTop+']['+cur+']中的产生式右部逆序压栈'\n",
    "            else:\n",
    "                explain='弹出栈顶符号'+sigTop+'，因M['+sigTop+']['+cur+']中的产生式右部为ε，不压栈'\n",
    "        tb.add_row([i,sigShow,cur,inShow,explain])\n",
    "        sigTop = sigStack.top()\n",
    "    else:\n",
    "        print(\"有问题\")\n",
    "    if sigTop == '#':\n",
    "        i += 1\n",
    "        tb.add_row([i,'#','#',' ','匹配，分析成功'])\n",
    "print(tb)"
   ]
  },
  {
   "cell_type": "code",
   "execution_count": 146,
   "metadata": {
    "tags": []
   },
   "outputs": [
    {
     "output_type": "stream",
     "name": "stdout",
     "text": "0\n1\n2\n3\n4\n5\n7\n8\n9\n"
    }
   ],
   "source": [
    "tag =False\n",
    "for i in range(0,10):\n",
    "    if tag:\n",
    "        tag = False\n",
    "        continue\n",
    "    if i == 5:\n",
    "        tag = True\n",
    "    print(i)"
   ]
  },
  {
   "cell_type": "code",
   "execution_count": null,
   "metadata": {},
   "outputs": [],
   "source": []
  }
 ],
 "metadata": {
  "language_info": {
   "codemirror_mode": {
    "name": "ipython",
    "version": 3
   },
   "file_extension": ".py",
   "mimetype": "text/x-python",
   "name": "python",
   "nbconvert_exporter": "python",
   "pygments_lexer": "ipython3",
   "version": "3.7.3-final"
  },
  "orig_nbformat": 2,
  "kernelspec": {
   "name": "python3",
   "display_name": "Python 3"
  }
 },
 "nbformat": 4,
 "nbformat_minor": 2
}