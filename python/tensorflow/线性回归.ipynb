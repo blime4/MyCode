{
 "cells": [
  {
   "cell_type": "code",
   "execution_count": 2,
   "metadata": {},
   "outputs": [],
   "source": [
    "import numpy as np\n",
    "import tensorflow as tf\n",
    "x_data = np.random.randn(2000,3)\n",
    "w_real = [0.3,0.5,0.1]\n",
    "b_real = -0.2\n",
    "\n",
    "noise = np.random.randn(1,2000)*0.1\n",
    "y_data = np.matmul(w_real,x_data.T) + b_real + noise\n",
    "\n",
    "\n",
    "NUM_STEPS = 10\n",
    "\n"
   ]
  },
  {
   "cell_type": "code",
   "execution_count": 5,
   "metadata": {},
   "outputs": [
    {
     "name": "stdout",
     "output_type": "stream",
     "text": [
      "0 [array([[0.30587372, 0.47497606, 0.09045823]], dtype=float32), -0.18882336]\n",
      "10 [array([[0.30587372, 0.47497606, 0.09045823]], dtype=float32), -0.18882336]\n",
      "10 [array([[0.29923043, 0.4969312 , 0.09916878]], dtype=float32), -0.19832036]\n",
      "10 [array([[0.29993227, 0.49786767, 0.0993543 ]], dtype=float32), -0.19840494]\n",
      "10 [array([[0.29991052, 0.49790812, 0.09937572]], dtype=float32), -0.1984252]\n",
      "10 [array([[0.2999124 , 0.49790978, 0.09937615]], dtype=float32), -0.19842519]\n",
      "5 [array([[0.29991233, 0.49790987, 0.09937621]], dtype=float32), -0.19842523]\n",
      "10 [array([[0.29991233, 0.49790987, 0.09937621]], dtype=float32), -0.19842523]\n",
      "10 [array([[0.29991233, 0.49790987, 0.09937621]], dtype=float32), -0.19842522]\n",
      "10 [array([[0.29991233, 0.49790987, 0.09937622]], dtype=float32), -0.19842522]\n",
      "10 [array([[0.29991233, 0.49790987, 0.09937622]], dtype=float32), -0.19842522]\n",
      "10 [array([[0.29991233, 0.49790987, 0.09937622]], dtype=float32), -0.19842522]\n"
     ]
    }
   ],
   "source": [
    "g = tf.Graph()\n",
    "wb_ = []\n",
    "with g.as_default():\n",
    "    x = tf.placeholder(tf.float32,shape=[None,3])\n",
    "    y_true = tf.placeholder(tf.float32,shape=[1,None])\n",
    "\n",
    "    with tf.name_scope('inference') as scope:\n",
    "        w = tf.Variable([[0,0,0]],dtype=tf.float32,name='weights')\n",
    "        b = tf.Variable(0,dtype=tf.float32,name='bias')\n",
    "        y_pred = tf.matmul(w,tf.transpose(x))+b\n",
    "\n",
    "    with tf.name_scope('loss') as scope:\n",
    "        loss = tf.reduce_mean(tf.square(y_pred-y_true))\n",
    "\n",
    "    with tf.name_scope('train') as scope:\n",
    "        learning_rate = 0.5\n",
    "        optimizer = tf.train.GradientDescentOptimizer(learning_rate)\n",
    "        train = optimizer.minimize(loss)\n",
    "        init = tf.global_variables_initializer()\n",
    "        with tf.Session() as sess:\n",
    "            sess.run(init)\n",
    "            for step in range(NUM_STEPS):\n",
    "                sess.run(train,feed_dict={x: x_data, y_true: y_data})\n",
    "                if (step % 5 == 0):\n",
    "                    print(step,sess.run([w,b]))\n",
    "                    wb_.append(sess.run([w,b]))\n",
    "                print(10,sess.run([w,b]))"
   ]
  },
  {
   "cell_type": "code",
   "execution_count": null,
   "metadata": {},
   "outputs": [],
   "source": []
  }
 ],
 "metadata": {
  "kernelspec": {
   "display_name": "Python 3",
   "language": "python",
   "name": "python3"
  },
  "language_info": {
   "codemirror_mode": {
    "name": "ipython",
    "version": 3
   },
   "file_extension": ".py",
   "mimetype": "text/x-python",
   "name": "python",
   "nbconvert_exporter": "python",
   "pygments_lexer": "ipython3",
   "version": "3.7.3"
  }
 },
 "nbformat": 4,
 "nbformat_minor": 2
}
