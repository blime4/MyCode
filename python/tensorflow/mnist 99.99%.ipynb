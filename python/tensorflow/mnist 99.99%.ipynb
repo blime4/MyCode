{
 "cells": [
  {
   "cell_type": "code",
   "execution_count": 1,
   "metadata": {},
   "outputs": [],
   "source": [
    "import tensorflow as tf\n",
    "from tensorflow.examples.tutorials.mnist import input_data"
   ]
  },
  {
   "cell_type": "code",
   "execution_count": 2,
   "metadata": {},
   "outputs": [
    {
     "name": "stdout",
     "output_type": "stream",
     "text": [
      "WARNING:tensorflow:From <ipython-input-2-5402135654c9>:1: read_data_sets (from tensorflow.contrib.learn.python.learn.datasets.mnist) is deprecated and will be removed in a future version.\n",
      "Instructions for updating:\n",
      "Please use alternatives such as official/mnist/dataset.py from tensorflow/models.\n",
      "WARNING:tensorflow:From /home/blime/anaconda3/lib/python3.7/site-packages/tensorflow/contrib/learn/python/learn/datasets/mnist.py:260: maybe_download (from tensorflow.contrib.learn.python.learn.datasets.base) is deprecated and will be removed in a future version.\n",
      "Instructions for updating:\n",
      "Please write your own downloading logic.\n",
      "WARNING:tensorflow:From /home/blime/anaconda3/lib/python3.7/site-packages/tensorflow/contrib/learn/python/learn/datasets/base.py:252: _internal_retry.<locals>.wrap.<locals>.wrapped_fn (from tensorflow.contrib.learn.python.learn.datasets.base) is deprecated and will be removed in a future version.\n",
      "Instructions for updating:\n",
      "Please use urllib or similar directly.\n",
      "Successfully downloaded train-images-idx3-ubyte.gz 9912422 bytes.\n",
      "WARNING:tensorflow:From /home/blime/anaconda3/lib/python3.7/site-packages/tensorflow/contrib/learn/python/learn/datasets/mnist.py:262: extract_images (from tensorflow.contrib.learn.python.learn.datasets.mnist) is deprecated and will be removed in a future version.\n",
      "Instructions for updating:\n",
      "Please use tf.data to implement this functionality.\n",
      "Extracting MNIST_data /train-images-idx3-ubyte.gz\n",
      "Successfully downloaded train-labels-idx1-ubyte.gz 28881 bytes.\n",
      "WARNING:tensorflow:From /home/blime/anaconda3/lib/python3.7/site-packages/tensorflow/contrib/learn/python/learn/datasets/mnist.py:267: extract_labels (from tensorflow.contrib.learn.python.learn.datasets.mnist) is deprecated and will be removed in a future version.\n",
      "Instructions for updating:\n",
      "Please use tf.data to implement this functionality.\n",
      "Extracting MNIST_data /train-labels-idx1-ubyte.gz\n",
      "WARNING:tensorflow:From /home/blime/anaconda3/lib/python3.7/site-packages/tensorflow/contrib/learn/python/learn/datasets/mnist.py:110: dense_to_one_hot (from tensorflow.contrib.learn.python.learn.datasets.mnist) is deprecated and will be removed in a future version.\n",
      "Instructions for updating:\n",
      "Please use tf.one_hot on tensors.\n",
      "Successfully downloaded t10k-images-idx3-ubyte.gz 1648877 bytes.\n",
      "Extracting MNIST_data /t10k-images-idx3-ubyte.gz\n",
      "Successfully downloaded t10k-labels-idx1-ubyte.gz 4542 bytes.\n",
      "Extracting MNIST_data /t10k-labels-idx1-ubyte.gz\n",
      "WARNING:tensorflow:From /home/blime/anaconda3/lib/python3.7/site-packages/tensorflow/contrib/learn/python/learn/datasets/mnist.py:290: DataSet.__init__ (from tensorflow.contrib.learn.python.learn.datasets.mnist) is deprecated and will be removed in a future version.\n",
      "Instructions for updating:\n",
      "Please use alternatives such as official/mnist/dataset.py from tensorflow/models.\n"
     ]
    }
   ],
   "source": [
    "mnist = input_data.read_data_sets(\"MNIST_data /\",one_hot=True)\n",
    "x = tf.placeholder( tf.float32, [None,784])\n",
    "y = tf.placeholder( tf.float32, [None,10])"
   ]
  },
  {
   "cell_type": "code",
   "execution_count": 3,
   "metadata": {},
   "outputs": [],
   "source": [
    "x_image = tf.reshape(x, [-1,28,28,1])"
   ]
  },
  {
   "cell_type": "code",
   "execution_count": 4,
   "metadata": {},
   "outputs": [],
   "source": [
    "def weight_variable(shape):\n",
    "    initial = tf.truncated_normal(shape, stddev=0.1)\n",
    "    return tf.Variable(initial)\n",
    "\n",
    "def bias_variable(shape):\n",
    "    initial = tf.constant(0.1,shape=shape)\n",
    "    return tf.Variable(initial)\n",
    "\n",
    "def conv2d(x, W):\n",
    "    return tf.nn.conv2d(x, W, strides=[1,1,1,1], padding='SAME')\n",
    "\n",
    "def max_pool_2x2(x):\n",
    "    return tf.nn.max_pool(x,ksize = [1,2,2,1], strides=[1,2,2,1], padding='SAME')"
   ]
  },
  {
   "cell_type": "code",
   "execution_count": 5,
   "metadata": {},
   "outputs": [
    {
     "name": "stdout",
     "output_type": "stream",
     "text": [
      "WARNING:tensorflow:From /home/blime/anaconda3/lib/python3.7/site-packages/tensorflow/python/framework/op_def_library.py:263: colocate_with (from tensorflow.python.framework.ops) is deprecated and will be removed in a future version.\n",
      "Instructions for updating:\n",
      "Colocations handled automatically by placer.\n"
     ]
    }
   ],
   "source": [
    "W_conv1 = weight_variable([5,5,1,32])\n",
    "b_conv1 = bias_variable([32])\n",
    "h_conv1 = tf.nn.relu(conv2d(x_image,W_conv1)+b_conv1)\n",
    "h_pool1 = max_pool_2x2(h_conv1)"
   ]
  },
  {
   "cell_type": "code",
   "execution_count": 6,
   "metadata": {},
   "outputs": [],
   "source": [
    "W_conv2 = weight_variable([5,5,32,64])\n",
    "b_conv2 = bias_variable([64])\n",
    "h_conv2 = tf.nn.relu(conv2d(h_pool1,W_conv2)+b_conv2)\n",
    "h_pool2 = max_pool_2x2(h_conv2)"
   ]
  },
  {
   "cell_type": "code",
   "execution_count": 7,
   "metadata": {},
   "outputs": [
    {
     "name": "stdout",
     "output_type": "stream",
     "text": [
      "WARNING:tensorflow:From <ipython-input-7-147a416c353e>:7: calling dropout (from tensorflow.python.ops.nn_ops) with keep_prob is deprecated and will be removed in a future version.\n",
      "Instructions for updating:\n",
      "Please use `rate` instead of `keep_prob`. Rate should be set to `rate = 1 - keep_prob`.\n"
     ]
    }
   ],
   "source": [
    "w_fc1 = weight_variable([7*7*64,1024])\n",
    "b_fc1 = bias_variable([1024])\n",
    "h_pool2_flat = tf.reshape(h_pool2, [-1,7*7*64])\n",
    "h_fc1 = tf.nn.relu(tf.matmul(h_pool2_flat,w_fc1)+b_fc1)\n",
    "\n",
    "keep_prob = tf.placeholder(tf.float32)\n",
    "h_fc1_drop = tf.nn.dropout(h_fc1, keep_prob)"
   ]
  },
  {
   "cell_type": "code",
   "execution_count": 8,
   "metadata": {},
   "outputs": [],
   "source": [
    "w_fc2 = weight_variable([1024,10])\n",
    "b_fc2 = bias_variable([10])\n",
    "y_conv = tf.matmul(h_fc1_drop,w_fc2)+b_fc2"
   ]
  },
  {
   "cell_type": "code",
   "execution_count": 9,
   "metadata": {},
   "outputs": [
    {
     "name": "stdout",
     "output_type": "stream",
     "text": [
      "WARNING:tensorflow:From <ipython-input-9-bbe1156518d3>:1: softmax_cross_entropy_with_logits (from tensorflow.python.ops.nn_ops) is deprecated and will be removed in a future version.\n",
      "Instructions for updating:\n",
      "\n",
      "Future major versions of TensorFlow will allow gradients to flow\n",
      "into the labels input on backprop by default.\n",
      "\n",
      "See `tf.nn.softmax_cross_entropy_with_logits_v2`.\n",
      "\n"
     ]
    }
   ],
   "source": [
    "cross_entropy = tf.reduce_mean(tf.nn.softmax_cross_entropy_with_logits(logits=y_conv,labels=y))\n",
    "train_step = tf.train.AdamOptimizer(1e-4).minimize(cross_entropy)"
   ]
  },
  {
   "cell_type": "code",
   "execution_count": 10,
   "metadata": {},
   "outputs": [],
   "source": [
    "correct_prediction = tf.equal(tf.argmax(y_conv, 1),tf.argmax(y,1))\n",
    "accuracy = tf.reduce_mean(tf.cast(correct_prediction,tf.float32))"
   ]
  },
  {
   "cell_type": "code",
   "execution_count": null,
   "metadata": {},
   "outputs": [
    {
     "name": "stdout",
     "output_type": "stream",
     "text": [
      "step 0, training_accuracy: 0.14\n",
      "step 100, training_accuracy: 0.88\n",
      "step 200, training_accuracy: 0.9\n",
      "step 300, training_accuracy: 0.96\n",
      "step 400, training_accuracy: 0.94\n",
      "step 500, training_accuracy: 0.92\n",
      "step 600, training_accuracy: 0.9\n",
      "step 700, training_accuracy: 0.98\n",
      "step 800, training_accuracy: 0.98\n",
      "step 900, training_accuracy: 1\n",
      "step 1000, training_accuracy: 0.96\n",
      "step 1100, training_accuracy: 0.92\n",
      "step 1200, training_accuracy: 0.98\n",
      "step 1300, training_accuracy: 0.96\n",
      "step 1400, training_accuracy: 0.98\n",
      "step 1500, training_accuracy: 0.98\n",
      "step 1600, training_accuracy: 1\n",
      "step 1700, training_accuracy: 1\n",
      "step 1800, training_accuracy: 1\n",
      "step 1900, training_accuracy: 1\n",
      "step 2000, training_accuracy: 0.96\n",
      "step 2100, training_accuracy: 1\n",
      "step 2200, training_accuracy: 0.98\n",
      "step 2300, training_accuracy: 0.98\n",
      "step 2400, training_accuracy: 0.94\n",
      "step 2500, training_accuracy: 1\n",
      "step 2600, training_accuracy: 0.92\n",
      "step 2700, training_accuracy: 0.96\n",
      "step 2800, training_accuracy: 0.94\n",
      "step 2900, training_accuracy: 0.98\n",
      "step 3000, training_accuracy: 1\n",
      "step 3100, training_accuracy: 0.96\n",
      "step 3200, training_accuracy: 0.96\n",
      "step 3300, training_accuracy: 0.98\n",
      "step 3400, training_accuracy: 0.98\n",
      "step 3500, training_accuracy: 1\n",
      "step 3600, training_accuracy: 0.96\n",
      "step 3700, training_accuracy: 0.96\n",
      "step 3800, training_accuracy: 1\n",
      "step 3900, training_accuracy: 1\n",
      "step 4000, training_accuracy: 0.98\n",
      "step 4100, training_accuracy: 1\n",
      "step 4200, training_accuracy: 0.98\n",
      "step 4300, training_accuracy: 1\n",
      "step 4400, training_accuracy: 1\n",
      "step 4500, training_accuracy: 0.98\n",
      "step 4600, training_accuracy: 1\n",
      "step 4700, training_accuracy: 1\n",
      "step 4800, training_accuracy: 1\n",
      "step 4900, training_accuracy: 0.96\n",
      "step 5000, training_accuracy: 0.98\n",
      "step 5100, training_accuracy: 1\n",
      "step 5200, training_accuracy: 0.98\n",
      "step 5300, training_accuracy: 0.98\n",
      "step 5400, training_accuracy: 0.98\n",
      "step 5500, training_accuracy: 1\n",
      "step 5600, training_accuracy: 1\n",
      "step 5700, training_accuracy: 1\n",
      "step 5800, training_accuracy: 0.98\n",
      "step 5900, training_accuracy: 0.96\n",
      "step 6000, training_accuracy: 0.98\n",
      "step 6100, training_accuracy: 0.98\n",
      "step 6200, training_accuracy: 1\n",
      "step 6300, training_accuracy: 1\n",
      "step 6400, training_accuracy: 1\n",
      "step 6500, training_accuracy: 0.96\n",
      "step 6600, training_accuracy: 1\n",
      "step 6700, training_accuracy: 0.98\n",
      "step 6800, training_accuracy: 1\n",
      "step 6900, training_accuracy: 1\n",
      "step 7000, training_accuracy: 1\n",
      "step 7100, training_accuracy: 1\n",
      "step 7200, training_accuracy: 0.98\n",
      "step 7300, training_accuracy: 1\n",
      "step 7400, training_accuracy: 1\n",
      "step 7500, training_accuracy: 1\n",
      "step 7600, training_accuracy: 1\n",
      "step 7700, training_accuracy: 0.98\n",
      "step 7800, training_accuracy: 1\n",
      "step 7900, training_accuracy: 1\n",
      "step 8000, training_accuracy: 1\n",
      "step 8100, training_accuracy: 1\n",
      "step 8200, training_accuracy: 1\n",
      "step 8300, training_accuracy: 1\n",
      "step 8400, training_accuracy: 1\n",
      "step 8500, training_accuracy: 1\n",
      "step 8600, training_accuracy: 1\n",
      "step 8700, training_accuracy: 1\n",
      "step 8800, training_accuracy: 0.96\n",
      "step 8900, training_accuracy: 1\n",
      "step 9000, training_accuracy: 0.98\n",
      "step 9100, training_accuracy: 1\n",
      "step 9200, training_accuracy: 0.98\n",
      "step 9300, training_accuracy: 1\n",
      "step 9400, training_accuracy: 1\n",
      "step 9500, training_accuracy: 0.98\n",
      "step 9600, training_accuracy: 1\n",
      "step 9700, training_accuracy: 1\n",
      "step 9800, training_accuracy: 1\n",
      "step 9900, training_accuracy: 1\n",
      "step 10000, training_accuracy: 1\n",
      "step 10100, training_accuracy: 1\n",
      "step 10200, training_accuracy: 1\n",
      "step 10300, training_accuracy: 0.96\n",
      "step 10400, training_accuracy: 1\n",
      "step 10500, training_accuracy: 1\n",
      "step 10600, training_accuracy: 1\n",
      "step 10700, training_accuracy: 1\n",
      "step 10800, training_accuracy: 1\n",
      "step 10900, training_accuracy: 0.98\n",
      "step 11000, training_accuracy: 1\n",
      "step 11100, training_accuracy: 1\n",
      "step 11200, training_accuracy: 1\n",
      "step 11300, training_accuracy: 1\n",
      "step 11400, training_accuracy: 1\n",
      "step 11500, training_accuracy: 1\n",
      "step 11600, training_accuracy: 1\n",
      "step 11700, training_accuracy: 0.98\n",
      "step 11800, training_accuracy: 1\n",
      "step 11900, training_accuracy: 1\n",
      "step 12000, training_accuracy: 1\n",
      "step 12100, training_accuracy: 1\n",
      "step 12200, training_accuracy: 1\n",
      "step 12300, training_accuracy: 0.98\n",
      "step 12400, training_accuracy: 1\n",
      "step 12500, training_accuracy: 1\n",
      "step 12600, training_accuracy: 1\n",
      "step 12700, training_accuracy: 1\n",
      "step 12800, training_accuracy: 1\n",
      "step 12900, training_accuracy: 1\n",
      "step 13000, training_accuracy: 1\n",
      "step 13100, training_accuracy: 1\n",
      "step 13200, training_accuracy: 1\n",
      "step 13300, training_accuracy: 1\n",
      "step 13400, training_accuracy: 1\n",
      "step 13500, training_accuracy: 1\n",
      "step 13600, training_accuracy: 1\n",
      "step 13700, training_accuracy: 1\n",
      "step 13800, training_accuracy: 1\n",
      "step 13900, training_accuracy: 1\n",
      "step 14000, training_accuracy: 1\n",
      "step 14100, training_accuracy: 1\n",
      "step 14200, training_accuracy: 1\n",
      "step 14300, training_accuracy: 1\n",
      "step 14400, training_accuracy: 1\n",
      "step 14500, training_accuracy: 1\n",
      "step 14600, training_accuracy: 1\n",
      "step 14700, training_accuracy: 1\n",
      "step 14800, training_accuracy: 1\n",
      "step 14900, training_accuracy: 1\n",
      "step 15000, training_accuracy: 1\n",
      "step 15100, training_accuracy: 0.98\n",
      "step 15200, training_accuracy: 1\n",
      "step 15300, training_accuracy: 1\n",
      "step 15400, training_accuracy: 1\n",
      "step 15500, training_accuracy: 1\n",
      "step 15600, training_accuracy: 1\n",
      "step 15700, training_accuracy: 1\n",
      "step 15800, training_accuracy: 1\n",
      "step 15900, training_accuracy: 1\n",
      "step 16000, training_accuracy: 1\n",
      "step 16100, training_accuracy: 1\n",
      "step 16200, training_accuracy: 1\n",
      "step 16300, training_accuracy: 1\n",
      "step 16400, training_accuracy: 1\n",
      "step 16500, training_accuracy: 1\n",
      "step 16600, training_accuracy: 1\n",
      "step 16700, training_accuracy: 1\n",
      "step 16800, training_accuracy: 1\n",
      "step 16900, training_accuracy: 1\n",
      "step 17000, training_accuracy: 1\n",
      "step 17100, training_accuracy: 1\n",
      "step 17200, training_accuracy: 1\n",
      "step 17300, training_accuracy: 1\n",
      "step 17400, training_accuracy: 1\n",
      "step 17500, training_accuracy: 1\n"
     ]
    }
   ],
   "source": [
    "sess = tf.InteractiveSession()\n",
    "sess.run(tf.global_variables_initializer())\n",
    "\n",
    "for i in range(20000):\n",
    "    batch = mnist.train.next_batch(50)\n",
    "    if i%100==0:\n",
    "        train_accuracy = accuracy.eval(feed_dict={\n",
    "            x:batch[0],y:batch[1],keep_prob:1.0\n",
    "        })\n",
    "        print(\"step %d, training_accuracy: %g\" % (i,train_accuracy))\n",
    "    train_step.run(feed_dict={x:batch[0],y:batch[1],keep_prob:0.5})"
   ]
  },
  {
   "cell_type": "code",
   "execution_count": null,
   "metadata": {},
   "outputs": [],
   "source": []
  }
 ],
 "metadata": {
  "kernelspec": {
   "display_name": "Python 3",
   "language": "python",
   "name": "python3"
  },
  "language_info": {
   "codemirror_mode": {
    "name": "ipython",
    "version": 3
   },
   "file_extension": ".py",
   "mimetype": "text/x-python",
   "name": "python",
   "nbconvert_exporter": "python",
   "pygments_lexer": "ipython3",
   "version": "3.7.3"
  }
 },
 "nbformat": 4,
 "nbformat_minor": 2
}
