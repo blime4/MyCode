{
 "cells": [
  {
   "cell_type": "code",
   "execution_count": 3,
   "metadata": {},
   "outputs": [],
   "source": [
    "import pandas as pd\n",
    "\n",
    "f = pd.read_csv('./data1/test_stage1.csv')"
   ]
  },
  {
   "cell_type": "code",
   "execution_count": 5,
   "metadata": {},
   "outputs": [
    {
     "data": {
      "text/html": [
       "<div>\n",
       "<style scoped>\n",
       "    .dataframe tbody tr th:only-of-type {\n",
       "        vertical-align: middle;\n",
       "    }\n",
       "\n",
       "    .dataframe tbody tr th {\n",
       "        vertical-align: top;\n",
       "    }\n",
       "\n",
       "    .dataframe thead th {\n",
       "        text-align: right;\n",
       "    }\n",
       "</style>\n",
       "<table border=\"1\" class=\"dataframe\">\n",
       "  <thead>\n",
       "    <tr style=\"text-align: right;\">\n",
       "      <th></th>\n",
       "      <th>id</th>\n",
       "      <th>text</th>\n",
       "    </tr>\n",
       "  </thead>\n",
       "  <tbody>\n",
       "    <tr>\n",
       "      <th>0</th>\n",
       "      <td>4eb870bf91f8f06d4b8394a5016fc1c2</td>\n",
       "      <td>中国缺医院吗？不缺！中国缺医生吗？不缺！中国缺药物吗？不缺！那为什么医院还那么拥挤？...</td>\n",
       "    </tr>\n",
       "    <tr>\n",
       "      <th>1</th>\n",
       "      <td>7b67f10cb7bd3b6df8e5a224df28d2dd</td>\n",
       "      <td>又要降温了，街坊们注意及时添加衣物🙈http://t.cn/RfiEgRu|南安市</td>\n",
       "    </tr>\n",
       "    <tr>\n",
       "      <th>2</th>\n",
       "      <td>0f47c61b8d7e637d73ad05f93d047de8</td>\n",
       "      <td>昨晚东航飞上海，又是流量控制，不出所料地晚点近两小时。翻看《人物》，封面是郭敬明。他提到给韩...</td>\n",
       "    </tr>\n",
       "    <tr>\n",
       "      <th>3</th>\n",
       "      <td>7b52177f60c35d75c050a2e6d4bcd2e7</td>\n",
       "      <td>【再次呼吁建栏杆国家标准。将栏杆连接片抬高即可避免悲剧！】陕西一孕妇脖子卡入公路栏杆身亡。北...</td>\n",
       "    </tr>\n",
       "    <tr>\n",
       "      <th>4</th>\n",
       "      <td>ea3009bb7beceacbc539f527c2beecb9</td>\n",
       "      <td>图：杨振宁82岁娶了28岁的翁帆如今翁忛68-我爱八娱业主论坛-广州搜狐焦点杨振宁82岁时娶...</td>\n",
       "    </tr>\n",
       "    <tr>\n",
       "      <th>5</th>\n",
       "      <td>1b8ff9fcc1d5370942e255423b598c8f</td>\n",
       "      <td>#牡丹鲜花变塑料#【#薰衣草庄园塑料花忽悠游客#？园方：假花能发亮，晚上好看】“洛阳薰衣草庄...</td>\n",
       "    </tr>\n",
       "    <tr>\n",
       "      <th>6</th>\n",
       "      <td>7d1938e8f5d97f4d770a0ae95bdf677e</td>\n",
       "      <td>#千龙网直播#【2018年上半年北京市经济运行情况新闻发布会】今天下午在北京市人民政府新闻办...</td>\n",
       "    </tr>\n",
       "    <tr>\n",
       "      <th>7</th>\n",
       "      <td>584892e2378a1e508a67721e904a3565</td>\n",
       "      <td>在宜昌市的一件事情，一位老奶奶就为了卖自己做的饰品冒着烈日甚至没有吃过早饭在天桥上摆地摊，最...</td>\n",
       "    </tr>\n",
       "    <tr>\n",
       "      <th>8</th>\n",
       "      <td>72f6e9ed85e0f1c033ea2cb9821b049b</td>\n",
       "      <td>【省消委会：国内智能马桶盖质量不亚于日本】15日，省消委会发布智能马桶盖比较试验报告，从检测...</td>\n",
       "    </tr>\n",
       "    <tr>\n",
       "      <th>9</th>\n",
       "      <td>47ba867d0e5e3b9027709701ec9f8aa9</td>\n",
       "      <td>这条他们删帖了@平安北京今天傍晚19点左右，有网友在北京国贸地铁口看到城管殴打小贩，场面十分...</td>\n",
       "    </tr>\n",
       "  </tbody>\n",
       "</table>\n",
       "</div>"
      ],
      "text/plain": [
       "                                 id                                               text\n",
       "0  4eb870bf91f8f06d4b8394a5016fc1c2      中国缺医院吗？不缺！中国缺医生吗？不缺！中国缺药物吗？不缺！那为什么医院还那么拥挤？...\n",
       "1  7b67f10cb7bd3b6df8e5a224df28d2dd          又要降温了，街坊们注意及时添加衣物🙈http://t.cn/RfiEgRu|南安市\n",
       "2  0f47c61b8d7e637d73ad05f93d047de8  昨晚东航飞上海，又是流量控制，不出所料地晚点近两小时。翻看《人物》，封面是郭敬明。他提到给韩...\n",
       "3  7b52177f60c35d75c050a2e6d4bcd2e7  【再次呼吁建栏杆国家标准。将栏杆连接片抬高即可避免悲剧！】陕西一孕妇脖子卡入公路栏杆身亡。北...\n",
       "4  ea3009bb7beceacbc539f527c2beecb9  图：杨振宁82岁娶了28岁的翁帆如今翁忛68-我爱八娱业主论坛-广州搜狐焦点杨振宁82岁时娶...\n",
       "5  1b8ff9fcc1d5370942e255423b598c8f  #牡丹鲜花变塑料#【#薰衣草庄园塑料花忽悠游客#？园方：假花能发亮，晚上好看】“洛阳薰衣草庄...\n",
       "6  7d1938e8f5d97f4d770a0ae95bdf677e  #千龙网直播#【2018年上半年北京市经济运行情况新闻发布会】今天下午在北京市人民政府新闻办...\n",
       "7  584892e2378a1e508a67721e904a3565  在宜昌市的一件事情，一位老奶奶就为了卖自己做的饰品冒着烈日甚至没有吃过早饭在天桥上摆地摊，最...\n",
       "8  72f6e9ed85e0f1c033ea2cb9821b049b  【省消委会：国内智能马桶盖质量不亚于日本】15日，省消委会发布智能马桶盖比较试验报告，从检测...\n",
       "9  47ba867d0e5e3b9027709701ec9f8aa9  这条他们删帖了@平安北京今天傍晚19点左右，有网友在北京国贸地铁口看到城管殴打小贩，场面十分..."
      ]
     },
     "execution_count": 5,
     "metadata": {},
     "output_type": "execute_result"
    }
   ],
   "source": [
    "f.head(10)"
   ]
  },
  {
   "cell_type": "code",
   "execution_count": null,
   "metadata": {},
   "outputs": [],
   "source": []
  }
 ],
 "metadata": {
  "kernelspec": {
   "display_name": "Python 3",
   "language": "python",
   "name": "python3"
  },
  "language_info": {
   "codemirror_mode": {
    "name": "ipython",
    "version": 3
   },
   "file_extension": ".py",
   "mimetype": "text/x-python",
   "name": "python",
   "nbconvert_exporter": "python",
   "pygments_lexer": "ipython3",
   "version": "3.7.3"
  }
 },
 "nbformat": 4,
 "nbformat_minor": 2
}
