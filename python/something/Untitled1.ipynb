{
 "cells": [
  {
   "cell_type": "code",
   "execution_count": 2,
   "metadata": {},
   "outputs": [],
   "source": [
    "from tkinter import ttk\n",
    "from tkinter import *\n"
   ]
  },
  {
   "cell_type": "code",
   "execution_count": 7,
   "metadata": {},
   "outputs": [],
   "source": [
    "root = Tk()  # 初始框的声明\n",
    "columns = (\"姓名\", \"IP地址\")\n",
    "treeview = ttk.Treeview(root, height=18, show=\"headings\", columns=columns)  # 表格\n",
    "treeview.column(\"姓名\", width=100, anchor='center') # 表示列,不显示\n",
    "treeview.column(\"IP地址\", width=300, anchor='center')\n",
    "treeview.heading(\"姓名\", text=\"姓名\") # 显示表头\n",
    "treeview.heading(\"IP地址\", text=\"IP地址\")\n",
    "treeview.pack(side=LEFT, fill=BOTH)\n",
    " \n",
    "name = ['电脑1','服务器','笔记本']\n",
    "ipcode = ['10.13.71.223','10.25.61.186','10.25.11.163']\n",
    "for i in range(min(len(name),len(ipcode))): # 写入数据\n",
    "    treeview.insert('', i, value=(name[i], ipcode[i]))\n"
   ]
  },
  {
   "cell_type": "code",
   "execution_count": 8,
   "metadata": {},
   "outputs": [
    {
     "name": "stdout",
     "output_type": "stream",
     "text": [
      "('电脑1', '10.13.71.223')\n",
      "('服务器', '10.25.61.186')\n",
      "('笔记本', '10.25.11.163')\n"
     ]
    }
   ],
   "source": [
    "def set_cell_value(event): # 双击进入编辑状态\n",
    "    for item in treeview.selection():\n",
    "        #item = I001\n",
    "        item_text = treeview.item(item, \"values\")\n",
    "        print(item_text[0:2])  # 输出所选行的值\n",
    "treeview.bind('<Double-1>', set_cell_value) # 双击左键进入编辑\n",
    "root.mainloop()"
   ]
  },
  {
   "cell_type": "code",
   "execution_count": null,
   "metadata": {},
   "outputs": [],
   "source": []
  }
 ],
 "metadata": {
  "kernelspec": {
   "display_name": "Python 3",
   "language": "python",
   "name": "python3"
  },
  "language_info": {
   "codemirror_mode": {
    "name": "ipython",
    "version": 3
   },
   "file_extension": ".py",
   "mimetype": "text/x-python",
   "name": "python",
   "nbconvert_exporter": "python",
   "pygments_lexer": "ipython3",
   "version": "3.7.3"
  }
 },
 "nbformat": 4,
 "nbformat_minor": 2
}
