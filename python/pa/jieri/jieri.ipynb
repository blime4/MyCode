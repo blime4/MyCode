{
 "cells": [
  {
   "cell_type": "code",
   "execution_count": 118,
   "metadata": {},
   "outputs": [],
   "source": [
    "import requests\n",
    "from bs4 import BeautifulSoup\n",
    "import xlwt\n",
    "headers = {\n",
    "    'User-Agent': 'Mozilla/5.0 (Windows NT 10.0; Win64; x64) AppleWebKit/537.36 (KHTML, like Gecko) Chrome/80.0.3987.100 Safari/537.36'\n",
    "}"
   ]
  },
  {
   "cell_type": "code",
   "execution_count": 134,
   "metadata": {},
   "outputs": [
    {
     "ename": "NameError",
     "evalue": "name 'reload' is not defined",
     "output_type": "error",
     "traceback": [
      "\u001b[0;31m---------------------------------------------------------------------------\u001b[0m",
      "\u001b[0;31mNameError\u001b[0m                                 Traceback (most recent call last)",
      "\u001b[0;32m<ipython-input-134-2a769d921551>\u001b[0m in \u001b[0;36m<module>\u001b[0;34m\u001b[0m\n\u001b[0;32m----> 1\u001b[0;31m \u001b[0mreload\u001b[0m\u001b[0;34m(\u001b[0m\u001b[0msys\u001b[0m\u001b[0;34m)\u001b[0m\u001b[0;34m\u001b[0m\u001b[0;34m\u001b[0m\u001b[0m\n\u001b[0m\u001b[1;32m      2\u001b[0m \u001b[0msys\u001b[0m\u001b[0;34m.\u001b[0m\u001b[0msetdefaultencoding\u001b[0m\u001b[0;34m(\u001b[0m\u001b[0;34m\"utf-8\"\u001b[0m\u001b[0;34m)\u001b[0m\u001b[0;34m\u001b[0m\u001b[0;34m\u001b[0m\u001b[0m\n\u001b[1;32m      3\u001b[0m \u001b[0;32mdef\u001b[0m \u001b[0mget_html\u001b[0m\u001b[0;34m(\u001b[0m\u001b[0murl\u001b[0m\u001b[0;34m)\u001b[0m\u001b[0;34m:\u001b[0m\u001b[0;34m\u001b[0m\u001b[0;34m\u001b[0m\u001b[0m\n\u001b[1;32m      4\u001b[0m     \u001b[0mhtml\u001b[0m \u001b[0;34m=\u001b[0m \u001b[0mrequests\u001b[0m\u001b[0;34m.\u001b[0m\u001b[0mget\u001b[0m\u001b[0;34m(\u001b[0m\u001b[0murl\u001b[0m\u001b[0;34m,\u001b[0m\u001b[0mheaders\u001b[0m\u001b[0;34m=\u001b[0m\u001b[0mheaders\u001b[0m\u001b[0;34m)\u001b[0m\u001b[0;34m\u001b[0m\u001b[0;34m\u001b[0m\u001b[0m\n\u001b[1;32m      5\u001b[0m     \u001b[0mhtml\u001b[0m\u001b[0;34m.\u001b[0m\u001b[0mencoding\u001b[0m\u001b[0;34m=\u001b[0m\u001b[0;34m\"GBK\"\u001b[0m\u001b[0;34m\u001b[0m\u001b[0;34m\u001b[0m\u001b[0m\n",
      "\u001b[0;31mNameError\u001b[0m: name 'reload' is not defined"
     ]
    }
   ],
   "source": [
    "reload(sys)  \n",
    "sys.setdefaultencoding(\"utf-8\")  \n",
    "def get_html(url):\n",
    "    html = requests.get(url,headers=headers)\n",
    "    html.encoding=\"GBK\"\n",
    "    soup = BeautifulSoup(html.text)\n",
    "    li = soup.select('tr td ul li')\n",
    "    for l in li:\n",
    "        if(l.a['class'][0]=='bred'):\n",
    "            type = '中国传统节日'\n",
    "        elif(l.a['class'][0]=='bblue'):\n",
    "            type = '公众 / 国际节日'\n",
    "        else:\n",
    "            type = '24节气'\n",
    "        href = l.a['href']\n",
    "        name = l.a.text\n",
    "        date = l.text.split('(')[1].split(')')[0]\n",
    "        data = [type,href,name,date]\n",
    "        content.append({\n",
    "            'type':type,\n",
    "            'href':href,\n",
    "            'name':name,\n",
    "            'date':date\n",
    "        })\n",
    "        data_list.append(data)"
   ]
  },
  {
   "cell_type": "code",
   "execution_count": 129,
   "metadata": {},
   "outputs": [
    {
     "name": "stdout",
     "output_type": "stream",
     "text": [
      "[{'type': '中国传统节日', 'href': 'http://baike.baidu.com/view/3116.htm', 'name': '元旦', 'date': '01/01'}, {'type': '公众 / 国际节日', 'href': 'http://baike.baidu.com/view/63255.htm', 'name': '黑人日', 'date': '01/04'}, {'type': '24节气', 'href': 'http://baike.baidu.com/subview/25902/5797898.htm', 'name': '小寒', 'date': '01/05'}, {'type': '24节气', 'href': 'http://baike.baidu.com/view/25921.htm', 'name': '大寒', 'date': '01/20'}, {'type': '公众 / 国际节日', 'href': 'http://baike.baidu.com/view/3108.htm', 'name': '国际麻风节', 'date': '01/25'}, {'type': '中国传统节日', 'href': 'http://baike.baidu.com/view/22439.htm', 'name': '腊八节', 'date': '腊月初八'}, {'type': '公众 / 国际节日', 'href': 'http://baike.baidu.com/view/22240.htm', 'name': '世界湿地日', 'date': '02/02'}, {'type': '24节气', 'href': 'http://baike.baidu.com/view/25702.htm', 'name': '立春', 'date': '02/04'}, {'type': '公众 / 国际节日', 'href': 'http://baike.baidu.com/view/59186.htm', 'name': '国际声援南非日', 'date': '02/07'}, {'type': '公众 / 国际节日', 'href': 'http://baike.baidu.com/view/59198.htm', 'name': '国际气象节', 'date': '02/10'}, {'type': '中国传统节日', 'href': 'http://baike.baidu.com/subview/15128/11122908.htm', 'name': '小年', 'date': '腊月廿三'}, {'type': '公众 / 国际节日', 'href': 'http://baike.baidu.com/view/2533.htm', 'name': '情人节', 'date': '02/14'}, {'type': '中国传统节日', 'href': 'http://baike.baidu.com/view/2562.htm', 'name': '除夕', 'date': '腊月三十'}, {'type': '中国传统节日', 'href': 'http://baike.baidu.com/view/3108.htm', 'name': '春节', 'date': '正月初一'}, {'type': '24节气', 'href': 'http://baike.baidu.com/view/10790.htm', 'name': '雨水', 'date': '02/19'}, {'type': '公众 / 国际节日', 'href': 'http://baike.baidu.com/view/1273832.htm', 'name': '第三世界青年日', 'date': '02/24'}, {'type': '公众 / 国际节日', 'href': 'http://baike.baidu.com/view/851778.htm', 'name': '世界居住条件调查日', 'date': '02/28'}, {'type': '公众 / 国际节日', 'href': 'http://baike.baidu.com/view/182669.htm', 'name': '国际海豹日', 'date': '03/01'}, {'type': '公众 / 国际节日', 'href': 'http://baike.baidu.com/view/63268.htm', 'name': '全国爱耳日', 'date': '03/03'}, {'type': '中国传统节日', 'href': 'http://baike.baidu.com/view/1949.htm', 'name': '元宵节', 'date': '正月十五'}, {'type': '公众 / 国际节日', 'href': 'http://baike.baidu.com/view/165596.htm', 'name': '学雷锋日', 'date': '03/05'}, {'type': '24节气', 'href': 'http://baike.baidu.com/subview/21801/5837879.htm', 'name': '惊蛰', 'date': '03/06'}, {'type': '公众 / 国际节日', 'href': 'http://baike.baidu.com/view/328605.htm', 'name': '三八妇女节', 'date': '03/08'}, {'type': '公众 / 国际节日', 'href': 'http://baike.baidu.com/view/21813.htm', 'name': '植树节', 'date': '03/12'}, {'type': '公众 / 国际节日', 'href': 'http://baike.baidu.com/view/9083.htm', 'name': '白色情人节', 'date': '03/14'}, {'type': '公众 / 国际节日', 'href': 'http://baike.baidu.com/view/807967.htm', 'name': '消费者权益日', 'date': '03/15'}, {'type': '公众 / 国际节日', 'href': 'http://baike.baidu.com/view/844278.htm', 'name': '国际航海日', 'date': '03/17'}, {'type': '公众 / 国际节日', 'href': 'http://baike.baidu.com/view/3391343.htm', 'name': '世界无肉日', 'date': '03/20'}, {'type': '24节气', 'href': 'http://baike.baidu.com/view/94034.htm', 'name': '春分', 'date': '03/21'}, {'type': '24节气', 'href': 'http://baike.baidu.com/subview/26664/8839700.htm', 'name': '龙抬头', 'date': '03/21'}, {'type': '公众 / 国际节日', 'href': 'http://baike.baidu.com/view/21357.htm', 'name': '世界睡眠日', 'date': '03/21'}, {'type': '公众 / 国际节日', 'href': 'http://baike.baidu.com/view/21371.htm', 'name': '世界水日', 'date': '03/22'}, {'type': '公众 / 国际节日', 'href': 'http://baike.baidu.com/view/25437.htm', 'name': '世界气象日', 'date': '03/23'}, {'type': '公众 / 国际节日', 'href': 'http://baike.baidu.com/view/1710.htm', 'name': '愚人节', 'date': '04/01'}, {'type': '公众 / 国际节日', 'href': 'http://baike.baidu.com/view/537990.htm', 'name': '国际儿童图书日', 'date': '04/02'}, {'type': '中国传统节日', 'href': 'http://baike.baidu.com/view/318.htm', 'name': '寒食节', 'date': '四月初四'}, {'type': '中国传统节日', 'href': 'http://baike.baidu.com/view/3148.htm', 'name': '清明节', 'date': '04/05'}, {'type': '公众 / 国际节日', 'href': 'http://baike.baidu.com/view/1462.htm', 'name': '复活节', 'date': '04/05'}, {'type': '公众 / 国际节日', 'href': 'http://baike.baidu.com/view/22478.htm', 'name': '世界卫生日', 'date': '04/07'}, {'type': '公众 / 国际节日', 'href': 'http://baike.baidu.com/view/21386.htm', 'name': '世界帕金森病日', 'date': '04/11'}, {'type': '24节气', 'href': 'http://baike.baidu.com/subview/11235/5615203.htm', 'name': '谷雨', 'date': '04/20'}, {'type': '公众 / 国际节日', 'href': 'http://baike.baidu.com/view/2183.htm', 'name': '世界地球日', 'date': '04/22'}, {'type': '公众 / 国际节日', 'href': 'http://baike.baidu.com/view/23287.htm', 'name': '世界读书日', 'date': '04/23'}, {'type': '公众 / 国际节日', 'href': 'http://baike.baidu.com/view/2186.htm', 'name': '知识产权日', 'date': '04/26'}, {'type': '公众 / 国际节日', 'href': 'http://baike.baidu.com/view/36429.htm', 'name': '全国交通安全反思日', 'date': '04/26'}, {'type': '公众 / 国际节日', 'href': 'http://baike.baidu.com/view/27462.htm', 'name': '世界儿童日', 'date': '04/26'}, {'type': '公众 / 国际节日', 'href': 'http://baike.baidu.com/view/44253.htm', 'name': '国际劳动节', 'date': '05/01'}, {'type': '公众 / 国际节日', 'href': 'http://baike.baidu.com/view/27635.htm', 'name': '五四青年节', 'date': '05/04'}, {'type': '24节气', 'href': 'http://baike.baidu.com/subview/25743/5723127.htm', 'name': '立夏', 'date': '05/06'}, {'type': '中国传统节日', 'href': 'http://baike.baidu.com/view/240801.htm', 'name': '佛诞日', 'date': '四月初八'}, {'type': '公众 / 国际节日', 'href': 'http://baike.baidu.com/view/26823.htm', 'name': '世界红十字日', 'date': '05/08'}, {'type': '公众 / 国际节日', 'href': 'http://baike.baidu.com/view/100604.htm', 'name': '世界微笑日', 'date': '05/08'}, {'type': '公众 / 国际节日', 'href': 'http://baike.baidu.com/view/2516.htm', 'name': '母亲节', 'date': '05/10'}, {'type': '公众 / 国际节日', 'href': 'http://baike.baidu.com/view/25735.htm', 'name': '国际护士节', 'date': '05/12'}, {'type': '公众 / 国际节日', 'href': 'http://baike.baidu.com/view/62008.htm', 'name': '国际家庭日', 'date': '05/15'}, {'type': '公众 / 国际节日', 'href': 'http://baike.baidu.com/view/23216.htm', 'name': '世界电信日', 'date': '05/17'}, {'type': '公众 / 国际节日', 'href': 'http://baike.baidu.com/view/21415.htm', 'name': '全国助残日', 'date': '05/17'}, {'type': '公众 / 国际节日', 'href': 'http://baike.baidu.com/view/37249.htm', 'name': '国际博物馆日', 'date': '05/18'}, {'type': '24节气', 'href': 'http://baike.baidu.com/subview/25760/8379312.htm', 'name': '小满', 'date': '05/21'}, {'type': '公众 / 国际节日', 'href': 'http://baike.baidu.com/view/2340194.htm', 'name': '五卅运动纪念', 'date': '05/30'}, {'type': '公众 / 国际节日', 'href': 'http://baike.baidu.com/view/22249.htm', 'name': '世界无烟日', 'date': '05/31'}, {'type': '公众 / 国际节日', 'href': 'http://baike.baidu.com/view/16194.htm', 'name': '六一儿童节', 'date': '06/01'}, {'type': '公众 / 国际节日', 'href': 'http://baike.baidu.com/view/22254.htm', 'name': '世界环境日', 'date': '06/05'}, {'type': '24节气', 'href': 'http://baike.baidu.com/view/25774.htm', 'name': '芒种', 'date': '06/06'}, {'type': '公众 / 国际节日', 'href': 'http://baike.baidu.com/view/21347.htm', 'name': '全国爱眼日', 'date': '06/06'}, {'type': '公众 / 国际节日', 'href': 'http://baike.baidu.com/view/58964.htm', 'name': '中国人口日', 'date': '06/11'}, {'type': '公众 / 国际节日', 'href': 'http://baike.baidu.com/view/294658.htm', 'name': '世界难民日', 'date': '06/20'}, {'type': '中国传统节日', 'href': 'http://baike.baidu.com/view/2567.htm', 'name': '端午节', 'date': '五月初五'}, {'type': '公众 / 国际节日', 'href': 'http://baike.baidu.com/view/8463.htm', 'name': '父亲节', 'date': '06/21'}, {'type': '24节气', 'href': 'http://baike.baidu.com/subview/25782/6029524.htm', 'name': '夏至', 'date': '06/22'}, {'type': '公众 / 国际节日', 'href': 'http://baike.baidu.com/view/2340240.htm', 'name': '中国儿童慈善活动日', 'date': '06/22'}, {'type': '公众 / 国际节日', 'href': 'http://baike.baidu.com/view/37371.htm', 'name': '国际奥林匹克日', 'date': '06/23'}, {'type': '公众 / 国际节日', 'href': 'http://baike.baidu.com/view/37338.htm', 'name': '全国土地日', 'date': '06/25'}, {'type': '公众 / 国际节日', 'href': 'http://baike.baidu.com/view/106800.htm', 'name': '国际禁毒日', 'date': '06/26'}, {'type': '公众 / 国际节日', 'href': 'http://baike.baidu.com/view/890704.htm', 'name': '世界青年联欢节', 'date': '06/30'}, {'type': '公众 / 国际节日', 'href': 'http://baike.baidu.com/view/160972.html', 'name': '中国共产党诞生日', 'date': '07/01'}, {'type': '公众 / 国际节日', 'href': 'http://baike.baidu.com/view/58870.htm', 'name': '香港回归日', 'date': '07/01'}, {'type': '公众 / 国际节日', 'href': 'http://baike.baidu.com/view/160976.htm', 'name': '国际体育记者日', 'date': '07/02'}, {'type': '公众 / 国际节日', 'href': 'http://baike.baidu.com/view/3926171.htm', 'name': '国际接吻日', 'date': '07/06'}, {'type': '公众 / 国际节日', 'href': 'http://baike.baidu.com/view/80378.htm', 'name': '抗日战争胜利纪念日', 'date': '07/07'}, {'type': '24节气', 'href': 'http://baike.baidu.com/view/25793.htm', 'name': '小暑', 'date': '07/07'}, {'type': '公众 / 国际节日', 'href': 'http://baike.baidu.com/view/23435.htm', 'name': '世界人口日', 'date': '07/11'}, {'type': '24节气', 'href': 'http://baike.baidu.com/subview/28060/5870595.htm', 'name': '大暑', 'date': '07/23'}, {'type': '公众 / 国际节日', 'href': 'http://baike.baidu.com/view/160993.htm', 'name': '非洲妇女日', 'date': '07/30'}, {'type': '公众 / 国际节日', 'href': 'http://baike.baidu.com/view/27204.htm', 'name': '八一建军节', 'date': '08/01'}, {'type': '公众 / 国际节日', 'href': 'http://baike.baidu.com/view/923018.htm', 'name': '国际电影节', 'date': '08/06'}, {'type': '24节气', 'href': 'http://baike.baidu.com/subview/25806/5840588.htm', 'name': '立秋', 'date': '08/08'}, {'type': '公众 / 国际节日', 'href': 'http://baike.baidu.com/view/1387589.htm', 'name': '日本投降日', 'date': '08/15'}, {'type': '中国传统节日', 'href': 'http://baike.baidu.com/view/8489.htm', 'name': '七夕节', 'date': '七月初七'}, {'type': '24节气', 'href': 'http://baike.baidu.com/view/25819.htm', 'name': '处暑', 'date': '08/23'}, {'type': '中国传统节日', 'href': 'http://baike.baidu.com/view/57902.htm', 'name': '中元节', 'date': '七月十五'}, {'type': '公众 / 国际节日', 'href': 'http://baike.baidu.com/view/165610.htm', 'name': '抗日胜利纪念日', 'date': '09/03'}, {'type': '24节气', 'href': 'http://www.baike.com/wiki/%E7%99%BD%E9%9C%B2', 'name': '白露', 'date': '09/08'}, {'type': '公众 / 国际节日', 'href': 'http://baike.baidu.com/view/62062.htm', 'name': '国际扫盲日', 'date': '09/08'}, {'type': '公众 / 国际节日', 'href': 'http://baike.baidu.com/view/25833.htm', 'name': '教师节', 'date': '09/10'}, {'type': '公众 / 国际节日', 'href': 'http://baike.baidu.com/view/62054.htm', 'name': '世界清洁地球日', 'date': '09/12'}, {'type': '公众 / 国际节日', 'href': 'http://baike.baidu.com/view/22443.htm', 'name': '国际臭氧层保护日', 'date': '09/12'}, {'type': '公众 / 国际节日', 'href': 'http://baike.baidu.com/view/27269.htm', 'name': '国际和平日', 'date': '09/16'}, {'type': '公众 / 国际节日', 'href': 'http://baike.baidu.com/view/62054.htm', 'name': '\"九一八\"事变纪念日', 'date': '09/18'}, {'type': '公众 / 国际节日', 'href': 'http://baike.baidu.com/view/147917.htm', 'name': '国际爱牙日', 'date': '09/20'}, {'type': '公众 / 国际节日', 'href': 'http://baike.baidu.com/view/489563.htm', 'name': '世界无车日', 'date': '09/22'}, {'type': '24节气', 'href': 'http://baike.baidu.com/subview/11114/5833491.htm?fr=aladdin', 'name': '秋分', 'date': '09/23'}, {'type': '中国传统节日', 'href': 'http://baike.baidu.com/view/2568.htm', 'name': '中秋节', 'date': '八月十五'}, {'type': '公众 / 国际节日', 'href': 'http://baike.baidu.com/view/59496.htm', 'name': '世界旅游日', 'date': '09/27'}, {'type': '公众 / 国际节日', 'href': 'http://baike.baidu.com/view/62032.htm', 'name': '国际聋人节', 'date': '09/28'}, {'type': '公众 / 国际节日', 'href': 'http://baike.baidu.com/view/14446.htm', 'name': '国庆节', 'date': '10/01'}, {'type': '公众 / 国际节日', 'href': 'http://baike.baidu.com/view/59207.htm', 'name': '世界动物日', 'date': '10/04'}, {'type': '24节气', 'href': 'http://baike.baidu.com/view/25838.htm', 'name': '寒露', 'date': '10/08'}, {'type': '公众 / 国际节日', 'href': 'http://baike.baidu.com/view/26600.htm', 'name': '世界邮政日', 'date': '10/09'}, {'type': '公众 / 国际节日', 'href': 'http://baike.baidu.com/view/59004.htm', 'name': '辛亥革命纪念日', 'date': '10/10'}, {'type': '公众 / 国际节日', 'href': 'http://baike.baidu.com/view/1917206.htm', 'name': '中国少年先锋队诞辰日', 'date': '10/13'}, {'type': '公众 / 国际节日', 'href': 'http://baike.baidu.com/view/158147.htm', 'name': '世界标准日', 'date': '10/14'}, {'type': '公众 / 国际节日', 'href': 'http://baike.baidu.com/view/21456.htm', 'name': '国际盲人节', 'date': '10/15'}, {'type': '公众 / 国际节日', 'href': 'http://baike.baidu.com/view/124252.htm', 'name': '世界粮食日', 'date': '10/16'}, {'type': '公众 / 国际节日', 'href': 'http://baike.baidu.com/view/101733.htm?fromId=165572', 'name': '国际消除贫困日', 'date': '10/17'}, {'type': '中国传统节日', 'href': 'http://baike.baidu.com/view/2572.htm', 'name': '重阳节', 'date': '九月初九'}, {'type': '公众 / 国际节日', 'href': 'http://baike.baidu.com/view/124255.htm', 'name': '世界传统医药日', 'date': '10/22'}, {'type': '24节气', 'href': 'http://baike.baidu.com/subview/25848/5833534.htm', 'name': '霜降', 'date': '10/24'}, {'type': '公众 / 国际节日', 'href': 'http://baike.baidu.com/view/59045.htm', 'name': '联合国日', 'date': '10/22'}, {'type': '公众 / 国际节日', 'href': 'http://baike.baidu.com/view/522014.htm', 'name': '世界勤俭日', 'date': '10/31'}, {'type': '公众 / 国际节日', 'href': 'http://baike.baidu.com/view/2532.htm', 'name': '万圣节', 'date': '10/31'}, {'type': '24节气', 'href': 'http://baike.baidu.com/view/25856.htm', 'name': '立冬', 'date': '11/08'}, {'type': '公众 / 国际节日', 'href': 'http://baike.baidu.com/view/45983.htm', 'name': '中国记者日', 'date': '11/08'}, {'type': '公众 / 国际节日', 'href': 'http://baike.baidu.com/view/165356.htm', 'name': '世界青年节', 'date': '11/10'}, {'type': '公众 / 国际节日', 'href': 'http://baike.baidu.com/view/23105.htm', 'name': '光棍节', 'date': '11/11'}, {'type': '公众 / 国际节日', 'href': 'http://baike.baidu.com/view/22284.htm', 'name': '世界糖尿病日', 'date': '11/14'}, {'type': '公众 / 国际节日', 'href': 'http://baike.baidu.com/view/165576.htm', 'name': '国际大学生节', 'date': '11/17'}, {'type': '公众 / 国际节日', 'href': 'http://baike.baidu.com/view/59256.htm', 'name': '世界问候日', 'date': '11/21'}, {'type': '24节气', 'href': 'http://baike.baidu.com/subview/25867/7072847.htm', 'name': '小雪', 'date': '11/22'}, {'type': '公众 / 国际节日', 'href': 'http://baike.baidu.com/view/2525.htm', 'name': '感恩节', 'date': '11/26'}, {'type': '公众 / 国际节日', 'href': 'http://baike.baidu.com/view/28884.htm', 'name': '世界艾滋病日', 'date': '12/01'}, {'type': '公众 / 国际节日', 'href': 'http://baike.baidu.com/view/155500.htm', 'name': '国际残疾人日', 'date': '12/03'}, {'type': '24节气', 'href': 'http://baike.baidu.com/subview/25884/6061367.htm?fr=aladdin', 'name': '大雪', 'date': '12/07'}, {'type': '公众 / 国际节日', 'href': 'http://baike.baidu.com/view/59061.htm', 'name': '\"一二九\"运动纪念日', 'date': '12/09'}, {'type': '公众 / 国际节日', 'href': 'http://baike.baidu.com/view/31273.htm', 'name': '世界足球日', 'date': '12/09'}, {'type': '公众 / 国际节日', 'href': 'http://baike.baidu.com/view/59173.htm', 'name': '世界人权日', 'date': '12/10'}, {'type': '公众 / 国际节日', 'href': 'http://baike.baidu.com/view/961033.htm', 'name': '西安事变纪念日', 'date': '12/12'}, {'type': '公众 / 国际节日', 'href': 'http://baike.baidu.com/view/22274.htm', 'name': '南京大屠杀', 'date': '12/13'}, {'type': '公众 / 国际节日', 'href': 'http://baike.baidu.com/view/80418.htm', 'name': '澳门回归日', 'date': '12/20'}, {'type': '公众 / 国际节日', 'href': 'http://baike.baidu.com/view/22264.htm', 'name': '国际篮球日', 'date': '12/21'}, {'type': '24节气', 'href': 'http://baike.baidu.com/view/16674.htm', 'name': '冬至', 'date': '12/22'}, {'type': '公众 / 国际节日', 'href': 'http://baike.baidu.com/view/28259.htm', 'name': '平安夜', 'date': '12/24'}, {'type': '公众 / 国际节日', 'href': 'http://baike.baidu.com/view/2547.htm', 'name': '圣诞节', 'date': '12/25'}]\n"
     ]
    }
   ],
   "source": [
    "url = 'https://jieri.supfree.net/'\n",
    "data_list = []\n",
    "content = []\n",
    "get_html(url)\n",
    "# print(data_list)\n",
    "print(content)"
   ]
  },
  {
   "cell_type": "code",
   "execution_count": 124,
   "metadata": {},
   "outputs": [],
   "source": [
    "def save_excel(data_list):\n",
    "    data = xlwt.Workbook(encoding='utf-8')\n",
    "    sheet = data.add_sheet('data')\n",
    "    head = ['type','href','name','date']\n",
    "    for h in range(len(head)):\n",
    "        sheet.write(0,h,head[h])\n",
    "        \n",
    "    i = 1\n",
    "    for list in data_list:\n",
    "        j = 0\n",
    "        for li in list:\n",
    "            sheet.write(i,j,li)\n",
    "            j+=1\n",
    "        i+=1\n",
    "    data.save('./data.xls')\n",
    "    print(\"保存成功\")"
   ]
  },
  {
   "cell_type": "code",
   "execution_count": 125,
   "metadata": {},
   "outputs": [
    {
     "name": "stdout",
     "output_type": "stream",
     "text": [
      "保存成功\n"
     ]
    }
   ],
   "source": [
    "save_excel(data_list=data_list)"
   ]
  },
  {
   "cell_type": "code",
   "execution_count": 136,
   "metadata": {},
   "outputs": [],
   "source": [
    "import json\n",
    "import sys\n",
    "\n",
    "def save_json(content):\n",
    "    with open('./data.json','w') as fp:\n",
    "        json.dump(content,fp=fp,ensure_ascii=False,indent = 4, sort_keys = True)\n",
    "    print(\"保存成功\")"
   ]
  },
  {
   "cell_type": "code",
   "execution_count": 137,
   "metadata": {},
   "outputs": [
    {
     "name": "stdout",
     "output_type": "stream",
     "text": [
      "保存成功\n"
     ]
    }
   ],
   "source": [
    "save_json(content=content)"
   ]
  },
  {
   "cell_type": "code",
   "execution_count": 146,
   "metadata": {},
   "outputs": [
    {
     "name": "stdout",
     "output_type": "stream",
     "text": [
      "保存成功\n"
     ]
    }
   ],
   "source": [
    "import importlib,sys\n",
    "importlib.reload(sys)\n",
    "import sys\n",
    "\n",
    "import csv \n",
    "def save_csv():\n",
    "    with open('./data.csv','w',newline='', encoding='utf-8') as file:\n",
    "        writer = csv.writer(file)\n",
    "        for i in data_list:\n",
    "            writer.writerow(i)\n",
    "    print(\"保存成功\")\n",
    "save_csv()"
   ]
  },
  {
   "cell_type": "code",
   "execution_count": 151,
   "metadata": {},
   "outputs": [
    {
     "name": "stdout",
     "output_type": "stream",
     "text": [
      "          type                                               href        name  \\\n",
      "0       中国传统节日               http://baike.baidu.com/view/3116.htm          元旦   \n",
      "1    公众 / 国际节日              http://baike.baidu.com/view/63255.htm         黑人日   \n",
      "2         24节气   http://baike.baidu.com/subview/25902/5797898.htm          小寒   \n",
      "3         24节气              http://baike.baidu.com/view/25921.htm          大寒   \n",
      "4    公众 / 国际节日               http://baike.baidu.com/view/3108.htm       国际麻风节   \n",
      "5       中国传统节日              http://baike.baidu.com/view/22439.htm         腊八节   \n",
      "6    公众 / 国际节日              http://baike.baidu.com/view/22240.htm       世界湿地日   \n",
      "7         24节气              http://baike.baidu.com/view/25702.htm          立春   \n",
      "8    公众 / 国际节日              http://baike.baidu.com/view/59186.htm     国际声援南非日   \n",
      "9    公众 / 国际节日              http://baike.baidu.com/view/59198.htm       国际气象节   \n",
      "10      中国传统节日  http://baike.baidu.com/subview/15128/11122908.htm          小年   \n",
      "11   公众 / 国际节日               http://baike.baidu.com/view/2533.htm         情人节   \n",
      "12      中国传统节日               http://baike.baidu.com/view/2562.htm          除夕   \n",
      "13      中国传统节日               http://baike.baidu.com/view/3108.htm          春节   \n",
      "14        24节气              http://baike.baidu.com/view/10790.htm          雨水   \n",
      "15   公众 / 国际节日            http://baike.baidu.com/view/1273832.htm     第三世界青年日   \n",
      "16   公众 / 国际节日             http://baike.baidu.com/view/851778.htm   世界居住条件调查日   \n",
      "17   公众 / 国际节日             http://baike.baidu.com/view/182669.htm       国际海豹日   \n",
      "18   公众 / 国际节日              http://baike.baidu.com/view/63268.htm       全国爱耳日   \n",
      "19      中国传统节日               http://baike.baidu.com/view/1949.htm         元宵节   \n",
      "20   公众 / 国际节日             http://baike.baidu.com/view/165596.htm        学雷锋日   \n",
      "21        24节气   http://baike.baidu.com/subview/21801/5837879.htm          惊蛰   \n",
      "22   公众 / 国际节日             http://baike.baidu.com/view/328605.htm       三八妇女节   \n",
      "23   公众 / 国际节日              http://baike.baidu.com/view/21813.htm         植树节   \n",
      "24   公众 / 国际节日               http://baike.baidu.com/view/9083.htm       白色情人节   \n",
      "25   公众 / 国际节日             http://baike.baidu.com/view/807967.htm      消费者权益日   \n",
      "26   公众 / 国际节日             http://baike.baidu.com/view/844278.htm       国际航海日   \n",
      "27   公众 / 国际节日            http://baike.baidu.com/view/3391343.htm       世界无肉日   \n",
      "28        24节气              http://baike.baidu.com/view/94034.htm          春分   \n",
      "29        24节气   http://baike.baidu.com/subview/26664/8839700.htm         龙抬头   \n",
      "..         ...                                                ...         ...   \n",
      "113  公众 / 国际节日             http://baike.baidu.com/view/124252.htm       世界粮食日   \n",
      "114  公众 / 国际节日  http://baike.baidu.com/view/101733.htm?fromId=...     国际消除贫困日   \n",
      "115     中国传统节日               http://baike.baidu.com/view/2572.htm         重阳节   \n",
      "116  公众 / 国际节日             http://baike.baidu.com/view/124255.htm     世界传统医药日   \n",
      "117       24节气   http://baike.baidu.com/subview/25848/5833534.htm          霜降   \n",
      "118  公众 / 国际节日              http://baike.baidu.com/view/59045.htm        联合国日   \n",
      "119  公众 / 国际节日             http://baike.baidu.com/view/522014.htm       世界勤俭日   \n",
      "120  公众 / 国际节日               http://baike.baidu.com/view/2532.htm         万圣节   \n",
      "121       24节气              http://baike.baidu.com/view/25856.htm          立冬   \n",
      "122  公众 / 国际节日              http://baike.baidu.com/view/45983.htm       中国记者日   \n",
      "123  公众 / 国际节日             http://baike.baidu.com/view/165356.htm       世界青年节   \n",
      "124  公众 / 国际节日              http://baike.baidu.com/view/23105.htm         光棍节   \n",
      "125  公众 / 国际节日              http://baike.baidu.com/view/22284.htm      世界糖尿病日   \n",
      "126  公众 / 国际节日             http://baike.baidu.com/view/165576.htm      国际大学生节   \n",
      "127  公众 / 国际节日              http://baike.baidu.com/view/59256.htm       世界问候日   \n",
      "128       24节气   http://baike.baidu.com/subview/25867/7072847.htm          小雪   \n",
      "129  公众 / 国际节日               http://baike.baidu.com/view/2525.htm         感恩节   \n",
      "130  公众 / 国际节日              http://baike.baidu.com/view/28884.htm      世界艾滋病日   \n",
      "131  公众 / 国际节日             http://baike.baidu.com/view/155500.htm      国际残疾人日   \n",
      "132       24节气  http://baike.baidu.com/subview/25884/6061367.h...          大雪   \n",
      "133  公众 / 国际节日              http://baike.baidu.com/view/59061.htm  \"一二九\"运动纪念日   \n",
      "134  公众 / 国际节日              http://baike.baidu.com/view/31273.htm       世界足球日   \n",
      "135  公众 / 国际节日              http://baike.baidu.com/view/59173.htm       世界人权日   \n",
      "136  公众 / 国际节日             http://baike.baidu.com/view/961033.htm     西安事变纪念日   \n",
      "137  公众 / 国际节日              http://baike.baidu.com/view/22274.htm       南京大屠杀   \n",
      "138  公众 / 国际节日              http://baike.baidu.com/view/80418.htm       澳门回归日   \n",
      "139  公众 / 国际节日              http://baike.baidu.com/view/22264.htm       国际篮球日   \n",
      "140       24节气              http://baike.baidu.com/view/16674.htm          冬至   \n",
      "141  公众 / 国际节日              http://baike.baidu.com/view/28259.htm         平安夜   \n",
      "142  公众 / 国际节日               http://baike.baidu.com/view/2547.htm         圣诞节   \n",
      "\n",
      "      date  \n",
      "0    01/01  \n",
      "1    01/04  \n",
      "2    01/05  \n",
      "3    01/20  \n",
      "4    01/25  \n",
      "5     腊月初八  \n",
      "6    02/02  \n",
      "7    02/04  \n",
      "8    02/07  \n",
      "9    02/10  \n",
      "10    腊月廿三  \n",
      "11   02/14  \n",
      "12    腊月三十  \n",
      "13    正月初一  \n",
      "14   02/19  \n",
      "15   02/24  \n",
      "16   02/28  \n",
      "17   03/01  \n",
      "18   03/03  \n",
      "19    正月十五  \n",
      "20   03/05  \n",
      "21   03/06  \n",
      "22   03/08  \n",
      "23   03/12  \n",
      "24   03/14  \n",
      "25   03/15  \n",
      "26   03/17  \n",
      "27   03/20  \n",
      "28   03/21  \n",
      "29   03/21  \n",
      "..     ...  \n",
      "113  10/16  \n",
      "114  10/17  \n",
      "115   九月初九  \n",
      "116  10/22  \n",
      "117  10/24  \n",
      "118  10/22  \n",
      "119  10/31  \n",
      "120  10/31  \n",
      "121  11/08  \n",
      "122  11/08  \n",
      "123  11/10  \n",
      "124  11/11  \n",
      "125  11/14  \n",
      "126  11/17  \n",
      "127  11/21  \n",
      "128  11/22  \n",
      "129  11/26  \n",
      "130  12/01  \n",
      "131  12/03  \n",
      "132  12/07  \n",
      "133  12/09  \n",
      "134  12/09  \n",
      "135  12/10  \n",
      "136  12/12  \n",
      "137  12/13  \n",
      "138  12/20  \n",
      "139  12/21  \n",
      "140  12/22  \n",
      "141  12/24  \n",
      "142  12/25  \n",
      "\n",
      "[143 rows x 4 columns]\n"
     ]
    }
   ],
   "source": [
    "import pandas as pd\n",
    "\n",
    "df = pd.DataFrame(content,columns=['type','href','name','date'])\n",
    "print(df)\n",
    "df.to_csv(\"./data1.csv\",index=False,encoding='GBK')"
   ]
  },
  {
   "cell_type": "code",
   "execution_count": null,
   "metadata": {},
   "outputs": [],
   "source": []
  }
 ],
 "metadata": {
  "kernelspec": {
   "display_name": "Python 3",
   "language": "python",
   "name": "python3"
  },
  "language_info": {
   "codemirror_mode": {
    "name": "ipython",
    "version": 3
   },
   "file_extension": ".py",
   "mimetype": "text/x-python",
   "name": "python",
   "nbconvert_exporter": "python",
   "pygments_lexer": "ipython3",
   "version": "3.7.3"
  }
 },
 "nbformat": 4,
 "nbformat_minor": 2
}
