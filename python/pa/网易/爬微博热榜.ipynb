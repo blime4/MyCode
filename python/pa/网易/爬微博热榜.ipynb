{
 "cells": [
  {
   "cell_type": "code",
   "execution_count": 1,
   "metadata": {},
   "outputs": [
    {
     "name": "stdout",
     "output_type": "stream",
     "text": [
      "Requirement already satisfied: requests in /home/blime/anaconda3/lib/python3.7/site-packages (2.22.0)\n",
      "Requirement already satisfied: bs4 in /home/blime/anaconda3/lib/python3.7/site-packages (0.0.1)\n",
      "Requirement already satisfied: lxml in /home/blime/anaconda3/lib/python3.7/site-packages (4.3.4)\n",
      "Requirement already satisfied: aiohttp in /home/blime/anaconda3/lib/python3.7/site-packages (3.6.2)\n",
      "Requirement already satisfied: chardet<3.1.0,>=3.0.2 in /home/blime/anaconda3/lib/python3.7/site-packages (from requests) (3.0.4)\n",
      "Requirement already satisfied: urllib3!=1.25.0,!=1.25.1,<1.26,>=1.21.1 in /home/blime/anaconda3/lib/python3.7/site-packages (from requests) (1.24.2)\n",
      "Requirement already satisfied: certifi>=2017.4.17 in /home/blime/anaconda3/lib/python3.7/site-packages (from requests) (2019.6.16)\n",
      "Requirement already satisfied: idna<2.9,>=2.5 in /home/blime/anaconda3/lib/python3.7/site-packages (from requests) (2.8)\n",
      "Requirement already satisfied: beautifulsoup4 in /home/blime/anaconda3/lib/python3.7/site-packages (from bs4) (4.7.1)\n",
      "Requirement already satisfied: async-timeout<4.0,>=3.0 in /home/blime/anaconda3/lib/python3.7/site-packages (from aiohttp) (3.0.1)\n",
      "Requirement already satisfied: attrs>=17.3.0 in /home/blime/anaconda3/lib/python3.7/site-packages (from aiohttp) (19.1.0)\n",
      "Requirement already satisfied: multidict<5.0,>=4.5 in /home/blime/anaconda3/lib/python3.7/site-packages (from aiohttp) (4.7.4)\n",
      "Requirement already satisfied: yarl<2.0,>=1.0 in /home/blime/anaconda3/lib/python3.7/site-packages (from aiohttp) (1.4.2)\n",
      "Requirement already satisfied: soupsieve>=1.2 in /home/blime/anaconda3/lib/python3.7/site-packages (from beautifulsoup4->bs4) (1.8)\n"
     ]
    }
   ],
   "source": [
    "!pip install requests bs4 lxml aiohttp"
   ]
  },
  {
   "cell_type": "markdown",
   "metadata": {},
   "source": [
    "环境：<br>\n",
    "python 3.7.3<br>\n",
    "jupyter notebook<br>\n",
    "任务：<br>\n",
    "爬取微博热榜"
   ]
  },
  {
   "cell_type": "code",
   "execution_count": 2,
   "metadata": {},
   "outputs": [],
   "source": [
    "import requests\n",
    "from bs4 import BeautifulSoup\n",
    "from urllib import parse\n",
    "import time\n",
    "\n",
    "headers = {\n",
    "    'User-Agent': 'Mozilla/5.0 (Windows NT 10.0; Win64; x64; rv:72.0) Gecko/20100101 Firefox/72.0'\n",
    "}\n"
   ]
  },
  {
   "cell_type": "code",
   "execution_count": 3,
   "metadata": {},
   "outputs": [],
   "source": [
    "def get_html(url):\n",
    "    html = requests.get(url,headers=headers)\n",
    "    if html.status_code == 200:\n",
    "        print(\"获取成功\")\n",
    "        parse_html(html.text)\n",
    "    else:\n",
    "        print(\"error:\",html.text)\n",
    "    return"
   ]
  },
  {
   "cell_type": "code",
   "execution_count": 4,
   "metadata": {},
   "outputs": [],
   "source": [
    "def parse_html(html):\n",
    "    soup = BeautifulSoup(html,'lxml')\n",
    "    trs = soup.select('table tbody tr')\n",
    "    for tr in trs:\n",
    "        title = tr.select_one('td a').text\n",
    "        url = tr.select_one('td a')['href']\n",
    "        url = parse.urljoin('https://s.weibo.com',url)\n",
    "        print(title,url)"
   ]
  },
  {
   "cell_type": "code",
   "execution_count": 5,
   "metadata": {},
   "outputs": [
    {
     "name": "stdout",
     "output_type": "stream",
     "text": [
      "获取成功\n",
      "科学抗击疫情 https://s.weibo.com/weibo?q=%23%E7%A7%91%E5%AD%A6%E6%8A%97%E5%87%BB%E7%96%AB%E6%83%85%23&Refer=new_time\n",
      "疫情上报第一人记大功 https://s.weibo.com/weibo?q=%23%E7%96%AB%E6%83%85%E4%B8%8A%E6%8A%A5%E7%AC%AC%E4%B8%80%E4%BA%BA%E8%AE%B0%E5%A4%A7%E5%8A%9F%23&Refer=top\n",
      "科比女儿球衣退役 https://s.weibo.com/weibo?q=%23%E7%A7%91%E6%AF%94%E5%A5%B3%E5%84%BF%E7%90%83%E8%A1%A3%E9%80%80%E5%BD%B9%23&Refer=top\n",
      "湖北首批5名儿童患者出院 https://s.weibo.com/weibo?q=%E6%B9%96%E5%8C%97%E9%A6%96%E6%89%B95%E5%90%8D%E5%84%BF%E7%AB%A5%E6%82%A3%E8%80%85%E5%87%BA%E9%99%A2&Refer=top\n",
      "如果理发店再不开门 https://s.weibo.com/weibo?q=%23%E5%A6%82%E6%9E%9C%E7%90%86%E5%8F%91%E5%BA%97%E5%86%8D%E4%B8%8D%E5%BC%80%E9%97%A8%23&Refer=top\n",
      "民警收走麻将中的四个壹万 https://s.weibo.com/weibo?q=%23%E6%B0%91%E8%AD%A6%E6%94%B6%E8%B5%B0%E9%BA%BB%E5%B0%86%E4%B8%AD%E7%9A%84%E5%9B%9B%E4%B8%AA%E5%A3%B9%E4%B8%87%23&Refer=top\n",
      "坚持两周把病毒闷死 https://s.weibo.com/weibo?q=%23%E5%9D%9A%E6%8C%81%E4%B8%A4%E5%91%A8%E6%8A%8A%E7%97%85%E6%AF%92%E9%97%B7%E6%AD%BB%23&Refer=top\n",
      "下一站是幸福 https://s.weibo.com/weibo?q=%E4%B8%8B%E4%B8%80%E7%AB%99%E6%98%AF%E5%B9%B8%E7%A6%8F&Refer=top\n",
      "大理将暂扣口罩全部放行退还 https://s.weibo.com/weibo?q=%23%E5%A4%A7%E7%90%86%E5%B0%86%E6%9A%82%E6%89%A3%E5%8F%A3%E7%BD%A9%E5%85%A8%E9%83%A8%E6%94%BE%E8%A1%8C%E9%80%80%E8%BF%98%23&Refer=top\n",
      "武汉全民体温监测 https://s.weibo.com/weibo?q=%E6%AD%A6%E6%B1%89%E5%85%A8%E6%B0%91%E4%BD%93%E6%B8%A9%E7%9B%91%E6%B5%8B&Refer=top\n",
      "iKON回归 https://s.weibo.com/weibo?q=iKON%E5%9B%9E%E5%BD%92&Refer=top\n",
      "春运返程高峰公共交通工具将设隔离区 https://s.weibo.com/weibo?q=%E6%98%A5%E8%BF%90%E8%BF%94%E7%A8%8B%E9%AB%98%E5%B3%B0%E5%85%AC%E5%85%B1%E4%BA%A4%E9%80%9A%E5%B7%A5%E5%85%B7%E5%B0%86%E8%AE%BE%E9%9A%94%E7%A6%BB%E5%8C%BA&Refer=top\n",
      "中医药有效方剂筛选取得进展 https://s.weibo.com/weibo?q=%23%E4%B8%AD%E5%8C%BB%E8%8D%AF%E6%9C%89%E6%95%88%E6%96%B9%E5%89%82%E7%AD%9B%E9%80%89%E5%8F%96%E5%BE%97%E8%BF%9B%E5%B1%95%23&Refer=top\n",
      "口罩喷酒精可能将病毒留在口罩上 https://s.weibo.com/weibo?q=%23%E5%8F%A3%E7%BD%A9%E5%96%B7%E9%85%92%E7%B2%BE%E5%8F%AF%E8%83%BD%E5%B0%86%E7%97%85%E6%AF%92%E7%95%99%E5%9C%A8%E5%8F%A3%E7%BD%A9%E4%B8%8A%23&Refer=top\n",
      "294人涉疫情诈骗被抓 https://s.weibo.com/weibo?q=%23294%E4%BA%BA%E6%B6%89%E7%96%AB%E6%83%85%E8%AF%88%E9%AA%97%E8%A2%AB%E6%8A%93%23&Refer=top\n",
      "钟南山院士健身配方 https://s.weibo.com/weibo?q=%23%E9%92%9F%E5%8D%97%E5%B1%B1%E9%99%A2%E5%A3%AB%E5%81%A5%E8%BA%AB%E9%85%8D%E6%96%B9%23&Refer=top\n",
      "天天向上 https://s.weibo.com/weibo?q=%E5%A4%A9%E5%A4%A9%E5%90%91%E4%B8%8A&Refer=top\n",
      "李娜捐赠300万 https://s.weibo.com/weibo?q=%23%E6%9D%8E%E5%A8%9C%E6%8D%90%E8%B5%A0300%E4%B8%87%23&Refer=top\n",
      "国家邮政局呼吁让快递员进小区 https://s.weibo.com/weibo?q=%23%E5%9B%BD%E5%AE%B6%E9%82%AE%E6%94%BF%E5%B1%80%E5%91%BC%E5%90%81%E8%AE%A9%E5%BF%AB%E9%80%92%E5%91%98%E8%BF%9B%E5%B0%8F%E5%8C%BA%23&Refer=top\n",
      "水果姐中文为武汉加油 https://s.weibo.com/weibo?q=%23%E6%B0%B4%E6%9E%9C%E5%A7%90%E4%B8%AD%E6%96%87%E4%B8%BA%E6%AD%A6%E6%B1%89%E5%8A%A0%E6%B2%B9%23&Refer=top\n",
      "林忆莲 https://s.weibo.com/weibo?q=%E6%9E%97%E5%BF%86%E8%8E%B2&Refer=top\n",
      "上海发生两起聚集性疫情 https://s.weibo.com/weibo?q=%23%E4%B8%8A%E6%B5%B7%E5%8F%91%E7%94%9F%E4%B8%A4%E8%B5%B7%E8%81%9A%E9%9B%86%E6%80%A7%E7%96%AB%E6%83%85%23&Refer=top\n",
      "R1SE换预防疫情头像 https://s.weibo.com/weibo?q=%23R1SE%E6%8D%A2%E9%A2%84%E9%98%B2%E7%96%AB%E6%83%85%E5%A4%B4%E5%83%8F%23&Refer=top\n",
      "瑞德西韦 https://s.weibo.com/weibo?q=%E7%91%9E%E5%BE%B7%E8%A5%BF%E9%9F%A6&Refer=top\n",
      "该追星的追星该追剧的追剧 https://s.weibo.com/weibo?q=%23%E8%AF%A5%E8%BF%BD%E6%98%9F%E7%9A%84%E8%BF%BD%E6%98%9F%E8%AF%A5%E8%BF%BD%E5%89%A7%E7%9A%84%E8%BF%BD%E5%89%A7%23&Refer=top\n",
      "大火过后的澳大利亚 https://s.weibo.com/weibo?q=%23%E5%A4%A7%E7%81%AB%E8%BF%87%E5%90%8E%E7%9A%84%E6%BE%B3%E5%A4%A7%E5%88%A9%E4%BA%9A%23&Refer=top\n",
      "原来东北的冰箱长这样 https://s.weibo.com/weibo?q=%23%E5%8E%9F%E6%9D%A5%E4%B8%9C%E5%8C%97%E7%9A%84%E5%86%B0%E7%AE%B1%E9%95%BF%E8%BF%99%E6%A0%B7%23&Refer=top\n",
      "电脑模拟仿真疫情趋势 https://s.weibo.com/weibo?q=%E7%94%B5%E8%84%91%E6%A8%A1%E6%8B%9F%E4%BB%BF%E7%9C%9F%E7%96%AB%E6%83%85%E8%B6%8B%E5%8A%BF&Refer=top\n",
      "郑州复工时间 https://s.weibo.com/weibo?q=%23%E9%83%91%E5%B7%9E%E5%A4%8D%E5%B7%A5%E6%97%B6%E9%97%B4%23&Refer=top\n",
      "iPhone 汽车钥匙 https://s.weibo.com/weibo?q=iPhone%20%E6%B1%BD%E8%BD%A6%E9%92%A5%E5%8C%99&Refer=top\n",
      "没有金韩彬的回归 https://s.weibo.com/weibo?q=%E6%B2%A1%E6%9C%89%E9%87%91%E9%9F%A9%E5%BD%AC%E7%9A%84%E5%9B%9E%E5%BD%92&Refer=top\n",
      "记者跟拍武汉居委会的一天 https://s.weibo.com/weibo?q=%E8%AE%B0%E8%80%85%E8%B7%9F%E6%8B%8D%E6%AD%A6%E6%B1%89%E5%B1%85%E5%A7%94%E4%BC%9A%E7%9A%84%E4%B8%80%E5%A4%A9&Refer=top\n",
      "在家不出门的娱乐方式 https://s.weibo.com/weibo?q=%23%E5%9C%A8%E5%AE%B6%E4%B8%8D%E5%87%BA%E9%97%A8%E7%9A%84%E5%A8%B1%E4%B9%90%E6%96%B9%E5%BC%8F%23&Refer=top\n",
      "已接回1500多名滞留海外湖北籍旅客 https://s.weibo.com/weibo?q=%23%E5%B7%B2%E6%8E%A5%E5%9B%9E1500%E5%A4%9A%E5%90%8D%E6%BB%9E%E7%95%99%E6%B5%B7%E5%A4%96%E6%B9%96%E5%8C%97%E7%B1%8D%E6%97%85%E5%AE%A2%23&Refer=top\n",
      "最新疫情地图 https://s.weibo.com/weibo?q=%E6%9C%80%E6%96%B0%E7%96%AB%E6%83%85%E5%9C%B0%E5%9B%BE&Refer=top\n",
      "云南对大理征用疫情防控物资通报批评 https://s.weibo.com/weibo?q=%E4%BA%91%E5%8D%97%E5%AF%B9%E5%A4%A7%E7%90%86%E5%BE%81%E7%94%A8%E7%96%AB%E6%83%85%E9%98%B2%E6%8E%A7%E7%89%A9%E8%B5%84%E9%80%9A%E6%8A%A5%E6%89%B9%E8%AF%84&Refer=top\n",
      "探访武汉红十字会仓库 https://s.weibo.com/weibo?q=%E6%8E%A2%E8%AE%BF%E6%AD%A6%E6%B1%89%E7%BA%A2%E5%8D%81%E5%AD%97%E4%BC%9A%E4%BB%93%E5%BA%93&Refer=top\n",
      "长影集团 https://s.weibo.com/weibo?q=%E9%95%BF%E5%BD%B1%E9%9B%86%E5%9B%A2&Refer=top\n",
      "上海为学生发放寒假作业补充版 https://s.weibo.com/weibo?q=%23%E4%B8%8A%E6%B5%B7%E4%B8%BA%E5%AD%A6%E7%94%9F%E5%8F%91%E6%94%BE%E5%AF%92%E5%81%87%E4%BD%9C%E4%B8%9A%E8%A1%A5%E5%85%85%E7%89%88%23&Refer=top\n",
      "河北一医生隐瞒病情致百余人密切接触 https://s.weibo.com/weibo?q=%23%E6%B2%B3%E5%8C%97%E4%B8%80%E5%8C%BB%E7%94%9F%E9%9A%90%E7%9E%92%E7%97%85%E6%83%85%E8%87%B4%E7%99%BE%E4%BD%99%E4%BA%BA%E5%AF%86%E5%88%87%E6%8E%A5%E8%A7%A6%23&Refer=top\n",
      "江苏延迟开学 https://s.weibo.com/weibo?q=%E6%B1%9F%E8%8B%8F%E5%BB%B6%E8%BF%9F%E5%BC%80%E5%AD%A6&Refer=top\n",
      "雷神山医院开展验收并逐步移交 https://s.weibo.com/weibo?q=%E9%9B%B7%E7%A5%9E%E5%B1%B1%E5%8C%BB%E9%99%A2%E5%BC%80%E5%B1%95%E9%AA%8C%E6%94%B6%E5%B9%B6%E9%80%90%E6%AD%A5%E7%A7%BB%E4%BA%A4&Refer=top\n",
      "近期我最不能理解的事 https://s.weibo.com/weibo?q=%23%E8%BF%91%E6%9C%9F%E6%88%91%E6%9C%80%E4%B8%8D%E8%83%BD%E7%90%86%E8%A7%A3%E7%9A%84%E4%BA%8B%23&Refer=top\n",
      "宅家睡衣大赛 https://s.weibo.com/weibo?q=%23%E5%AE%85%E5%AE%B6%E7%9D%A1%E8%A1%A3%E5%A4%A7%E8%B5%9B%23&Refer=top\n",
      "疑似病例确诊或排除速度加快 https://s.weibo.com/weibo?q=%E7%96%91%E4%BC%BC%E7%97%85%E4%BE%8B%E7%A1%AE%E8%AF%8A%E6%88%96%E6%8E%92%E9%99%A4%E9%80%9F%E5%BA%A6%E5%8A%A0%E5%BF%AB&Refer=top\n",
      "北京公布患者活动过的小区或场所 https://s.weibo.com/weibo?q=%E5%8C%97%E4%BA%AC%E5%85%AC%E5%B8%83%E6%82%A3%E8%80%85%E6%B4%BB%E5%8A%A8%E8%BF%87%E7%9A%84%E5%B0%8F%E5%8C%BA%E6%88%96%E5%9C%BA%E6%89%80&Refer=top\n",
      "山西查获假冒伪劣口罩10万只 https://s.weibo.com/weibo?q=%E5%B1%B1%E8%A5%BF%E6%9F%A5%E8%8E%B7%E5%81%87%E5%86%92%E4%BC%AA%E5%8A%A3%E5%8F%A3%E7%BD%A910%E4%B8%87%E5%8F%AA&Refer=top\n",
      "外交部回应多国中断对华航班 https://s.weibo.com/weibo?q=%E5%A4%96%E4%BA%A4%E9%83%A8%E5%9B%9E%E5%BA%94%E5%A4%9A%E5%9B%BD%E4%B8%AD%E6%96%AD%E5%AF%B9%E5%8D%8E%E8%88%AA%E7%8F%AD&Refer=top\n",
      "新华社评大理征用重庆口罩 https://s.weibo.com/weibo?q=%E6%96%B0%E5%8D%8E%E7%A4%BE%E8%AF%84%E5%A4%A7%E7%90%86%E5%BE%81%E7%94%A8%E9%87%8D%E5%BA%86%E5%8F%A3%E7%BD%A9&Refer=top\n",
      "参加疫情防控第一线医务免征个税 https://s.weibo.com/weibo?q=%E5%8F%82%E5%8A%A0%E7%96%AB%E6%83%85%E9%98%B2%E6%8E%A7%E7%AC%AC%E4%B8%80%E7%BA%BF%E5%8C%BB%E5%8A%A1%E5%85%8D%E5%BE%81%E4%B8%AA%E7%A8%8E&Refer=top\n",
      "不出门还可以和姐妹这样玩 https://s.weibo.com/weibo?q=%23%E4%B8%8D%E5%87%BA%E9%97%A8%E8%BF%98%E5%8F%AF%E4%BB%A5%E5%92%8C%E5%A7%90%E5%A6%B9%E8%BF%99%E6%A0%B7%E7%8E%A9%23&Refer=top\n",
      "获取成功\n",
      "#线上肺炎患者求助专区# https://s.weibo.com/weibo?q=%23%E7%BA%BF%E4%B8%8A%E8%82%BA%E7%82%8E%E6%82%A3%E8%80%85%E6%B1%82%E5%8A%A9%E4%B8%93%E5%8C%BA%23\n",
      "#口罩喷酒精可能将病毒留在口罩上# https://s.weibo.com/weibo?q=%23%E5%8F%A3%E7%BD%A9%E5%96%B7%E9%85%92%E7%B2%BE%E5%8F%AF%E8%83%BD%E5%B0%86%E7%97%85%E6%AF%92%E7%95%99%E5%9C%A8%E5%8F%A3%E7%BD%A9%E4%B8%8A%23\n",
      "#停产10年口罩生产线恢复生产# https://s.weibo.com/weibo?q=%23%E5%81%9C%E4%BA%A710%E5%B9%B4%E5%8F%A3%E7%BD%A9%E7%94%9F%E4%BA%A7%E7%BA%BF%E6%81%A2%E5%A4%8D%E7%94%9F%E4%BA%A7%23\n",
      "#抗击疫情公安在行动# https://s.weibo.com/weibo?q=%23%E6%8A%97%E5%87%BB%E7%96%AB%E6%83%85%E5%85%AC%E5%AE%89%E5%9C%A8%E8%A1%8C%E5%8A%A8%23\n",
      "#口罩日产量已达到1480万只# https://s.weibo.com/weibo?q=%23%E5%8F%A3%E7%BD%A9%E6%97%A5%E4%BA%A7%E9%87%8F%E5%B7%B2%E8%BE%BE%E5%88%B01480%E4%B8%87%E5%8F%AA%23\n",
      "#上海近10%确诊患者治愈# https://s.weibo.com/weibo?q=%23%E4%B8%8A%E6%B5%B7%E8%BF%9110%25%E7%A1%AE%E8%AF%8A%E6%82%A3%E8%80%85%E6%B2%BB%E6%84%88%23\n",
      "#医护夫妻通过声音眼神认出彼此# https://s.weibo.com/weibo?q=%23%E5%8C%BB%E6%8A%A4%E5%A4%AB%E5%A6%BB%E9%80%9A%E8%BF%87%E5%A3%B0%E9%9F%B3%E7%9C%BC%E7%A5%9E%E8%AE%A4%E5%87%BA%E5%BD%BC%E6%AD%A4%23\n",
      "#儿子确诊90岁母亲陪护4天4夜# https://s.weibo.com/weibo?q=%23%E5%84%BF%E5%AD%90%E7%A1%AE%E8%AF%8A90%E5%B2%81%E6%AF%8D%E4%BA%B2%E9%99%AA%E6%8A%A44%E5%A4%A94%E5%A4%9C%23\n",
      "#汶川村民自发支援武汉100吨蔬菜# https://s.weibo.com/weibo?q=%23%E6%B1%B6%E5%B7%9D%E6%9D%91%E6%B0%91%E8%87%AA%E5%8F%91%E6%94%AF%E6%8F%B4%E6%AD%A6%E6%B1%89100%E5%90%A8%E8%94%AC%E8%8F%9C%23\n",
      "#抗击新型肺炎第一线# https://s.weibo.com/weibo?q=%23%E6%8A%97%E5%87%BB%E6%96%B0%E5%9E%8B%E8%82%BA%E7%82%8E%E7%AC%AC%E4%B8%80%E7%BA%BF%23\n",
      "#站在风暴之眼# https://s.weibo.com/weibo?q=%23%E7%AB%99%E5%9C%A8%E9%A3%8E%E6%9A%B4%E4%B9%8B%E7%9C%BC%23\n",
      "#坚决打赢疫情防控阻击战# https://s.weibo.com/weibo?q=%23%E5%9D%9A%E5%86%B3%E6%89%93%E8%B5%A2%E7%96%AB%E6%83%85%E9%98%B2%E6%8E%A7%E9%98%BB%E5%87%BB%E6%88%98%23\n",
      "#新型冠状病毒感染的肺炎诊疗方案第五版# https://s.weibo.com/weibo?q=%23%E6%96%B0%E5%9E%8B%E5%86%A0%E7%8A%B6%E7%97%85%E6%AF%92%E6%84%9F%E6%9F%93%E7%9A%84%E8%82%BA%E7%82%8E%E8%AF%8A%E7%96%97%E6%96%B9%E6%A1%88%E7%AC%AC%E4%BA%94%E7%89%88%23\n",
      "#全国统一最新出院标准# https://s.weibo.com/weibo?q=%23%E5%85%A8%E5%9B%BD%E7%BB%9F%E4%B8%80%E6%9C%80%E6%96%B0%E5%87%BA%E9%99%A2%E6%A0%87%E5%87%86%23\n",
      "#火神山医院感控专家日均3万步# https://s.weibo.com/weibo?q=%23%E7%81%AB%E7%A5%9E%E5%B1%B1%E5%8C%BB%E9%99%A2%E6%84%9F%E6%8E%A7%E4%B8%93%E5%AE%B6%E6%97%A5%E5%9D%873%E4%B8%87%E6%AD%A5%23\n",
      "#众志成城抗疫情# https://s.weibo.com/weibo?q=%23%E4%BC%97%E5%BF%97%E6%88%90%E5%9F%8E%E6%8A%97%E7%96%AB%E6%83%85%23\n",
      "#疫情中的逆行者# https://s.weibo.com/weibo?q=%23%E7%96%AB%E6%83%85%E4%B8%AD%E7%9A%84%E9%80%86%E8%A1%8C%E8%80%85%23\n",
      "#钟南山团队发布老年人防范指南# https://s.weibo.com/weibo?q=%23%E9%92%9F%E5%8D%97%E5%B1%B1%E5%9B%A2%E9%98%9F%E5%8F%91%E5%B8%83%E8%80%81%E5%B9%B4%E4%BA%BA%E9%98%B2%E8%8C%83%E6%8C%87%E5%8D%97%23\n",
      "#将战疫进行到底# https://s.weibo.com/weibo?q=%23%E5%B0%86%E6%88%98%E7%96%AB%E8%BF%9B%E8%A1%8C%E5%88%B0%E5%BA%95%23\n",
      "#疫情当前警察不退# https://s.weibo.com/weibo?q=%23%E7%96%AB%E6%83%85%E5%BD%93%E5%89%8D%E8%AD%A6%E5%AF%9F%E4%B8%8D%E9%80%80%23\n",
      "#军队援鄂医疗队里的编外炊事班# https://s.weibo.com/weibo?q=%23%E5%86%9B%E9%98%9F%E6%8F%B4%E9%84%82%E5%8C%BB%E7%96%97%E9%98%9F%E9%87%8C%E7%9A%84%E7%BC%96%E5%A4%96%E7%82%8A%E4%BA%8B%E7%8F%AD%23\n",
      "#用中国速度与疫情赛跑# https://s.weibo.com/weibo?q=%23%E7%94%A8%E4%B8%AD%E5%9B%BD%E9%80%9F%E5%BA%A6%E4%B8%8E%E7%96%AB%E6%83%85%E8%B5%9B%E8%B7%91%23\n",
      "#逆行中的她们# https://s.weibo.com/weibo?q=%23%E9%80%86%E8%A1%8C%E4%B8%AD%E7%9A%84%E5%A5%B9%E4%BB%AC%23\n",
      "#回乡见闻# https://s.weibo.com/weibo?q=%23%E5%9B%9E%E4%B9%A1%E8%A7%81%E9%97%BB%23\n",
      "#疫情在前交警不退# https://s.weibo.com/weibo?q=%23%E7%96%AB%E6%83%85%E5%9C%A8%E5%89%8D%E4%BA%A4%E8%AD%A6%E4%B8%8D%E9%80%80%23\n",
      "#抗击新型肺炎我们在行动# https://s.weibo.com/weibo?q=%23%E6%8A%97%E5%87%BB%E6%96%B0%E5%9E%8B%E8%82%BA%E7%82%8E%E6%88%91%E4%BB%AC%E5%9C%A8%E8%A1%8C%E5%8A%A8%23\n",
      "#长征五号B火箭运抵文昌# https://s.weibo.com/weibo?q=%23%E9%95%BF%E5%BE%81%E4%BA%94%E5%8F%B7B%E7%81%AB%E7%AE%AD%E8%BF%90%E6%8A%B5%E6%96%87%E6%98%8C%23\n",
      "#抗疫者的背影# https://s.weibo.com/weibo?q=%23%E6%8A%97%E7%96%AB%E8%80%85%E7%9A%84%E8%83%8C%E5%BD%B1%23\n",
      "#武汉我们在一起# https://s.weibo.com/weibo?q=%23%E6%AD%A6%E6%B1%89%E6%88%91%E4%BB%AC%E5%9C%A8%E4%B8%80%E8%B5%B7%23\n",
      "#环卫大爷派出所捐12000元转身就走# https://s.weibo.com/weibo?q=%23%E7%8E%AF%E5%8D%AB%E5%A4%A7%E7%88%B7%E6%B4%BE%E5%87%BA%E6%89%80%E6%8D%9012000%E5%85%83%E8%BD%AC%E8%BA%AB%E5%B0%B1%E8%B5%B0%23\n",
      "#火神山医院护士凌晨3点起床工作# https://s.weibo.com/weibo?q=%23%E7%81%AB%E7%A5%9E%E5%B1%B1%E5%8C%BB%E9%99%A2%E6%8A%A4%E5%A3%AB%E5%87%8C%E6%99%A83%E7%82%B9%E8%B5%B7%E5%BA%8A%E5%B7%A5%E4%BD%9C%23\n",
      "#宅在家的正确姿势# https://s.weibo.com/weibo?q=%23%E5%AE%85%E5%9C%A8%E5%AE%B6%E7%9A%84%E6%AD%A3%E7%A1%AE%E5%A7%BF%E5%8A%BF%23\n",
      "#你守护大家我守护你# https://s.weibo.com/weibo?q=%23%E4%BD%A0%E5%AE%88%E6%8A%A4%E5%A4%A7%E5%AE%B6%E6%88%91%E5%AE%88%E6%8A%A4%E4%BD%A0%23\n",
      "#铁路再次调整免费退票# https://s.weibo.com/weibo?q=%23%E9%93%81%E8%B7%AF%E5%86%8D%E6%AC%A1%E8%B0%83%E6%95%B4%E5%85%8D%E8%B4%B9%E9%80%80%E7%A5%A8%23\n",
      "#给爸妈做道菜# https://s.weibo.com/weibo?q=%23%E7%BB%99%E7%88%B8%E5%A6%88%E5%81%9A%E9%81%93%E8%8F%9C%23\n",
      "#寻找染病车船飞机乘客# https://s.weibo.com/weibo?q=%23%E5%AF%BB%E6%89%BE%E6%9F%93%E7%97%85%E8%BD%A6%E8%88%B9%E9%A3%9E%E6%9C%BA%E4%B9%98%E5%AE%A2%23\n",
      "#武汉协和14名感染医护出院# https://s.weibo.com/weibo?q=%23%E6%AD%A6%E6%B1%89%E5%8D%8F%E5%92%8C14%E5%90%8D%E6%84%9F%E6%9F%93%E5%8C%BB%E6%8A%A4%E5%87%BA%E9%99%A2%23\n",
      "#2.4万余门在线课程免费开放# https://s.weibo.com/weibo?q=%232.4%E4%B8%87%E4%BD%99%E9%97%A8%E5%9C%A8%E7%BA%BF%E8%AF%BE%E7%A8%8B%E5%85%8D%E8%B4%B9%E5%BC%80%E6%94%BE%23\n",
      "#全国首个测温巡逻机器人# https://s.weibo.com/weibo?q=%23%E5%85%A8%E5%9B%BD%E9%A6%96%E4%B8%AA%E6%B5%8B%E6%B8%A9%E5%B7%A1%E9%80%BB%E6%9C%BA%E5%99%A8%E4%BA%BA%23\n",
      "#一线岗位全部换上党员# https://s.weibo.com/weibo?q=%23%E4%B8%80%E7%BA%BF%E5%B2%97%E4%BD%8D%E5%85%A8%E9%83%A8%E6%8D%A2%E4%B8%8A%E5%85%9A%E5%91%98%23\n",
      "#血库告急消防员踊跃献血# https://s.weibo.com/weibo?q=%23%E8%A1%80%E5%BA%93%E5%91%8A%E6%80%A5%E6%B6%88%E9%98%B2%E5%91%98%E8%B8%8A%E8%B7%83%E7%8C%AE%E8%A1%80%23\n",
      "#温暖医瞬间# https://s.weibo.com/weibo?q=%23%E6%B8%A9%E6%9A%96%E5%8C%BB%E7%9E%AC%E9%97%B4%23\n",
      "#12小时内1400余名医疗人员驰援武汉# https://s.weibo.com/weibo?q=%2312%E5%B0%8F%E6%97%B6%E5%86%851400%E4%BD%99%E5%90%8D%E5%8C%BB%E7%96%97%E4%BA%BA%E5%91%98%E9%A9%B0%E6%8F%B4%E6%AD%A6%E6%B1%89%23\n",
      "#武汉我们一起加油# https://s.weibo.com/weibo?q=%23%E6%AD%A6%E6%B1%89%E6%88%91%E4%BB%AC%E4%B8%80%E8%B5%B7%E5%8A%A0%E6%B2%B9%23\n",
      "#故意隐瞒病情就是给病毒当帮凶# https://s.weibo.com/weibo?q=%23%E6%95%85%E6%84%8F%E9%9A%90%E7%9E%92%E7%97%85%E6%83%85%E5%B0%B1%E6%98%AF%E7%BB%99%E7%97%85%E6%AF%92%E5%BD%93%E5%B8%AE%E5%87%B6%23\n",
      "#首个新冠病毒检测试剂盒通过检验# https://s.weibo.com/weibo?q=%23%E9%A6%96%E4%B8%AA%E6%96%B0%E5%86%A0%E7%97%85%E6%AF%92%E6%A3%80%E6%B5%8B%E8%AF%95%E5%89%82%E7%9B%92%E9%80%9A%E8%BF%87%E6%A3%80%E9%AA%8C%23\n",
      "#急寻染病交通工具乘客# https://s.weibo.com/weibo?q=%23%E6%80%A5%E5%AF%BB%E6%9F%93%E7%97%85%E4%BA%A4%E9%80%9A%E5%B7%A5%E5%85%B7%E4%B9%98%E5%AE%A2%23\n",
      "#数百位艺人明星手写加油为武汉助力# https://s.weibo.com/weibo?q=%23%E6%95%B0%E7%99%BE%E4%BD%8D%E8%89%BA%E4%BA%BA%E6%98%8E%E6%98%9F%E6%89%8B%E5%86%99%E5%8A%A0%E6%B2%B9%E4%B8%BA%E6%AD%A6%E6%B1%89%E5%8A%A9%E5%8A%9B%23\n",
      "#疫情联防联控实时播报# https://s.weibo.com/weibo?q=%23%E7%96%AB%E6%83%85%E8%81%94%E9%98%B2%E8%81%94%E6%8E%A7%E5%AE%9E%E6%97%B6%E6%92%AD%E6%8A%A5%23\n",
      "#教育系统疫情防控# https://s.weibo.com/weibo?q=%23%E6%95%99%E8%82%B2%E7%B3%BB%E7%BB%9F%E7%96%AB%E6%83%85%E9%98%B2%E6%8E%A7%23\n",
      "0.6629867553710938\n"
     ]
    }
   ],
   "source": [
    "if __name__ == '__main__':\n",
    "    start = time.time()\n",
    "    url = 'https://s.weibo.com/top/summary?Refer=top_hot&topnav=1&wvr=6'\n",
    "    get_html(url)\n",
    "    url2 = 'https://s.weibo.com/top/summary?cate=socialevent'\n",
    "    get_html(url2)\n",
    "    print(time.time()-start)"
   ]
  },
  {
   "cell_type": "markdown",
   "metadata": {},
   "source": [
    "异步"
   ]
  },
  {
   "cell_type": "code",
   "execution_count": 8,
   "metadata": {},
   "outputs": [],
   "source": [
    "import aiohttp\n",
    "import asyncio\n",
    "from bs4 import BeautifulSoup\n",
    "import time\n",
    "\n",
    "headers = {\n",
    "    'User-Agent': 'Mozilla/5.0 (Windows NT 10.0; Win64; x64; rv:72.0) Gecko/20100101 Firefox/72.0'\n",
    "}"
   ]
  },
  {
   "cell_type": "code",
   "execution_count": 9,
   "metadata": {},
   "outputs": [],
   "source": [
    "async def get_html(url):\n",
    "    print('正在爬取：',url)\n",
    "    async with aiohttp.ClientSession(headers=headers) as session:\n",
    "        async with session.get(url) as resp:\n",
    "            if resp.status==200:\n",
    "                parse_html(await resp.text())\n",
    "            else:\n",
    "                print('rerror',resp.status)\n",
    "    return"
   ]
  },
  {
   "cell_type": "code",
   "execution_count": 10,
   "metadata": {},
   "outputs": [],
   "source": [
    "def parse_html(html):\n",
    "    soup = BeautifulSoup(html,'lxml')\n",
    "    trs = soup.select('table tbody tr')\n",
    "    for tr in trs:\n",
    "        title = tr.select_one('td a').text\n",
    "        url = tr.select_one('td a')['href']\n",
    "        url = parse.urljoin('https://s.weibo.com',url)\n",
    "        print(title,url)"
   ]
  },
  {
   "cell_type": "code",
   "execution_count": 13,
   "metadata": {},
   "outputs": [
    {
     "ename": "ModuleNotFoundError",
     "evalue": "No module named 'nest_asyncio'",
     "output_type": "error",
     "traceback": [
      "\u001b[0;31m---------------------------------------------------------------------------\u001b[0m",
      "\u001b[0;31mModuleNotFoundError\u001b[0m                       Traceback (most recent call last)",
      "\u001b[0;32m<ipython-input-13-70c75f981c17>\u001b[0m in \u001b[0;36m<module>\u001b[0;34m\u001b[0m\n\u001b[0;32m----> 1\u001b[0;31m \u001b[0;32mimport\u001b[0m \u001b[0mnest_asyncio\u001b[0m\u001b[0;34m\u001b[0m\u001b[0;34m\u001b[0m\u001b[0m\n\u001b[0m\u001b[1;32m      2\u001b[0m \u001b[0mnest_asyncio\u001b[0m\u001b[0;34m.\u001b[0m\u001b[0mapply\u001b[0m\u001b[0;34m(\u001b[0m\u001b[0;34m)\u001b[0m\u001b[0;34m\u001b[0m\u001b[0;34m\u001b[0m\u001b[0m\n\u001b[1;32m      3\u001b[0m \u001b[0;32mif\u001b[0m \u001b[0m__name__\u001b[0m \u001b[0;34m==\u001b[0m \u001b[0;34m'__main__'\u001b[0m\u001b[0;34m:\u001b[0m\u001b[0;34m\u001b[0m\u001b[0;34m\u001b[0m\u001b[0m\n\u001b[1;32m      4\u001b[0m     \u001b[0mstart\u001b[0m\u001b[0;34m=\u001b[0m\u001b[0mtime\u001b[0m\u001b[0;34m.\u001b[0m\u001b[0mtime\u001b[0m\u001b[0;34m(\u001b[0m\u001b[0;34m)\u001b[0m\u001b[0;34m\u001b[0m\u001b[0;34m\u001b[0m\u001b[0m\n\u001b[1;32m      5\u001b[0m     urls = [\n",
      "\u001b[0;31mModuleNotFoundError\u001b[0m: No module named 'nest_asyncio'"
     ]
    }
   ],
   "source": [
    "import nest_asyncio\n",
    "nest_asyncio.apply()\n",
    "if __name__ == '__main__':\n",
    "    start=time.time()\n",
    "    urls = [\n",
    "        'https://s.weibo.com/top/summary?Refer=top_hot&topnav=1&wvr=6',\n",
    "        'https://s.weibo.com/top/summary?cate=socialevent'\n",
    "    ]\n",
    "    tasks = []\n",
    "    for url in urls:\n",
    "        tasks.append(get_html(url))\n",
    "    loop = asyncio.get_event_loop()\n",
    "    loop.run_until_complete(asyncio.wait(tasks))\n",
    "    print(time.time()-start)\n",
    "    loop.close()"
   ]
  },
  {
   "cell_type": "code",
   "execution_count": null,
   "metadata": {},
   "outputs": [],
   "source": [
    "!pip"
   ]
  }
 ],
 "metadata": {
  "kernelspec": {
   "display_name": "Python 3",
   "language": "python",
   "name": "python3"
  },
  "language_info": {
   "codemirror_mode": {
    "name": "ipython",
    "version": 3
   },
   "file_extension": ".py",
   "mimetype": "text/x-python",
   "name": "python",
   "nbconvert_exporter": "python",
   "pygments_lexer": "ipython3",
   "version": "3.7.3"
  }
 },
 "nbformat": 4,
 "nbformat_minor": 2
}
