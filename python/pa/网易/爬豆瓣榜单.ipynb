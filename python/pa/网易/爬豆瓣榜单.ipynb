{
 "cells": [
  {
   "cell_type": "code",
   "execution_count": 57,
   "metadata": {},
   "outputs": [],
   "source": [
    "import requests\n",
    "from bs4 import BeautifulSoup\n",
    "import os\n",
    "headers = {\n",
    "    'Cookie': 'bid=lis5hP0TM3c; __utma=30149280.215656498.1569076843.1580988993.1580996226.16; __utmz=30149280.1579265256.11.4.utmcsr=accounts.douban.com|utmccn=(referral)|utmcmd=referral|utmcct=/passport/login_popup; ll=\"108306\"; _pk_ref.100001.8cb4=%5B%22%22%2C%22%22%2C1580996224%2C%22https%3A%2F%2Faccounts.douban.com%2Fpassport%2Flogin_popup%3Flogin_source%3Danony%22%5D; _pk_id.100001.8cb4=83673a1dce8e1b17.1569080810.45.1580996224.1580988991.; douban-fav-remind=1; _vwo_uuid_v2=DCF57D3544DCD0AA2CF0140A7B7E74005|f49805b3637a56125adf7ce5ba414f2e; push_noty_num=0; push_doumail_num=0; douban-profile-remind=1; gr_user_id=f95bb882-ab85-463f-beb0-9c8e56c1a046; __utmv=30149280.17214; __yadk_uid=FELRds26pL1ixIIcskkQqU70rasWsZwF; ct=y; hibext_instdsigdipv2=1; dbcl2=\"172143142:OMDi3cJPN5U\"; ck=8her; __utmc=30149280; _pk_ses.100001.8cb4=*; ap_v=0,6.0; __utmb=30149280.2.10.1580996226; __utmt=1',\n",
    "    'User-Agent': 'Mozilla/5.0 (Windows NT 10.0; Win64; x64; rv:72.0) Gecko/20100101 Firefox/72.0'\n",
    "}"
   ]
  },
  {
   "cell_type": "code",
   "execution_count": 55,
   "metadata": {},
   "outputs": [],
   "source": [
    "def get_html(url):\n",
    "    html = requests.get(url,headers=headers)\n",
    "    soup = BeautifulSoup(html.text,'lxml')\n",
    "    print('豆瓣新片榜')\n",
    "    flims = soup.select('tr.item')\n",
    "    for flim in flims:\n",
    "        title = flim.select_one('td a')['title']\n",
    "        urll = flim.select_one('td a')['href']\n",
    "        img = flim.select_one('img')['src']\n",
    "        print(title,urll)\n",
    "        download_img(img,title)\n",
    "    \n",
    "    movie_tops = soup.select('div.movie_top div.movie_top')\n",
    "    for movie_top in movie_tops:\n",
    "        h2 = movie_top.select_one('h2').text\n",
    "        print(h2)\n",
    "        flims = soup.select('li.clearfix')\n",
    "        for flim in flims:\n",
    "            title = flim.select_one('a').text.strip()\n",
    "            url = flim.select_one('a')['href']\n",
    "            print(title,url)"
   ]
  },
  {
   "cell_type": "code",
   "execution_count": null,
   "metadata": {},
   "outputs": [],
   "source": [
    "def download_img(img,title):\n",
    "    filename = 'download_img'\n",
    "    if os.\n",
    "    html = requests.get(img,headers=headers)\n",
    "    with open ('download_img/{}.jpg'.format(title),'wb') as f:\n",
    "        f.write(html.content)"
   ]
  },
  {
   "cell_type": "code",
   "execution_count": 56,
   "metadata": {},
   "outputs": [
    {
     "name": "stdout",
     "output_type": "stream",
     "text": [
      "豆瓣新片榜\n",
      "囧妈 https://movie.douban.com/subject/30306570/\n",
      "半个喜剧 https://movie.douban.com/subject/30269016/\n",
      "1917 https://movie.douban.com/subject/30252495/\n",
      "小妇人 https://movie.douban.com/subject/26348103/\n",
      "小丑 https://movie.douban.com/subject/27119724/\n",
      "阳光普照 https://movie.douban.com/subject/30292777/\n",
      "只有芸知道 https://movie.douban.com/subject/33436135/\n",
      "被光抓走的人 https://movie.douban.com/subject/30394535/\n",
      "82年生的金智英 https://movie.douban.com/subject/30327842/\n",
      "爱尔兰人 https://movie.douban.com/subject/6981153/\n",
      "一周口碑榜· · · · · · 1月31日 更新\n",
      "蜂蜜之地 https://movie.douban.com/subject/30391726/\n",
      "1917 https://movie.douban.com/subject/30252495/\n",
      "阳光普照 https://movie.douban.com/subject/30292777/\n",
      "黑水 https://movie.douban.com/subject/30331959/\n",
      "绅士们 https://movie.douban.com/subject/30211998/\n",
      "隐秘的生活 https://movie.douban.com/subject/26823502/\n",
      "宝贝男孩 https://movie.douban.com/subject/30129008/\n",
      "正义的慈悲 https://movie.douban.com/subject/26581206/\n",
      "浪潮 https://movie.douban.com/subject/30263576/\n",
      "与我跳舞 https://movie.douban.com/subject/30283209/\n",
      "绝地战警：疾速追击 https://movie.douban.com/subject/4014397/\n",
      "1917 https://movie.douban.com/subject/30252495/\n",
      "多力特的奇幻冒险 https://movie.douban.com/subject/27000981/\n",
      "格蕾特和韩塞尔 https://movie.douban.com/subject/34807058/\n",
      "绅士们 https://movie.douban.com/subject/30211998/\n",
      "勇敢者游戏2：再战巅峰 https://movie.douban.com/subject/30128985/\n",
      "星球大战9：天行者崛起 https://movie.douban.com/subject/22265687/\n",
      "拧紧 https://movie.douban.com/subject/27605034/\n",
      "小妇人 https://movie.douban.com/subject/26348103/\n",
      "节奏组 https://movie.douban.com/subject/27088813/\n",
      "北美票房榜· · · · · · 1月31日 更新 / 美元\n",
      "蜂蜜之地 https://movie.douban.com/subject/30391726/\n",
      "1917 https://movie.douban.com/subject/30252495/\n",
      "阳光普照 https://movie.douban.com/subject/30292777/\n",
      "黑水 https://movie.douban.com/subject/30331959/\n",
      "绅士们 https://movie.douban.com/subject/30211998/\n",
      "隐秘的生活 https://movie.douban.com/subject/26823502/\n",
      "宝贝男孩 https://movie.douban.com/subject/30129008/\n",
      "正义的慈悲 https://movie.douban.com/subject/26581206/\n",
      "浪潮 https://movie.douban.com/subject/30263576/\n",
      "与我跳舞 https://movie.douban.com/subject/30283209/\n",
      "绝地战警：疾速追击 https://movie.douban.com/subject/4014397/\n",
      "1917 https://movie.douban.com/subject/30252495/\n",
      "多力特的奇幻冒险 https://movie.douban.com/subject/27000981/\n",
      "格蕾特和韩塞尔 https://movie.douban.com/subject/34807058/\n",
      "绅士们 https://movie.douban.com/subject/30211998/\n",
      "勇敢者游戏2：再战巅峰 https://movie.douban.com/subject/30128985/\n",
      "星球大战9：天行者崛起 https://movie.douban.com/subject/22265687/\n",
      "拧紧 https://movie.douban.com/subject/27605034/\n",
      "小妇人 https://movie.douban.com/subject/26348103/\n",
      "节奏组 https://movie.douban.com/subject/27088813/\n"
     ]
    }
   ],
   "source": [
    "if __name__ == '__main__':\n",
    "    url = 'https://movie.douban.com/chart'\n",
    "    get_html(url)"
   ]
  },
  {
   "cell_type": "code",
   "execution_count": 52,
   "metadata": {},
   "outputs": [],
   "source": []
  },
  {
   "cell_type": "code",
   "execution_count": null,
   "metadata": {},
   "outputs": [],
   "source": []
  }
 ],
 "metadata": {
  "kernelspec": {
   "display_name": "Python 3",
   "language": "python",
   "name": "python3"
  },
  "language_info": {
   "codemirror_mode": {
    "name": "ipython",
    "version": 3
   },
   "file_extension": ".py",
   "mimetype": "text/x-python",
   "name": "python",
   "nbconvert_exporter": "python",
   "pygments_lexer": "ipython3",
   "version": "3.7.3"
  }
 },
 "nbformat": 4,
 "nbformat_minor": 2
}
