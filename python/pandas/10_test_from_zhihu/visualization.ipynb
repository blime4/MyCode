{
 "cells": [
  {
   "cell_type": "code",
   "execution_count": 1,
   "metadata": {},
   "outputs": [],
   "source": [
    "import pandas as pd\n",
    "import matplotlib.pyplot as plt\n",
    "import seaborn as sns\n",
    "import numpy as np\n",
    "\n",
    "path7 = './exercise_data/train.csv'"
   ]
  },
  {
   "cell_type": "code",
   "execution_count": 2,
   "metadata": {},
   "outputs": [
    {
     "data": {
      "text/html": [
       "<div>\n",
       "<style scoped>\n",
       "    .dataframe tbody tr th:only-of-type {\n",
       "        vertical-align: middle;\n",
       "    }\n",
       "\n",
       "    .dataframe tbody tr th {\n",
       "        vertical-align: top;\n",
       "    }\n",
       "\n",
       "    .dataframe thead th {\n",
       "        text-align: right;\n",
       "    }\n",
       "</style>\n",
       "<table border=\"1\" class=\"dataframe\">\n",
       "  <thead>\n",
       "    <tr style=\"text-align: right;\">\n",
       "      <th></th>\n",
       "      <th>PassengerId</th>\n",
       "      <th>Survived</th>\n",
       "      <th>Pclass</th>\n",
       "      <th>Name</th>\n",
       "      <th>Sex</th>\n",
       "      <th>Age</th>\n",
       "      <th>SibSp</th>\n",
       "      <th>Parch</th>\n",
       "      <th>Ticket</th>\n",
       "      <th>Fare</th>\n",
       "      <th>Cabin</th>\n",
       "      <th>Embarked</th>\n",
       "    </tr>\n",
       "  </thead>\n",
       "  <tbody>\n",
       "    <tr>\n",
       "      <th>0</th>\n",
       "      <td>1</td>\n",
       "      <td>0</td>\n",
       "      <td>3</td>\n",
       "      <td>Braund, Mr. Owen Harris</td>\n",
       "      <td>male</td>\n",
       "      <td>22.0</td>\n",
       "      <td>1</td>\n",
       "      <td>0</td>\n",
       "      <td>A/5 21171</td>\n",
       "      <td>7.2500</td>\n",
       "      <td>NaN</td>\n",
       "      <td>S</td>\n",
       "    </tr>\n",
       "    <tr>\n",
       "      <th>1</th>\n",
       "      <td>2</td>\n",
       "      <td>1</td>\n",
       "      <td>1</td>\n",
       "      <td>Cumings, Mrs. John Bradley (Florence Briggs Th...</td>\n",
       "      <td>female</td>\n",
       "      <td>38.0</td>\n",
       "      <td>1</td>\n",
       "      <td>0</td>\n",
       "      <td>PC 17599</td>\n",
       "      <td>71.2833</td>\n",
       "      <td>C85</td>\n",
       "      <td>C</td>\n",
       "    </tr>\n",
       "    <tr>\n",
       "      <th>2</th>\n",
       "      <td>3</td>\n",
       "      <td>1</td>\n",
       "      <td>3</td>\n",
       "      <td>Heikkinen, Miss. Laina</td>\n",
       "      <td>female</td>\n",
       "      <td>26.0</td>\n",
       "      <td>0</td>\n",
       "      <td>0</td>\n",
       "      <td>STON/O2. 3101282</td>\n",
       "      <td>7.9250</td>\n",
       "      <td>NaN</td>\n",
       "      <td>S</td>\n",
       "    </tr>\n",
       "    <tr>\n",
       "      <th>3</th>\n",
       "      <td>4</td>\n",
       "      <td>1</td>\n",
       "      <td>1</td>\n",
       "      <td>Futrelle, Mrs. Jacques Heath (Lily May Peel)</td>\n",
       "      <td>female</td>\n",
       "      <td>35.0</td>\n",
       "      <td>1</td>\n",
       "      <td>0</td>\n",
       "      <td>113803</td>\n",
       "      <td>53.1000</td>\n",
       "      <td>C123</td>\n",
       "      <td>S</td>\n",
       "    </tr>\n",
       "    <tr>\n",
       "      <th>4</th>\n",
       "      <td>5</td>\n",
       "      <td>0</td>\n",
       "      <td>3</td>\n",
       "      <td>Allen, Mr. William Henry</td>\n",
       "      <td>male</td>\n",
       "      <td>35.0</td>\n",
       "      <td>0</td>\n",
       "      <td>0</td>\n",
       "      <td>373450</td>\n",
       "      <td>8.0500</td>\n",
       "      <td>NaN</td>\n",
       "      <td>S</td>\n",
       "    </tr>\n",
       "  </tbody>\n",
       "</table>\n",
       "</div>"
      ],
      "text/plain": [
       "   PassengerId  Survived  Pclass  \\\n",
       "0            1         0       3   \n",
       "1            2         1       1   \n",
       "2            3         1       3   \n",
       "3            4         1       1   \n",
       "4            5         0       3   \n",
       "\n",
       "                                                Name     Sex   Age  SibSp  \\\n",
       "0                            Braund, Mr. Owen Harris    male  22.0      1   \n",
       "1  Cumings, Mrs. John Bradley (Florence Briggs Th...  female  38.0      1   \n",
       "2                             Heikkinen, Miss. Laina  female  26.0      0   \n",
       "3       Futrelle, Mrs. Jacques Heath (Lily May Peel)  female  35.0      1   \n",
       "4                           Allen, Mr. William Henry    male  35.0      0   \n",
       "\n",
       "   Parch            Ticket     Fare Cabin Embarked  \n",
       "0      0         A/5 21171   7.2500   NaN        S  \n",
       "1      0          PC 17599  71.2833   C85        C  \n",
       "2      0  STON/O2. 3101282   7.9250   NaN        S  \n",
       "3      0            113803  53.1000  C123        S  \n",
       "4      0            373450   8.0500   NaN        S  "
      ]
     },
     "execution_count": 2,
     "metadata": {},
     "output_type": "execute_result"
    }
   ],
   "source": [
    "titanic = pd.read_csv(path7)\n",
    "titanic.head()"
   ]
  },
  {
   "cell_type": "code",
   "execution_count": 3,
   "metadata": {},
   "outputs": [
    {
     "data": {
      "text/html": [
       "<div>\n",
       "<style scoped>\n",
       "    .dataframe tbody tr th:only-of-type {\n",
       "        vertical-align: middle;\n",
       "    }\n",
       "\n",
       "    .dataframe tbody tr th {\n",
       "        vertical-align: top;\n",
       "    }\n",
       "\n",
       "    .dataframe thead th {\n",
       "        text-align: right;\n",
       "    }\n",
       "</style>\n",
       "<table border=\"1\" class=\"dataframe\">\n",
       "  <thead>\n",
       "    <tr style=\"text-align: right;\">\n",
       "      <th></th>\n",
       "      <th>Survived</th>\n",
       "      <th>Pclass</th>\n",
       "      <th>Name</th>\n",
       "      <th>Sex</th>\n",
       "      <th>Age</th>\n",
       "      <th>SibSp</th>\n",
       "      <th>Parch</th>\n",
       "      <th>Ticket</th>\n",
       "      <th>Fare</th>\n",
       "      <th>Cabin</th>\n",
       "      <th>Embarked</th>\n",
       "    </tr>\n",
       "    <tr>\n",
       "      <th>PassengerId</th>\n",
       "      <th></th>\n",
       "      <th></th>\n",
       "      <th></th>\n",
       "      <th></th>\n",
       "      <th></th>\n",
       "      <th></th>\n",
       "      <th></th>\n",
       "      <th></th>\n",
       "      <th></th>\n",
       "      <th></th>\n",
       "      <th></th>\n",
       "    </tr>\n",
       "  </thead>\n",
       "  <tbody>\n",
       "    <tr>\n",
       "      <th>1</th>\n",
       "      <td>0</td>\n",
       "      <td>3</td>\n",
       "      <td>Braund, Mr. Owen Harris</td>\n",
       "      <td>male</td>\n",
       "      <td>22.0</td>\n",
       "      <td>1</td>\n",
       "      <td>0</td>\n",
       "      <td>A/5 21171</td>\n",
       "      <td>7.2500</td>\n",
       "      <td>NaN</td>\n",
       "      <td>S</td>\n",
       "    </tr>\n",
       "    <tr>\n",
       "      <th>2</th>\n",
       "      <td>1</td>\n",
       "      <td>1</td>\n",
       "      <td>Cumings, Mrs. John Bradley (Florence Briggs Th...</td>\n",
       "      <td>female</td>\n",
       "      <td>38.0</td>\n",
       "      <td>1</td>\n",
       "      <td>0</td>\n",
       "      <td>PC 17599</td>\n",
       "      <td>71.2833</td>\n",
       "      <td>C85</td>\n",
       "      <td>C</td>\n",
       "    </tr>\n",
       "    <tr>\n",
       "      <th>3</th>\n",
       "      <td>1</td>\n",
       "      <td>3</td>\n",
       "      <td>Heikkinen, Miss. Laina</td>\n",
       "      <td>female</td>\n",
       "      <td>26.0</td>\n",
       "      <td>0</td>\n",
       "      <td>0</td>\n",
       "      <td>STON/O2. 3101282</td>\n",
       "      <td>7.9250</td>\n",
       "      <td>NaN</td>\n",
       "      <td>S</td>\n",
       "    </tr>\n",
       "    <tr>\n",
       "      <th>4</th>\n",
       "      <td>1</td>\n",
       "      <td>1</td>\n",
       "      <td>Futrelle, Mrs. Jacques Heath (Lily May Peel)</td>\n",
       "      <td>female</td>\n",
       "      <td>35.0</td>\n",
       "      <td>1</td>\n",
       "      <td>0</td>\n",
       "      <td>113803</td>\n",
       "      <td>53.1000</td>\n",
       "      <td>C123</td>\n",
       "      <td>S</td>\n",
       "    </tr>\n",
       "    <tr>\n",
       "      <th>5</th>\n",
       "      <td>0</td>\n",
       "      <td>3</td>\n",
       "      <td>Allen, Mr. William Henry</td>\n",
       "      <td>male</td>\n",
       "      <td>35.0</td>\n",
       "      <td>0</td>\n",
       "      <td>0</td>\n",
       "      <td>373450</td>\n",
       "      <td>8.0500</td>\n",
       "      <td>NaN</td>\n",
       "      <td>S</td>\n",
       "    </tr>\n",
       "  </tbody>\n",
       "</table>\n",
       "</div>"
      ],
      "text/plain": [
       "             Survived  Pclass  \\\n",
       "PassengerId                     \n",
       "1                   0       3   \n",
       "2                   1       1   \n",
       "3                   1       3   \n",
       "4                   1       1   \n",
       "5                   0       3   \n",
       "\n",
       "                                                          Name     Sex   Age  \\\n",
       "PassengerId                                                                    \n",
       "1                                      Braund, Mr. Owen Harris    male  22.0   \n",
       "2            Cumings, Mrs. John Bradley (Florence Briggs Th...  female  38.0   \n",
       "3                                       Heikkinen, Miss. Laina  female  26.0   \n",
       "4                 Futrelle, Mrs. Jacques Heath (Lily May Peel)  female  35.0   \n",
       "5                                     Allen, Mr. William Henry    male  35.0   \n",
       "\n",
       "             SibSp  Parch            Ticket     Fare Cabin Embarked  \n",
       "PassengerId                                                          \n",
       "1                1      0         A/5 21171   7.2500   NaN        S  \n",
       "2                1      0          PC 17599  71.2833   C85        C  \n",
       "3                0      0  STON/O2. 3101282   7.9250   NaN        S  \n",
       "4                1      0            113803  53.1000  C123        S  \n",
       "5                0      0            373450   8.0500   NaN        S  "
      ]
     },
     "execution_count": 3,
     "metadata": {},
     "output_type": "execute_result"
    }
   ],
   "source": [
    "titanic.set_index('PassengerId').head()"
   ]
  },
  {
   "cell_type": "code",
   "execution_count": 4,
   "metadata": {},
   "outputs": [
    {
     "data": {
      "image/png": "[encoded data removed]",
      "text/plain": [
       "<Figure size 432x288 with 1 Axes>"
      ]
     },
     "metadata": {},
     "output_type": "display_data"
    }
   ],
   "source": [
    "males = (titanic['Sex']=='male').sum()\n",
    "females = (titanic['Sex']=='female').sum()\n",
    "\n",
    "proportions = [males,females]\n",
    "\n",
    "plt.pie(\n",
    "    proportions,\n",
    "    labels = ['Males','Female'],\n",
    "    shadow = False,\n",
    "    colors = ['blue','red'],\n",
    "    explode = (0.15,0),\n",
    "    startangle = 90,\n",
    "    autopct = '%1.1f%%'\n",
    ")\n",
    "plt.axis('equal')\n",
    "plt.title(\"Sex Proportion\")\n",
    "plt.tight_layout()\n",
    "plt.show()"
   ]
  },
  {
   "cell_type": "code",
   "execution_count": 5,
   "metadata": {},
   "outputs": [
    {
     "name": "stdout",
     "output_type": "stream",
     "text": [
      "\u001b[?25l\u001b[36m⠋\u001b[39m \u001b[2K\u001b[1G\u001b[36m⠙\u001b[39m \u001b[2K\u001b[1G\u001b[36m⠹\u001b[39m  layout \u001b[35m 英[ ˈleɪaʊt ] \u001b[39m\u001b[35m 美[ ˈleˌaʊt ] \u001b[39m\u001b[90m ~  iciba.com\u001b[39m\n",
      " \n",
      " \u001b[90m- \u001b[39m\u001b[32mn. 布局，安排，设计；布置图，规划图；\u001b[39m\n",
      " \n",
      " \u001b[90m1. \u001b[39m\u001b[90mThe thesis analysed \u001b[39m\u001b[33mlayout\u001b[39m\u001b[90m design and complete the \u001b[39m\u001b[33mlayout\u001b[39m\u001b[90m of the sample - hold circuits.\u001b[39m\n",
      "    \u001b[36m论文通过对 采样保持 电路版图的设计,分析了版图的优化.\u001b[39m\n",
      " \u001b[90m2. \u001b[39m\u001b[90mAmong them, deep in the \u001b[39m\u001b[33mlayout\u001b[39m\u001b[90m west of immigration facilities , infrastructure \u001b[39m\u001b[33mlayout\u001b[39m\u001b[90m in of country.\u001b[39m\n",
      "    \u001b[36m其中, 深方入境设施布置在西侧, 出境设施布置在东侧.\u001b[39m\n",
      " \u001b[90m3. \u001b[39m\u001b[90mThree experimental \u001b[39m\u001b[33mlayout\u001b[39m\u001b[90m manager use of Objective 1 . Master \u001b[39m\u001b[33mlayout\u001b[39m\u001b[90m manager role . 2.\u001b[39m\n",
      "    \u001b[36m实验三布局管理器的使用目的1.掌握布局管理器的作用.\u001b[39m\n",
      " \u001b[90m4. \u001b[39m\u001b[90mFamiliar with PCB \u001b[39m\u001b[33mlayout\u001b[39m\u001b[90m regulation. Have experience on PCB \u001b[39m\u001b[33mLayout\u001b[39m\u001b[90m at least 6 months.\u001b[39m\n",
      "    \u001b[36m具备线路板设计能力, 从事线路板布板工作6个月以上.\u001b[39m\n",
      " \u001b[90m5. \u001b[39m\u001b[90mThat is, the book \u001b[39m\u001b[33mlayout\u001b[39m\u001b[90m design specifications, including the format, row - style , \u001b[39m\u001b[33mlayout\u001b[39m\u001b[90m, illustrations.\u001b[39m\n",
      "    \u001b[36m版式即书籍的规格式样, 包括开本 、 排 式 、 版面 、 插图等.\u001b[39m\n",
      " \n",
      " \u001b[90m -------- \u001b[39m\n",
      " \n",
      " layout\u001b[35m  [ 'leɪaʊt ]\u001b[39m\u001b[90m  ~  fanyi.youdao.com\u001b[39m\n",
      " \n",
      " \u001b[90m- \u001b[39m\u001b[32mn. 布局；设计；安排；陈列\u001b[39m\n",
      " \n",
      " \u001b[90m1. \u001b[39m\u001b[90m\u001b[39m\u001b[33mLayout\u001b[39m\u001b[90m\u001b[39m\n",
      "    \u001b[36m布局,排唛,设计\u001b[39m\n",
      " \u001b[90m2. \u001b[39m\u001b[90mpage \u001b[39m\u001b[33mlayout\u001b[39m\u001b[90m\u001b[39m\n",
      "    \u001b[36m版面设计,页面布局,版式\u001b[39m\n",
      " \u001b[90m3. \u001b[39m\u001b[90mPCB \u001b[39m\u001b[33mLayout\u001b[39m\u001b[90m\u001b[39m\n",
      "    \u001b[36m硬件工程师,工程师,版图设计工程师\u001b[39m\n",
      " \n",
      " \u001b[90m -------- \u001b[39m\n",
      " \n",
      "\u001b[2K\u001b[1G\u001b[36m⠸\u001b[39m \u001b[2K\u001b[1G\u001b[36m⠼\u001b[39m \u001b[2K\u001b[1G\u001b[36m⠴\u001b[39m \u001b[2K\u001b[1G\u001b[36m⠦\u001b[39m \u001b[2K\u001b[1G\u001b[36m⠧\u001b[39m \u001b[2K\u001b[1G\u001b[36m⠇\u001b[39m  layout\u001b[90m  ~  dictionaryapi.com\u001b[39m\n",
      " \n",
      " \u001b[90m - \u001b[39m\u001b[32mthe plan or design or arrangement of something laid out: as\u001b[39m\n",
      " \u001b[90m - \u001b[39m\u001b[32mfinal arrangement of matter to be reproduced especially by printing \u001b[39m\n",
      " \u001b[90m - \u001b[39m\u001b[32mthe act or process of planning or laying out in detail\u001b[39m\n",
      " \u001b[90m - \u001b[39m\u001b[32msomething that is laid out \u001b[39m\n",
      " \u001b[90m - \u001b[39m\u001b[32mland or structures or rooms used for a particular purpose \u001b[39m\n",
      " \u001b[90m - \u001b[39m\u001b[32ma set or outfit especially of tools\u001b[39m\n",
      " \n",
      " \u001b[90m -------- \u001b[39m\n",
      " \n",
      "\u001b[2K\u001b[1G\u001b[?25h\u001b[?25h"
     ]
    }
   ],
   "source": [
    "!fy layout"
   ]
  },
  {
   "cell_type": "code",
   "execution_count": 6,
   "metadata": {},
   "outputs": [
    {
     "data": {
      "text/plain": [
       "679    512.3292\n",
       "258    512.3292\n",
       "737    512.3292\n",
       "341    263.0000\n",
       "438    263.0000\n",
       "88     263.0000\n",
       "27     263.0000\n",
       "311    262.3750\n",
       "742    262.3750\n",
       "299    247.5208\n",
       "118    247.5208\n",
       "716    227.5250\n",
       "557    227.5250\n",
       "380    227.5250\n",
       "700    227.5250\n",
       "527    221.7792\n",
       "377    211.5000\n",
       "689    211.3375\n",
       "730    211.3375\n",
       "779    211.3375\n",
       "318    164.8667\n",
       "856    164.8667\n",
       "268    153.4625\n",
       "332    153.4625\n",
       "609    153.4625\n",
       "297    151.5500\n",
       "305    151.5500\n",
       "498    151.5500\n",
       "708    151.5500\n",
       "31     146.5208\n",
       "         ...   \n",
       "611      7.0500\n",
       "477      7.0458\n",
       "804      6.9750\n",
       "129      6.9750\n",
       "825      6.9500\n",
       "411      6.8583\n",
       "143      6.7500\n",
       "654      6.7500\n",
       "202      6.4958\n",
       "371      6.4958\n",
       "818      6.4500\n",
       "843      6.4375\n",
       "326      6.2375\n",
       "872      5.0000\n",
       "378      4.0125\n",
       "815      0.0000\n",
       "822      0.0000\n",
       "481      0.0000\n",
       "806      0.0000\n",
       "179      0.0000\n",
       "732      0.0000\n",
       "466      0.0000\n",
       "263      0.0000\n",
       "674      0.0000\n",
       "413      0.0000\n",
       "277      0.0000\n",
       "633      0.0000\n",
       "302      0.0000\n",
       "597      0.0000\n",
       "271      0.0000\n",
       "Name: Fare, Length: 891, dtype: float64"
      ]
     },
     "execution_count": 6,
     "metadata": {},
     "output_type": "execute_result"
    }
   ],
   "source": [
    "df = titanic.Fare.sort_values(ascending=False)\n",
    "df"
   ]
  },
  {
   "cell_type": "code",
   "execution_count": 7,
   "metadata": {},
   "outputs": [
    {
     "data": {
      "text/plain": [
       "array([  0,  10,  20,  30,  40,  50,  60,  70,  80,  90, 100, 110, 120,\n",
       "       130, 140, 150, 160, 170, 180, 190, 200, 210, 220, 230, 240, 250,\n",
       "       260, 270, 280, 290, 300, 310, 320, 330, 340, 350, 360, 370, 380,\n",
       "       390, 400, 410, 420, 430, 440, 450, 460, 470, 480, 490, 500, 510,\n",
       "       520, 530, 540, 550, 560, 570, 580, 590])"
      ]
     },
     "execution_count": 7,
     "metadata": {},
     "output_type": "execute_result"
    }
   ],
   "source": [
    "binsVal = np.arange(0,600,10)\n",
    "binsVal"
   ]
  },
  {
   "cell_type": "code",
   "execution_count": 8,
   "metadata": {},
   "outputs": [
    {
     "data": {
      "image/png": "[encoded data removed]",
      "text/plain": [
       "<Figure size 432x288 with 1 Axes>"
      ]
     },
     "metadata": {
      "needs_background": "light"
     },
     "output_type": "display_data"
    }
   ],
   "source": [
    "plt.hist(df,bins=binsVal)\n",
    "plt.xlabel('Fare')\n",
    "plt.ylabel('Frequency')\n",
    "plt.title('Fare Payed Histrogram')\n",
    "plt.show()"
   ]
  },
  {
   "cell_type": "code",
   "execution_count": 9,
   "metadata": {},
   "outputs": [
    {
     "name": "stdout",
     "output_type": "stream",
     "text": [
      "\u001b[?25l\u001b[36m⠋\u001b[39m \u001b[2K\u001b[1G\u001b[36m⠙\u001b[39m \u001b[2K\u001b[1G\u001b[36m⠹\u001b[39m  histrogram \u001b[90m ~  iciba.com\u001b[39m\n",
      " \n",
      " \u001b[90m -------- \u001b[39m\n",
      " \n",
      " Histrogram\u001b[90m  ~  fanyi.youdao.com\u001b[39m\n",
      " \n",
      " \u001b[90m1. \u001b[39m\u001b[90m\u001b[39m\u001b[33mHistrogram\u001b[39m\u001b[90m\u001b[39m\n",
      "    \u001b[36m直方图\u001b[39m\n",
      " \u001b[90m2. \u001b[39m\u001b[90mtime \u001b[39m\u001b[33mhistrogram\u001b[39m\u001b[90m\u001b[39m\n",
      "    \u001b[36m时间直方图\u001b[39m\n",
      " \u001b[90m3. \u001b[39m\u001b[90m\u001b[39m\u001b[33mHistrogram\u001b[39m\u001b[90m Power Law Transformation\u001b[39m\n",
      "    \u001b[36m详细说明\u001b[39m\n",
      " \n",
      " \u001b[90m -------- \u001b[39m\n",
      " \n",
      "\u001b[2K\u001b[1G\u001b[36m⠸\u001b[39m \u001b[2K\u001b[1G\u001b[36m⠼\u001b[39m \u001b[2K\u001b[1G\u001b[36m⠴\u001b[39m \u001b[2K\u001b[1G\u001b[36m⠦\u001b[39m \u001b[2K\u001b[1G\u001b[36m⠧\u001b[39m \u001b[2K\u001b[1G\u001b[36m⠇\u001b[39m  histrogram\u001b[90m  ~  dictionaryapi.com\u001b[39m\n",
      " \n",
      "\u001b[2K\u001b[1G\u001b[?25h\u001b[?25h"
     ]
    }
   ],
   "source": [
    "!fy histrogram"
   ]
  },
  {
   "cell_type": "code",
   "execution_count": 10,
   "metadata": {},
   "outputs": [
    {
     "data": {
      "image/png": "[encoded data removed]",
      "text/plain": [
       "<Figure size 432x288 with 1 Axes>"
      ]
     },
     "metadata": {
      "needs_background": "light"
     },
     "output_type": "display_data"
    }
   ],
   "source": [
    "plt.hist(df)\n",
    "plt.show()"
   ]
  },
  {
   "cell_type": "markdown",
   "metadata": {},
   "source": [
    "# New heading"
   ]
  },
  {
   "cell_type": "markdown",
   "metadata": {},
   "source": [
    "# New heading"
   ]
  },
  {
   "cell_type": "code",
   "execution_count": null,
   "metadata": {},
   "outputs": [],
   "source": []
  }
 ],
 "metadata": {
  "kernelspec": {
   "display_name": "Python 3",
   "language": "python",
   "name": "python3"
  },
  "language_info": {
   "codemirror_mode": {
    "name": "ipython",
    "version": 3
   },
   "file_extension": ".py",
   "mimetype": "text/x-python",
   "name": "python",
   "nbconvert_exporter": "python",
   "pygments_lexer": "ipython3",
   "version": "3.7.3"
  }
 },
 "nbformat": 4,
 "nbformat_minor": 2
}
