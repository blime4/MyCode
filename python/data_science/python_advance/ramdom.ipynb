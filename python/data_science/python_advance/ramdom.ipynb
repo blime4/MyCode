{
 "cells": [
  {
   "cell_type": "code",
   "execution_count": 1,
   "metadata": {},
   "outputs": [],
   "source": [
    "import random\n",
    "\n",
    "four_uniform_randoms = [random.random() for _ in range(4)]"
   ]
  },
  {
   "cell_type": "code",
   "execution_count": 2,
   "metadata": {},
   "outputs": [
    {
     "data": {
      "text/plain": [
       "[0.3618342161528926,\n",
       " 0.15874800108072673,\n",
       " 0.2771852966058438,\n",
       " 0.5318736418733834]"
      ]
     },
     "execution_count": 2,
     "metadata": {},
     "output_type": "execute_result"
    }
   ],
   "source": [
    "four_uniform_randoms"
   ]
  },
  {
   "cell_type": "code",
   "execution_count": 3,
   "metadata": {},
   "outputs": [
    {
     "name": "stdout",
     "output_type": "stream",
     "text": [
      "0.5714025946899135\n"
     ]
    }
   ],
   "source": [
    "random.seed(10)\n",
    "print(random.random())"
   ]
  },
  {
   "cell_type": "code",
   "execution_count": 4,
   "metadata": {},
   "outputs": [
    {
     "name": "stdout",
     "output_type": "stream",
     "text": [
      "6\n"
     ]
    }
   ],
   "source": [
    "print(random.randrange(10))\n"
   ]
  },
  {
   "cell_type": "code",
   "execution_count": 9,
   "metadata": {},
   "outputs": [
    {
     "name": "stdout",
     "output_type": "stream",
     "text": [
      "Alice\n"
     ]
    }
   ],
   "source": [
    "my_best_friend = random.choice([\"Alice\", \"Bob\", \"Charlie\"])\n",
    "print(my_best_friend)"
   ]
  },
  {
   "cell_type": "code",
   "execution_count": 10,
   "metadata": {},
   "outputs": [],
   "source": [
    "lottery_numbers = range(60)\n",
    "winning_numbers = random.sample(lottery_numbers,6)"
   ]
  },
  {
   "cell_type": "code",
   "execution_count": 11,
   "metadata": {},
   "outputs": [
    {
     "name": "stdout",
     "output_type": "stream",
     "text": [
      "[13, 29, 52, 31, 57, 17]\n"
     ]
    }
   ],
   "source": [
    "print(winning_numbers)"
   ]
  },
  {
   "cell_type": "code",
   "execution_count": 12,
   "metadata": {},
   "outputs": [
    {
     "name": "stdout",
     "output_type": "stream",
     "text": [
      "\n",
      "\u001b[?25l\u001b[36m⠋\u001b[39m \u001b[2K\u001b[1G\u001b[36m⠙\u001b[39m \u001b[2K\u001b[1G\u001b[36m⠹\u001b[39m \u001b[2K\u001b[1G\u001b[36m⠸\u001b[39m \u001b[2K\u001b[1G\u001b[36m⠼\u001b[39m \u001b[2K\u001b[1G\u001b[36m⠴\u001b[39m \u001b[2K\u001b[1G\u001b[36m⠦\u001b[39m  lottery\u001b[35m  [ 'lɒt(ə)rɪ ]\u001b[39m\u001b[90m  ~  fanyi.youdao.com\u001b[39m\n",
      " \n",
      " \u001b[90m- \u001b[39m\u001b[32mn. 彩票；碰运气的事，难算计的事；抽彩给奖法\u001b[39m\n",
      " \n",
      " \u001b[90m1. \u001b[39m\u001b[90m\u001b[39m\u001b[33mlottery\u001b[39m\u001b[90m\u001b[39m\n",
      "    \u001b[36m彩票,开奖,彩民\u001b[39m\n",
      " \u001b[90m2. \u001b[39m\u001b[90msports \u001b[39m\u001b[33mlottery\u001b[39m\u001b[90m\u001b[39m\n",
      "    \u001b[36m体育彩票,天朝体育彩票,体育博彩业\u001b[39m\n",
      " \u001b[90m3. \u001b[39m\u001b[90m\u001b[39m\u001b[33mLottery\u001b[39m\u001b[90m prediction\u001b[39m\n",
      "    \u001b[36m彩票预测,专业彩票预测,副业彩票预测\u001b[39m\n",
      " \n",
      " \u001b[90m -------- \u001b[39m\n",
      " \n",
      "\u001b[2K\u001b[1G\u001b[36m⠧\u001b[39m \u001b[2K\u001b[1G\u001b[36m⠇\u001b[39m  lottery \u001b[35m 英[ ˈlɒtəri ] \u001b[39m\u001b[35m 美[ ˈlɑtəri ] \u001b[39m\u001b[90m ~  iciba.com\u001b[39m\n",
      " \n",
      " \u001b[90m- \u001b[39m\u001b[32mn. 彩票；碰运气的事；\u001b[39m\n",
      " \n",
      " \u001b[90m1. \u001b[39m\u001b[90mYou won the \u001b[39m\u001b[33mlottery\u001b[39m\u001b[90m? You're kidding me.\u001b[39m\n",
      "    \u001b[36m你中了彩券? 你一定在骗我的.\u001b[39m\n",
      " \u001b[90m2. \u001b[39m\u001b[90mEight out of ten Spaniards bought tickets for the \u001b[39m\u001b[33mlottery\u001b[39m\u001b[90m, spending on average 64 euros.\u001b[39m\n",
      "    \u001b[36m今年西班牙全国有四分之三的人购买了“胖子彩票”, 人均花费64欧元.\u001b[39m\n",
      " \u001b[90m3. \u001b[39m\u001b[90mMy best friend won a motza in the China Sports \u001b[39m\u001b[33mLottery\u001b[39m\u001b[90m.\u001b[39m\n",
      "    \u001b[36m我最好的朋友买中国运动奖卷中了很多钱.\u001b[39m\n",
      " \u001b[90m4. \u001b[39m\u001b[90mA. I just won a million dollars in the \u001b[39m\u001b[33mlottery\u001b[39m\u001b[90m!\u001b[39m\n",
      "    \u001b[36m我中彩票赢了一百万美元!\u001b[39m\n",
      " \u001b[90m5. \u001b[39m\u001b[90mWhat can we do to avoid the problems mentioned in the passage the \u001b[39m\u001b[33mlottery\u001b[39m\u001b[90m?\u001b[39m\n",
      "    \u001b[36m通过以上步骤让学生掌握文章内容,及与之有用的相关表达,并推动其思考解决问题能力.\u001b[39m\n",
      " \n",
      " \u001b[90m -------- \u001b[39m\n",
      " \n",
      "\u001b[2K\u001b[1G\u001b[36m⠏\u001b[39m \u001b[2K\u001b[1G\u001b[36m⠋\u001b[39m \u001b[2K\u001b[1G\u001b[36m⠙\u001b[39m \u001b[2K\u001b[1G\u001b[36m⠹\u001b[39m \u001b[2K\u001b[1G\u001b[36m⠸\u001b[39m \u001b[2K\u001b[1G\u001b[36m⠼\u001b[39m \u001b[2K\u001b[1G\u001b[36m⠴\u001b[39m \u001b[2K\u001b[1G\u001b[36m⠦\u001b[39m \u001b[2K\u001b[1G\u001b[36m⠧\u001b[39m  lottery\u001b[90m  ~  dictionaryapi.com\u001b[39m\n",
      " \n",
      " \u001b[90m - \u001b[39m\u001b[32ma drawing of lots in which prizes are distributed to the winners among persons buying a chance\u001b[39m\n",
      " \u001b[90m - \u001b[39m\u001b[32ma drawing of lots used to decide something\u001b[39m\n",
      " \u001b[90m - \u001b[39m\u001b[32man event or affair whose outcome is or seems to be determined by chance\u001b[39m\n",
      " \n",
      " \u001b[90m -------- \u001b[39m\n",
      " \n",
      "\u001b[2K\u001b[1G\u001b[?25h\u001b[?25h"
     ]
    }
   ],
   "source": [
    "! fy lottery"
   ]
  },
  {
   "cell_type": "code",
   "execution_count": 13,
   "metadata": {},
   "outputs": [],
   "source": [
    "four_with_replacement = [random.choice(range(10)) for _ in range(4)]"
   ]
  },
  {
   "cell_type": "code",
   "execution_count": 15,
   "metadata": {},
   "outputs": [
    {
     "data": {
      "text/plain": [
       "[2, 0, 8, 7]"
      ]
     },
     "execution_count": 15,
     "metadata": {},
     "output_type": "execute_result"
    }
   ],
   "source": [
    "four_with_replacement"
   ]
  },
  {
   "cell_type": "code",
   "execution_count": null,
   "metadata": {},
   "outputs": [],
   "source": []
  }
 ],
 "metadata": {
  "kernelspec": {
   "display_name": "Python 3",
   "language": "python",
   "name": "python3"
  },
  "language_info": {
   "codemirror_mode": {
    "name": "ipython",
    "version": 3
   },
   "file_extension": ".py",
   "mimetype": "text/x-python",
   "name": "python",
   "nbconvert_exporter": "python",
   "pygments_lexer": "ipython3",
   "version": "3.7.4"
  }
 },
 "nbformat": 4,
 "nbformat_minor": 2
}
