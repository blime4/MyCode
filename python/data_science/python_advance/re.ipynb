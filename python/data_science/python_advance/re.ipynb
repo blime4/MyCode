{
 "cells": [
  {
   "cell_type": "code",
   "execution_count": 2,
   "metadata": {},
   "outputs": [
    {
     "name": "stdout",
     "output_type": "stream",
     "text": [
      "[True, <re.Match object; span=(1, 2), match='a'>, True, True, True]\n"
     ]
    }
   ],
   "source": [
    "import re\n",
    "\n",
    "print ([\n",
    "    not re.match(\"a\",\"cat\"),\n",
    "    re.search(\"a\",\"cat\"),\n",
    "    not re.search(\"c\",\"dog\"),\n",
    "    3 == len(re.split(\"[ab]\",\"carbs\")),\n",
    "    \"R-D-\" == re.sub(\"[0-9]\",\"-\",\"R2D2\")\n",
    "])"
   ]
  },
  {
   "cell_type": "code",
   "execution_count": null,
   "metadata": {},
   "outputs": [],
   "source": []
  }
 ],
 "metadata": {
  "kernelspec": {
   "display_name": "Python 3",
   "language": "python",
   "name": "python3"
  },
  "language_info": {
   "codemirror_mode": {
    "name": "ipython",
    "version": 3
   },
   "file_extension": ".py",
   "mimetype": "text/x-python",
   "name": "python",
   "nbconvert_exporter": "python",
   "pygments_lexer": "ipython3",
   "version": "3.7.4"
  }
 },
 "nbformat": 4,
 "nbformat_minor": 2
}
