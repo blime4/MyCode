{
 "cells": [
  {
   "cell_type": "code",
   "execution_count": 1,
   "metadata": {},
   "outputs": [
    {
     "name": "stdout",
     "output_type": "stream",
     "text": [
      "8\n"
     ]
    }
   ],
   "source": [
    "def exp(base,power):\n",
    "    return base**power\n",
    "\n",
    "def two_to_the(power):\n",
    "    return exp(2,power)\n",
    "\n",
    "from functools import partial\n",
    "two_to_the = partial(exp,2)\n",
    "print(two_to_the(3))"
   ]
  },
  {
   "cell_type": "code",
   "execution_count": 2,
   "metadata": {},
   "outputs": [
    {
     "data": {
      "text/plain": [
       "functools.partial(<function exp at 0x7f7964e1ea70>, 2)"
      ]
     },
     "execution_count": 2,
     "metadata": {},
     "output_type": "execute_result"
    }
   ],
   "source": [
    "two_to_the"
   ]
  },
  {
   "cell_type": "code",
   "execution_count": 3,
   "metadata": {},
   "outputs": [
    {
     "name": "stdout",
     "output_type": "stream",
     "text": [
      "\n",
      "\u001b[?25l\u001b[36m⠋\u001b[39m \u001b[2K\u001b[1G\u001b[36m⠙\u001b[39m  partial\u001b[35m  [ 'pɑːʃ(ə)l ]\u001b[39m\u001b[90m  ~  fanyi.youdao.com\u001b[39m\n",
      " \n",
      " \u001b[90m- \u001b[39m\u001b[32madj. 局部的；偏爱的；不公平的\u001b[39m\n",
      " \n",
      " \u001b[90m1. \u001b[39m\u001b[90m\u001b[39m\u001b[33mpartial\u001b[39m\u001b[90m\u001b[39m\n",
      "    \u001b[36m部分的,偏袒,不公平的\u001b[39m\n",
      " \u001b[90m2. \u001b[39m\u001b[90m\u001b[39m\u001b[33mpartial\u001b[39m\u001b[90m agonist\u001b[39m\n",
      "    \u001b[36m部分激动剂,部分激动药,局部促效剂\u001b[39m\n",
      " \u001b[90m3. \u001b[39m\u001b[90m\u001b[39m\u001b[33mPartial\u001b[39m\u001b[90m correlation\u001b[39m\n",
      "    \u001b[36m偏相关,净相关,部分相关\u001b[39m\n",
      " \n",
      " \u001b[90m -------- \u001b[39m\n",
      " \n",
      "\u001b[2K\u001b[1G\u001b[36m⠹\u001b[39m \u001b[2K\u001b[1G\u001b[36m⠸\u001b[39m \u001b[2K\u001b[1G\u001b[36m⠼\u001b[39m \u001b[2K\u001b[1G\u001b[36m⠴\u001b[39m \u001b[2K\u001b[1G\u001b[36m⠦\u001b[39m \u001b[2K\u001b[1G\u001b[36m⠧\u001b[39m \u001b[2K\u001b[1G\u001b[36m⠇\u001b[39m \u001b[2K\u001b[1G\u001b[36m⠏\u001b[39m \u001b[2K\u001b[1G\u001b[36m⠋\u001b[39m \u001b[2K\u001b[1G\u001b[36m⠙\u001b[39m  partial\u001b[90m  ~  dictionaryapi.com\u001b[39m\n",
      " \n",
      " \u001b[90m - \u001b[39m\u001b[32mof or relating to a part rather than the whole :not general or total \u001b[39m\n",
      " \u001b[90m - \u001b[39m\u001b[32minclined to favor one  more than the other\u001b[39m\n",
      " \u001b[90m - \u001b[39m\u001b[32mmarkedly fond of someone or something \u001b[39m\n",
      " \n",
      " \u001b[90m -------- \u001b[39m\n",
      " \n",
      "\u001b[2K\u001b[1G\u001b[?25h\u001b[?25h"
     ]
    }
   ],
   "source": [
    "! fy partial"
   ]
  },
  {
   "cell_type": "code",
   "execution_count": 4,
   "metadata": {},
   "outputs": [],
   "source": [
    "def double(x):\n",
    "    return 2*x\n",
    "\n",
    "xs = [1,2,3,4]\n",
    "twice_xs = [double(x) for x in xs]\n",
    "twice_xs = map(double,xs)\n",
    "list_dobler = partial(map,double)\n",
    "twice_xs = list_dobler(xs)"
   ]
  },
  {
   "cell_type": "code",
   "execution_count": null,
   "metadata": {},
   "outputs": [],
   "source": []
  }
 ],
 "metadata": {
  "kernelspec": {
   "display_name": "Python 3",
   "language": "python",
   "name": "python3"
  },
  "language_info": {
   "codemirror_mode": {
    "name": "ipython",
    "version": 3
   },
   "file_extension": ".py",
   "mimetype": "text/x-python",
   "name": "python",
   "nbconvert_exporter": "python",
   "pygments_lexer": "ipython3",
   "version": "3.7.4"
  }
 },
 "nbformat": 4,
 "nbformat_minor": 2
}
